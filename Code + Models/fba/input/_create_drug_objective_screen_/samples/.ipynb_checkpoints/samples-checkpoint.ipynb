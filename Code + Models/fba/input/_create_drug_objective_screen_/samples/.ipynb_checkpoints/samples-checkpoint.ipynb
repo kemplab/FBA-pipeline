{
 "cells": [
  {
   "cell_type": "code",
   "execution_count": 8,
   "metadata": {},
   "outputs": [],
   "source": [
    "import numpy as np\n",
    "import pandas as pd\n",
    "import glob"
   ]
  },
  {
   "cell_type": "code",
   "execution_count": 9,
   "metadata": {},
   "outputs": [],
   "source": [
    "# samples with vmax values\n",
    "samples = []\n",
    "for fn in glob.glob('../../../../data/vmax/TCGA/no_mutation/*.csv'):\n",
    "    samples.append(fn.split('\\\\')[-1].split('.csv')[0])"
   ]
  },
  {
   "cell_type": "code",
   "execution_count": 10,
   "metadata": {},
   "outputs": [],
   "source": [
    "# initialize\n",
    "sensitive_5fu = []\n",
    "resistant_5fu = []\n",
    "sensitive_cis = []\n",
    "resistant_cis = []\n",
    "sensitive_cpa = []\n",
    "resistant_cpa = []\n",
    "sensitive_dox = []\n",
    "resistant_dox = []"
   ]
  },
  {
   "cell_type": "code",
   "execution_count": 11,
   "metadata": {},
   "outputs": [],
   "source": [
    "# get samples\n",
    "for fn in glob.glob('../../../../data/clinical/TCGA/*.csv'):\n",
    "    if fn.split('\\\\')[-1].split('.csv')[0] in samples:\n",
    "        df = pd.read_csv(fn, index_col=0, header=None)\n",
    "        \n",
    "        # 5fu\n",
    "        if type(df.at['RESPONSE DRUG Fluorouracil',1])==str:\n",
    "            if df.at['RESPONSE DRUG Fluorouracil',1] in ['Complete Response','Partial Response']:\n",
    "                sensitive_5fu.append(fn.split('\\\\')[-1].split('.csv')[0])\n",
    "            elif df.at['RESPONSE DRUG Fluorouracil',1] in ['Stable Disease','Clinical Progressive Disease']:\n",
    "                resistant_5fu.append(fn.split('\\\\')[-1].split('.csv')[0])\n",
    "                \n",
    "        # cis\n",
    "        if type(df.at['RESPONSE DRUG Cisplatin',1])==str:\n",
    "            if df.at['RESPONSE DRUG Cisplatin',1] in ['Complete Response','Partial Response']:\n",
    "                sensitive_cis.append(fn.split('\\\\')[-1].split('.csv')[0])\n",
    "            elif df.at['RESPONSE DRUG Cisplatin',1] in ['Stable Disease','Clinical Progressive Disease']:\n",
    "                resistant_cis.append(fn.split('\\\\')[-1].split('.csv')[0])\n",
    "\n",
    "        # cpa\n",
    "        if type(df.at['RESPONSE DRUG Cyclophosphamide',1])==str:\n",
    "            if df.at['RESPONSE DRUG Cyclophosphamide',1] in ['Complete Response','Partial Response']:\n",
    "                sensitive_cpa.append(fn.split('\\\\')[-1].split('.csv')[0])\n",
    "            elif df.at['RESPONSE DRUG Cyclophosphamide',1] in ['Stable Disease','Clinical Progressive Disease']:\n",
    "                resistant_cpa.append(fn.split('\\\\')[-1].split('.csv')[0])\n",
    "                \n",
    "        # dox\n",
    "        if type(df.at['RESPONSE DRUG Doxorubicin',1])==str:\n",
    "            if df.at['RESPONSE DRUG Doxorubicin',1] in ['Complete Response','Partial Response']:\n",
    "                sensitive_dox.append(fn.split('\\\\')[-1].split('.csv')[0])\n",
    "            elif df.at['RESPONSE DRUG Doxorubicin',1] in ['Stable Disease','Clinical Progressive Disease']:\n",
    "                resistant_dox.append(fn.split('\\\\')[-1].split('.csv')[0])"
   ]
  },
  {
   "cell_type": "code",
   "execution_count": 12,
   "metadata": {},
   "outputs": [],
   "source": [
    "# write sample lists\n",
    "with open('5fu_sensitive.txt','w') as f:\n",
    "    for sample in sensitive_5fu:\n",
    "        f.write('%s\\n' % sample)\n",
    "with open('5fu_resistant.txt','w') as f:\n",
    "    for sample in resistant_5fu:\n",
    "        f.write('%s\\n' % sample)\n",
    "with open('cis_sensitive.txt','w') as f:\n",
    "    for sample in sensitive_cis:\n",
    "        f.write('%s\\n' % sample)\n",
    "with open('cis_resistant.txt','w') as f:\n",
    "    for sample in resistant_cis:\n",
    "        f.write('%s\\n' % sample)\n",
    "with open('cpa_sensitive.txt','w') as f:\n",
    "    for sample in sensitive_cpa:\n",
    "        f.write('%s\\n' % sample)\n",
    "with open('cpa_resistant.txt','w') as f:\n",
    "    for sample in resistant_cpa:\n",
    "        f.write('%s\\n' % sample)\n",
    "with open('dox_sensitive.txt','w') as f:\n",
    "    for sample in sensitive_dox:\n",
    "        f.write('%s\\n' % sample)\n",
    "with open('dox_resistant.txt','w') as f:\n",
    "    for sample in resistant_dox:\n",
    "        f.write('%s\\n' % sample)"
   ]
  },
  {
   "cell_type": "code",
   "execution_count": null,
   "metadata": {},
   "outputs": [],
   "source": []
  }
 ],
 "metadata": {
  "kernelspec": {
   "display_name": "Python 3",
   "language": "python",
   "name": "python3"
  },
  "language_info": {
   "codemirror_mode": {
    "name": "ipython",
    "version": 3
   },
   "file_extension": ".py",
   "mimetype": "text/x-python",
   "name": "python",
   "nbconvert_exporter": "python",
   "pygments_lexer": "ipython3",
   "version": "3.7.3"
  }
 },
 "nbformat": 4,
 "nbformat_minor": 2
}
