{
 "cells": [
  {
   "cell_type": "markdown",
   "metadata": {},
   "source": [
    "# Data Pipeline - ΔG values"
   ]
  },
  {
   "cell_type": "markdown",
   "metadata": {
    "toc": true
   },
   "source": [
    "<h1>Table of Contents<span class=\"tocSkip\"></span></h1>\n",
    "<div class=\"toc\"><ul class=\"toc-item\"><li><span><a href=\"#Python-2.7-Required-Modules\" data-toc-modified-id=\"Python-2.7-Required-Modules-1\"><span class=\"toc-item-num\">1&nbsp;&nbsp;</span>Python 2.7 Required Modules</a></span></li><li><span><a href=\"#Input-Data\" data-toc-modified-id=\"Input-Data-2\"><span class=\"toc-item-num\">2&nbsp;&nbsp;</span>Input Data</a></span></li><li><span><a href=\"#Extract-data\" data-toc-modified-id=\"Extract-data-3\"><span class=\"toc-item-num\">3&nbsp;&nbsp;</span>Extract data</a></span></li></ul></div>"
   ]
  },
  {
   "cell_type": "markdown",
   "metadata": {},
   "source": [
    "## Python 2.7 Required Modules"
   ]
  },
  {
   "cell_type": "code",
   "execution_count": null,
   "metadata": {
    "collapsed": true
   },
   "outputs": [],
   "source": [
    "import json\n",
    "import pandas as pd"
   ]
  },
  {
   "cell_type": "markdown",
   "metadata": {},
   "source": [
    "## Input Data"
   ]
  },
  {
   "cell_type": "markdown",
   "metadata": {},
   "source": [
    "'reactions.json' - Go to https://vmh.uni.lu/_api/reactions/?format=json&page_size=99999, save as 'reactions.json'"
   ]
  },
  {
   "cell_type": "markdown",
   "metadata": {},
   "source": [
    "'reacdeltags.json' - Go to https://vmh.uni.lu/_api/reacdeltags/?format=json&page_size=99999, save as 'reacdeltags.json'"
   ]
  },
  {
   "cell_type": "markdown",
   "metadata": {},
   "source": [
    "## Extract data"
   ]
  },
  {
   "cell_type": "markdown",
   "metadata": {},
   "source": [
    "Load reaction information from vmh.uni.lu API json file"
   ]
  },
  {
   "cell_type": "code",
   "execution_count": null,
   "metadata": {
    "collapsed": true
   },
   "outputs": [],
   "source": [
    "# load data\n",
    "data = json.load(open('input_data/reactions.json'))\n",
    "\n",
    "# extract reaction id's and names\n",
    "reactions = {}\n",
    "for i in range(len(data['results'])):\n",
    "    if data['results'][i]['isHuman'] == True:\n",
    "        reactions[data['results'][i]['rxn_id']] = str(data['results'][i]['abbreviation'])"
   ]
  },
  {
   "cell_type": "markdown",
   "metadata": {},
   "source": [
    "Load ΔG information from vmh.uni.lu API json file"
   ]
  },
  {
   "cell_type": "code",
   "execution_count": null,
   "metadata": {
    "collapsed": true
   },
   "outputs": [],
   "source": [
    "# load data\n",
    "data = json.load(open('input_data/reacdeltags.json'))\n",
    "\n",
    "# extract reaction id's and deltag info\n",
    "deltag = {}\n",
    "for i in range(len(data['results'])):\n",
    "    deltag[data['results'][i]['rxn']] = {}\n",
    "    deltag[data['results'][i]['rxn']]['standard'] = float(data['results'][i]['standardEnergy'])\n",
    "    deltag[data['results'][i]['rxn']]['uncertainty'] = float(data['results'][i]['uncertainty'])\n",
    "    deltag[data['results'][i]['rxn']]['transformed'] = float(data['results'][i]['transformedEnergy'])\n",
    "    deltag[data['results'][i]['rxn']]['min_transformed'] = float(data['results'][i]['minimumTransformed'])\n",
    "    deltag[data['results'][i]['rxn']]['max_transformed'] = float(data['results'][i]['maximumTransformed'])"
   ]
  },
  {
   "cell_type": "markdown",
   "metadata": {},
   "source": [
    "List of reactions to not include"
   ]
  },
  {
   "cell_type": "code",
   "execution_count": null,
   "metadata": {},
   "outputs": [],
   "source": [
    "not_include = ['TRDR']"
   ]
  },
  {
   "cell_type": "markdown",
   "metadata": {},
   "source": [
    "Output results"
   ]
  },
  {
   "cell_type": "code",
   "execution_count": null,
   "metadata": {
    "collapsed": true
   },
   "outputs": [],
   "source": [
    "df = pd.DataFrame(columns=['REACTION','STANDARD [kJ/mol]','UNCERTAINTY [kJ/mol]','TRANSFORMED [kJ/mol]','MIN TRANSFORMED [kJ/mol]','MAX TRANSFORMED [kJ/mol]'])\n",
    "for i in reactions:\n",
    "    if i in deltag:\n",
    "        if reactions[i] not in not_include:\n",
    "            df.loc[i] = [reactions[i],deltag[i]['standard'],deltag[i]['uncertainty'],deltag[i]['transformed'],deltag[i]['min_transformed'],deltag[i]['max_transformed']]\n",
    "        \n",
    "df.to_csv('deltag.csv',index=None)"
   ]
  }
 ],
 "metadata": {
  "kernelspec": {
   "display_name": "Python 2",
   "language": "python",
   "name": "python2"
  },
  "language_info": {
   "codemirror_mode": {
    "name": "ipython",
    "version": 2
   },
   "file_extension": ".py",
   "mimetype": "text/x-python",
   "name": "python",
   "nbconvert_exporter": "python",
   "pygments_lexer": "ipython2",
   "version": "2.7.12"
  },
  "toc": {
   "nav_menu": {},
   "number_sections": true,
   "sideBar": true,
   "skip_h1_title": true,
   "title_cell": "Table of Contents",
   "title_sidebar": "Contents",
   "toc_cell": true,
   "toc_position": {},
   "toc_section_display": true,
   "toc_window_display": false
  }
 },
 "nbformat": 4,
 "nbformat_minor": 2
}
