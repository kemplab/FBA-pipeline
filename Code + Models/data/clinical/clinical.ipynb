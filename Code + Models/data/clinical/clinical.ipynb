{
 "cells": [
  {
   "cell_type": "markdown",
   "metadata": {},
   "source": [
    "# Data Pipeline - Clinical Data"
   ]
  },
  {
   "cell_type": "markdown",
   "metadata": {},
   "source": [
    "## Python 2.7 Required Modules"
   ]
  },
  {
   "cell_type": "code",
   "execution_count": 2,
   "metadata": {},
   "outputs": [],
   "source": [
    "import glob\n",
    "import numpy as np\n",
    "import pandas as pd\n",
    "import re\n",
    "import collections"
   ]
  },
  {
   "cell_type": "markdown",
   "metadata": {},
   "source": [
    "## Input Data"
   ]
  },
  {
   "cell_type": "markdown",
   "metadata": {},
   "source": [
    "### NCI-60 Cell Lines"
   ]
  },
  {
   "cell_type": "markdown",
   "metadata": {},
   "source": [
    "'NCI60.csv' - List of samples with experimental SF2, proliferation rate, and COSMIC ID"
   ]
  },
  {
   "cell_type": "markdown",
   "metadata": {},
   "source": [
    "'Screened_Compounds.xlsx' - Go to https://www.cancerrxgene.org/downloads, choose 'Annotated - Reference - Drugs - Screened compounds'"
   ]
  },
  {
   "cell_type": "markdown",
   "metadata": {},
   "source": [
    "'v17.3_fitted_dose_response.xlsx' - Go to https://www.cancerrxgene.org/downloads, choose 'Drug - Preprocessed - Cell lines/Drugs - log(IC50) and AUC values'"
   ]
  },
  {
   "cell_type": "markdown",
   "metadata": {},
   "source": [
    "'DrugCorrection1.csv' - Go to https://gdisc.bme.gatech.edu/cgi-bin/gdisc/tap5.cgi, download 'DrugCorrection1.csv'. Note that additional changes have been made to this original file."
   ]
  },
  {
   "cell_type": "markdown",
   "metadata": {},
   "source": [
    "### HNSCC Cell Lines"
   ]
  },
  {
   "cell_type": "markdown",
   "metadata": {},
   "source": [
    "'HNSCC.csv' - List of samples with experimental SF2, proliferation rate, and COSMIC ID"
   ]
  },
  {
   "cell_type": "markdown",
   "metadata": {},
   "source": [
    "'Screened_Compounds.xlsx' - Go to https://www.cancerrxgene.org/downloads, choose 'Annotated - Reference - Drugs - Screened compounds'"
   ]
  },
  {
   "cell_type": "markdown",
   "metadata": {},
   "source": [
    "'v17.3_fitted_dose_response.xlsx' - Go to https://www.cancerrxgene.org/downloads, choose 'Drug - Preprocessed - Cell lines/Drugs - log(IC50) and AUC values'"
   ]
  },
  {
   "cell_type": "markdown",
   "metadata": {},
   "source": [
    "'DrugCorrection1.csv' - Go to https://gdisc.bme.gatech.edu/cgi-bin/gdisc/tap5.cgi, download 'DrugCorrection1.csv'. Note that additional changes have been made to this original file."
   ]
  },
  {
   "cell_type": "markdown",
   "metadata": {},
   "source": [
    "### TCGA Samples"
   ]
  },
  {
   "cell_type": "markdown",
   "metadata": {},
   "source": [
    "'pred_rates.csv' - Go to https://github.com/cdiener/proliferation/blob/master/results/pred_rates.csv, download csv file"
   ]
  },
  {
   "cell_type": "markdown",
   "metadata": {},
   "source": [
    "'*ORG*_*COHORT*_bio.sample.tsv' - Go to https://www.synapse.org/#!Synapse:syn2812961, choose '*COHORT*/bio/' folder, download '*ORG*_*COHORT*_bio.sample.tsv'"
   ]
  },
  {
   "cell_type": "markdown",
   "metadata": {},
   "source": [
    "'nationwidechildrens.org_clinical_*drug/patient/radiation*_*COHORT*.txt' - Use the GDC Data Transfer Tool (https://gdc.cancer.gov/access-data/gdc-data-transfer-tool) to download TCGA files listed in the manifest 'manifest.txt':"
   ]
  },
  {
   "cell_type": "raw",
   "metadata": {},
   "source": [
    "gdc-client download -m manifest.txt"
   ]
  },
  {
   "cell_type": "markdown",
   "metadata": {},
   "source": [
    "'DrugCorrection1.csv' - Go to https://gdisc.bme.gatech.edu/cgi-bin/gdisc/tap5.cgi, download 'DrugCorrection1.csv'. Note that additional changes have been made to this original file."
   ]
  },
  {
   "cell_type": "markdown",
   "metadata": {},
   "source": [
    "## NCI-60 Cell Lines"
   ]
  },
  {
   "cell_type": "markdown",
   "metadata": {},
   "source": [
    "Retrieve cell line information, incorporate measured drug IC50's"
   ]
  },
  {
   "cell_type": "code",
   "execution_count": null,
   "metadata": {},
   "outputs": [],
   "source": [
    "# load NCI60 data\n",
    "df = pd.read_csv('input_data/NCI60/NCI60.csv',index_col=0)\n",
    "\n",
    "# load drug data\n",
    "df_data = pd.read_excel('input_data/NCI60/v17.3_fitted_dose_response.xlsx',sheet_name='Sheet1')\n",
    "\n",
    "# load drug list\n",
    "df_drugs = pd.read_excel('input_data/NCI60/Screened_Compounds.xlsx',sheet_name='Sheet1')\n",
    "\n",
    "# load TCGA standardization\n",
    "df_conversion = pd.read_csv('input_data/NCI60/DrugCorrection1.csv',header=None,index_col=0)\n",
    "\n",
    "# initialize drug list\n",
    "druglist = []\n",
    "\n",
    "# iterate over cell lines\n",
    "for cellline in df.index.tolist():\n",
    "    \n",
    "    # get drug responses in cell line\n",
    "    df_data_subset = df_data.loc[df_data['COSMIC_ID'] == df.loc[cellline]['COSMIC']].reset_index(drop=True)\n",
    "    for i in range(df_data_subset.shape[0]):\n",
    "\n",
    "        # drug name\n",
    "        drug_name = df_drugs.loc[df_drugs['Drug ID'].values.tolist().index(int(df_data_subset.loc[i]['DRUG_ID']))]['Drug Name']\n",
    "        if df_conversion.loc[drug_name][1] != 'NOS':\n",
    "        \n",
    "            if df_conversion.loc[drug_name][1] not in druglist:\n",
    "                druglist.append(df_conversion.loc[drug_name][1])\n",
    "                df['IC50 DRUG %s [uM]' % df_conversion.loc[drug_name][1]] = ''\n",
    "\n",
    "            # IC50\n",
    "            df.at[cellline,'IC50 DRUG %s [uM]' % df_conversion.loc[drug_name][1]] = np.exp(df_data_subset.loc[i]['LN_IC50'])\n",
    "\n",
    "# write drug list\n",
    "with open('processing/NCI60/druglist.txt','w') as f:\n",
    "    for drug in druglist:\n",
    "        f.write('%s\\n' % drug)"
   ]
  },
  {
   "cell_type": "markdown",
   "metadata": {},
   "source": [
    "Save NCI-60 samples"
   ]
  },
  {
   "cell_type": "code",
   "execution_count": null,
   "metadata": {},
   "outputs": [],
   "source": [
    "# remove doubling time and COSMIC ID\n",
    "df = df.drop(['DOUBLING [hr]', 'COSMIC'], axis=1)\n",
    "\n",
    "# iterate over celllines\n",
    "for cellline in df.index.tolist():\n",
    "    \n",
    "    # save data\n",
    "    df.loc[cellline].to_csv('NCI60/%s.csv' % cellline.replace('/','-'))"
   ]
  },
  {
   "cell_type": "markdown",
   "metadata": {},
   "source": [
    "## HNSCC Cell Lines"
   ]
  },
  {
   "cell_type": "markdown",
   "metadata": {},
   "source": [
    "Retrieve cell line information, incorporate measured drug IC50's"
   ]
  },
  {
   "cell_type": "code",
   "execution_count": null,
   "metadata": {},
   "outputs": [],
   "source": [
    "# load HNSCC data\n",
    "df = pd.read_csv('input_data/HNSCC/HNSCC.csv',index_col=0)\n",
    "\n",
    "# load drug data\n",
    "df_data = pd.read_csv('input_data/HNSCC/v17.3_fitted_dose_response.xlsx',sheet_name='Sheet1')\n",
    "\n",
    "# load drug list\n",
    "df_drugs = pd.read_table('input_data/HNSCC/Screened_Compounds.xlsx',sheet_name='Sheet1')\n",
    "\n",
    "# load TCGA standardization\n",
    "df_conversion = pd.read_csv('input_data/HNSCC/DrugCorrection1.csv',header=None,index_col=0)\n",
    "\n",
    "# initialize drug list\n",
    "druglist = []\n",
    "\n",
    "# iterate over cell lines\n",
    "for cellline in df.index.tolist():\n",
    "    \n",
    "    # get drug responses in cell line\n",
    "    df_data_subset = df_data.loc[df_data['COSMIC_ID'] == df.loc[cellline]['COSMIC']].reset_index(drop=True)\n",
    "    for i in range(df_data_subset.shape[0]):\n",
    "\n",
    "        # drug name\n",
    "        drug_name = df_drugs.loc[df_drugs['Drug ID'].values.tolist().index(int(df_data_subset.loc[i]['DRUG_ID']))]['Drug Name']\n",
    "        if df_conversion.loc[drug_name][1] != 'NOS':\n",
    "        \n",
    "            if df_conversion.loc[drug_name][1] not in druglist:\n",
    "                druglist.append(df_conversion.loc[drug_name][1])\n",
    "                df['IC50 DRUG %s [uM]' % df_conversion.loc[drug_name][1]] = ''\n",
    "\n",
    "            # IC50\n",
    "            df.at[cellline,'IC50 DRUG %s [uM]' % df_conversion.loc[drug_name][1]] = np.exp(df_data_subset.loc[i]['LN_IC50'])\n",
    "\n",
    "# write drug list\n",
    "with open('processing/HNSCC/druglist.txt','w') as f:\n",
    "    for drug in druglist:\n",
    "        f.write('%s\\n' % drug)"
   ]
  },
  {
   "cell_type": "markdown",
   "metadata": {},
   "source": [
    "Save HNSCC samples"
   ]
  },
  {
   "cell_type": "code",
   "execution_count": null,
   "metadata": {},
   "outputs": [],
   "source": [
    "# remove doubling time and COSMIC ID\n",
    "df = df.drop(['DOUBLING [hr]', 'COSMIC'], axis=1)\n",
    "\n",
    "# iterate over celllines\n",
    "for cellline in df.index.tolist():\n",
    "    \n",
    "    # save data\n",
    "    df.loc[cellline].to_csv('HNSCC/%s.csv' % cellline.replace('/','-'))"
   ]
  },
  {
   "cell_type": "markdown",
   "metadata": {},
   "source": [
    "## TCGA Samples"
   ]
  },
  {
   "cell_type": "markdown",
   "metadata": {},
   "source": [
    "Find clinical attributes"
   ]
  },
  {
   "cell_type": "code",
   "execution_count": 4,
   "metadata": {
    "scrolled": true
   },
   "outputs": [
    {
     "data": {
      "text/plain": [
       "M0          906\n",
       "MX          163\n",
       "M1           22\n",
       "cM0 (i+)      6\n",
       "Name: pathologic_M, dtype: int64"
      ]
     },
     "execution_count": 4,
     "metadata": {},
     "output_type": "execute_result"
    }
   ],
   "source": [
    "# find clinical attributes\n",
    "#df = pd.read_table('../../../qFlux-files/clinical/input_data/TCGA/nationwidechildrens.org_clinical_patient_acc.txt',skiprows=[0,2],header=0)\n",
    "#df['cohort'] = 'acc'\n",
    "#patient_files = glob.glob('../../../qFlux-files/clinical/input_data/TCGA/nationwidechildrens.org_clinical_patient_*.txt')\n",
    "#for fn in patient_files[1:]:  \n",
    "#    df_new = pd.read_table(fn,skiprows=[0,2],header=0)\n",
    "#    df_new['cohort'] = fn.split('_')[-1].split('.')[0]\n",
    "#    df = pd.concat([df,df_new])\n",
    "#    \n",
    "#cat = []\n",
    "#val = []\n",
    "#for col in df.columns.tolist():\n",
    "#    cat.append(col)\n",
    "#    val.append(np.sum(df[col].value_counts().values))\n",
    "#ind = np.argsort(val)[::-1]\n",
    "#cat = [cat[i] for i in ind]\n",
    "#val = [val[i] for i in ind]\n",
    "#for i in range(len(cat)):\n",
    "#    print val[i], cat[i]\n",
    "\n",
    "df[df['cohort'] == 'brca']['pathologic_M'].value_counts()"
   ]
  },
  {
   "cell_type": "markdown",
   "metadata": {},
   "source": [
    "Load data from patient and sample biotab files"
   ]
  },
  {
   "cell_type": "code",
   "execution_count": 13,
   "metadata": {},
   "outputs": [],
   "source": [
    "# initialize sample dataframe\n",
    "data = pd.DataFrame(columns=['SAMPLE','PATIENT','COHORT','TYPE','AGE','GENDER','RACE','ETHNICITY','HISTOLOGIC','LOCATION','GRADE','CLINICAL STAGE','CLINICAL T','CLINICAL N','CLINICAL M','PATHOLOGIC STAGE','PATHOLOGIC T','PATHOLOGIC N','PATHOLOGIC M','SMOKING HISTORY','PACK YEARS','ALCOHOL DAYS PER WEEK','ALCOHOL PER DAY','HPV P16','HPV ISH','KARNOFSKY','DAY_COLLECTION'])\n",
    "\n",
    "# iterate over patient files\n",
    "patient_files = glob.glob('../../../qFlux-files/clinical/input_data/TCGA/nationwidechildrens.org_clinical_patient_*.txt')\n",
    "for fn in patient_files:\n",
    "    \n",
    "    # load file\n",
    "    df_patient = pd.read_table(fn,skiprows=[0,2],header=0)\n",
    "    \n",
    "    # cohort\n",
    "    cohort = fn.split('_')[-1].split('.')[0]\n",
    "    \n",
    "    # load associated sample file\n",
    "    if cohort == 'laml':\n",
    "        df_sample = pd.read_table('../../../qFlux-files/clinical/input_data/TCGA/genome.wustl.edu_LAML_bio.sample.tsv')\n",
    "    else:\n",
    "        df_sample = pd.read_table('../../../qFlux-files/clinical/input_data/TCGA/nationwidechildrens.org_%s_bio.sample.tsv' % cohort.upper())\n",
    "        \n",
    "    # iterate over patients\n",
    "    for patient in df_patient['bcr_patient_barcode'].values.tolist():\n",
    "        \n",
    "        # age\n",
    "        if df_patient[df_patient['bcr_patient_barcode'] == patient]['age_at_initial_pathologic_diagnosis'].tolist()[0] != '[Not Available]':\n",
    "            age = int(df_patient[df_patient['bcr_patient_barcode'] == patient]['age_at_initial_pathologic_diagnosis'].tolist()[0])\n",
    "        else:\n",
    "            age = None\n",
    "        \n",
    "        # gender\n",
    "        gender = df_patient[df_patient['bcr_patient_barcode'] == patient]['gender'].tolist()[0]\n",
    "        \n",
    "        # race\n",
    "        if df_patient[df_patient['bcr_patient_barcode'] == patient]['race'].tolist()[0] in ['WHITE','BLACK OR AFRICAN AMERICAN','ASIAN','AMERICAN INDIAN OR ALASKA NATIVE','NATIVE HAWAIIAN OR OTHER PACIFIC ISLANDER']:\n",
    "            race = df_patient[df_patient['bcr_patient_barcode'] == patient]['race'].tolist()[0]\n",
    "        else:\n",
    "            race = None\n",
    "  \n",
    "        # ethnicity\n",
    "        if df_patient[df_patient['bcr_patient_barcode'] == patient]['ethnicity'].tolist()[0] in ['NOT HISPANIC OR LATINO','HISPANIC OR LATINO']:\n",
    "            ethnicity = df_patient[df_patient['bcr_patient_barcode'] == patient]['ethnicity'].tolist()[0]\n",
    "        else:\n",
    "            ethnicity = None\n",
    "            \n",
    "        # histologic\n",
    "        if 'histological_type' in df_patient.columns.values.tolist():\n",
    "            if df_patient[df_patient['bcr_patient_barcode'] == patient]['histological_type'].tolist()[0][0] != '[':\n",
    "                histologic = df_patient[df_patient['bcr_patient_barcode'] == patient]['histological_type'].tolist()[0]\n",
    "            else:\n",
    "                histologic = None\n",
    "        else:\n",
    "            histologic = None\n",
    "            \n",
    "        # location\n",
    "        if 'anatomic_neoplasm_subdivision' in df_patient.columns.values.tolist():\n",
    "            if df_patient[df_patient['bcr_patient_barcode'] == patient]['anatomic_neoplasm_subdivision'].tolist()[0][0] != '[':\n",
    "                location = df_patient[df_patient['bcr_patient_barcode'] == patient]['anatomic_neoplasm_subdivision'].tolist()[0]\n",
    "            else:\n",
    "                location = None\n",
    "        else:\n",
    "            location = None\n",
    "        \n",
    "        # grade\n",
    "        if 'neoplasm_histologic_grade' in df_patient.columns.values.tolist():\n",
    "            if df_patient[df_patient['bcr_patient_barcode'] == patient]['neoplasm_histologic_grade'].tolist()[0][0] != '[':\n",
    "                grade = df_patient[df_patient['bcr_patient_barcode'] == patient]['neoplasm_histologic_grade'].tolist()[0]\n",
    "            else:\n",
    "                grade = None\n",
    "        else:\n",
    "            grade = None\n",
    "        \n",
    "        # clinical stage\n",
    "        if 'clinical_stage' in df_patient.columns.values.tolist():\n",
    "            if df_patient[df_patient['bcr_patient_barcode'] == patient]['clinical_stage'].tolist()[0][0] != '[':\n",
    "                clinical_stage = df_patient[df_patient['bcr_patient_barcode'] == patient]['clinical_stage'].tolist()[0]\n",
    "            else:\n",
    "                clinical_stage = None\n",
    "        else:\n",
    "            clinical_stage = None\n",
    "            \n",
    "        # clinical T\n",
    "        if 'clinical_T' in df_patient.columns.values.tolist():    \n",
    "            if df_patient[df_patient['bcr_patient_barcode'] == patient]['clinical_T'].tolist()[0][0] != '[':\n",
    "                clinical_T = df_patient[df_patient['bcr_patient_barcode'] == patient]['clinical_T'].tolist()[0]\n",
    "            else:\n",
    "                clinical_T = None\n",
    "        else:\n",
    "            clinical_T = None\n",
    "            \n",
    "        # clinical N\n",
    "        if 'clinical_N' in df_patient.columns.values.tolist():\n",
    "            if df_patient[df_patient['bcr_patient_barcode'] == patient]['clinical_N'].tolist()[0][0] != '[':\n",
    "                clinical_N = df_patient[df_patient['bcr_patient_barcode'] == patient]['clinical_N'].tolist()[0]\n",
    "            else:\n",
    "                clinical_N = None\n",
    "        else:\n",
    "            clinical_N = None\n",
    "            \n",
    "        # clinical M\n",
    "        if 'clinical_M' in df_patient.columns.values.tolist():\n",
    "            if df_patient[df_patient['bcr_patient_barcode'] == patient]['clinical_M'].tolist()[0][0] != '[':\n",
    "                clinical_M = df_patient[df_patient['bcr_patient_barcode'] == patient]['clinical_M'].tolist()[0]\n",
    "            else:\n",
    "                clinical_M = None\n",
    "        else:\n",
    "            clinical_M = None\n",
    "            \n",
    "        # pathologic stage\n",
    "        if 'pathologic_stage' in df_patient.columns.values.tolist():\n",
    "            if df_patient[df_patient['bcr_patient_barcode'] == patient]['pathologic_stage'].tolist()[0][0] != '[':\n",
    "                pathologic_stage = df_patient[df_patient['bcr_patient_barcode'] == patient]['pathologic_stage'].tolist()[0]\n",
    "            else:\n",
    "                pathologic_stage = None\n",
    "        else:\n",
    "            pathologic_stage = None\n",
    "            \n",
    "        # pathologic T\n",
    "        if 'pathologic_T' in df_patient.columns.values.tolist():\n",
    "            if df_patient[df_patient['bcr_patient_barcode'] == patient]['pathologic_T'].tolist()[0][0] != '[':\n",
    "                pathologic_T = df_patient[df_patient['bcr_patient_barcode'] == patient]['pathologic_T'].tolist()[0]\n",
    "            else:\n",
    "                pathologic_T = None\n",
    "        else:\n",
    "            pathologic_T = None\n",
    "            \n",
    "        # pathologic N\n",
    "        if 'pathologic_N' in df_patient.columns.values.tolist():\n",
    "            if df_patient[df_patient['bcr_patient_barcode'] == patient]['pathologic_N'].tolist()[0][0] != '[':\n",
    "                pathologic_N = df_patient[df_patient['bcr_patient_barcode'] == patient]['pathologic_N'].tolist()[0]\n",
    "            else:\n",
    "                pathologic_N = None\n",
    "        else:\n",
    "            pathologic_N = None\n",
    "            \n",
    "        # pathologic M\n",
    "        if 'pathologic_M' in df_patient.columns.values.tolist():\n",
    "            if df_patient[df_patient['bcr_patient_barcode'] == patient]['pathologic_M'].tolist()[0][0] != '[':\n",
    "                pathologic_M = df_patient[df_patient['bcr_patient_barcode'] == patient]['pathologic_M'].tolist()[0]\n",
    "            else:\n",
    "                pathologic_M = None\n",
    "        else:\n",
    "            pathologic_M = None\n",
    "        \n",
    "        # smoking history\n",
    "        if 'tobacco_smoking_history' in df_patient.columns.values.tolist():\n",
    "            if df_patient[df_patient['bcr_patient_barcode'] == patient]['tobacco_smoking_history'].tolist()[0][0] != '[':\n",
    "                if int(df_patient[df_patient['bcr_patient_barcode'] == patient]['tobacco_smoking_history'].tolist()[0]) == 1:\n",
    "                    smoking_history = 'LIFELONG NON-SMOKER'\n",
    "                elif int(df_patient[df_patient['bcr_patient_barcode'] == patient]['tobacco_smoking_history'].tolist()[0]) == 2:\n",
    "                    smoking_history = 'CURRENT SMOKER'\n",
    "                elif int(df_patient[df_patient['bcr_patient_barcode'] == patient]['tobacco_smoking_history'].tolist()[0]) == 3:\n",
    "                    smoking_history = 'REFORMED > 15 YRS'\n",
    "                elif int(df_patient[df_patient['bcr_patient_barcode'] == patient]['tobacco_smoking_history'].tolist()[0]) == 4:\n",
    "                    smoking_history = 'REFORMED <= 15 YRS'\n",
    "                elif int(df_patient[df_patient['bcr_patient_barcode'] == patient]['tobacco_smoking_history'].tolist()[0]) == 5:\n",
    "                    smoking_history = 'REFORMED DURATION UNKNOWN'\n",
    "            else:\n",
    "                smoking_history = None\n",
    "        else:\n",
    "            smoking_history = None\n",
    "        \n",
    "        # pack years\n",
    "        if 'number_pack_years_smoked' in df_patient.columns.values.tolist():\n",
    "            if df_patient[df_patient['bcr_patient_barcode'] == patient]['number_pack_years_smoked'].tolist()[0][0] != '[':\n",
    "                pack_years = float(df_patient[df_patient['bcr_patient_barcode'] == patient]['number_pack_years_smoked'].tolist()[0])\n",
    "            else:\n",
    "                pack_years = None\n",
    "        else:\n",
    "            pack_years = None\n",
    "        \n",
    "        # alcohol days per week\n",
    "        if 'frequency_of_alcohol_consumption' in df_patient.columns.values.tolist():\n",
    "            if df_patient[df_patient['bcr_patient_barcode'] == patient]['frequency_of_alcohol_consumption'].tolist()[0][0] != '[':\n",
    "                alcohol_days_per_week = float(df_patient[df_patient['bcr_patient_barcode'] == patient]['frequency_of_alcohol_consumption'].tolist()[0])\n",
    "            else:\n",
    "                alcohol_days_per_week = None\n",
    "        else:\n",
    "            alcohol_days_per_week = None\n",
    "        \n",
    "        # alcohol per day\n",
    "        if 'amount_of_alcohol_consumption_per_day' in df_patient.columns.values.tolist():\n",
    "            if df_patient[df_patient['bcr_patient_barcode'] == patient]['amount_of_alcohol_consumption_per_day'].tolist()[0][0] != '[':\n",
    "                alcohol_per_day = float(df_patient[df_patient['bcr_patient_barcode'] == patient]['amount_of_alcohol_consumption_per_day'].tolist()[0])\n",
    "            else:\n",
    "                alcohol_per_day = None\n",
    "        else:\n",
    "            alcohol_per_day = None\n",
    "        \n",
    "        # HPV p16\n",
    "        if 'hpv_status_by_p16_testing' in df_patient.columns.values.tolist():\n",
    "            if df_patient[df_patient['bcr_patient_barcode'] == patient]['hpv_status_by_p16_testing'].tolist()[0][0] != '[':\n",
    "                hpv_p16 = df_patient[df_patient['bcr_patient_barcode'] == patient]['hpv_status_by_p16_testing'].tolist()[0].upper()\n",
    "            else:\n",
    "                hpv_p16 = None\n",
    "        else:\n",
    "            hpv_p16 = None\n",
    "        \n",
    "        # HPV ISH\n",
    "        if 'hpv_status_by_ish_testing' in df_patient.columns.values.tolist():\n",
    "            if df_patient[df_patient['bcr_patient_barcode'] == patient]['hpv_status_by_ish_testing'].tolist()[0][0] != '[':\n",
    "                hpv_ish = df_patient[df_patient['bcr_patient_barcode'] == patient]['hpv_status_by_ish_testing'].tolist()[0].upper()\n",
    "            else:\n",
    "                hpv_ish = None\n",
    "        else:\n",
    "            hpv_ish = None\n",
    "        \n",
    "        # karnofsky\n",
    "        if 'karnofsky_performance_score' in df_patient.columns.values.tolist():\n",
    "            if df_patient[df_patient['bcr_patient_barcode'] == patient]['karnofsky_performance_score'].tolist()[0][0] != '[':\n",
    "                karnofsky = int(df_patient[df_patient['bcr_patient_barcode'] == patient]['karnofsky_performance_score'].tolist()[0])\n",
    "            else:\n",
    "                karnofsky = None\n",
    "        else:\n",
    "            karnofsky = None\n",
    "        \n",
    "        # find associated rows in sample file\n",
    "        for i in range(df_sample.shape[0]):\n",
    "            if df_sample.loc[i]['sample'][:12] == patient:\n",
    "                \n",
    "                # day of collection\n",
    "                try:\n",
    "                    day_collection = int(df_sample.loc[i]['days_to_collection'])\n",
    "                except:\n",
    "                    day_collection = None\n",
    "                \n",
    "                # if tumor\n",
    "                if df_sample.loc[i]['sample_type'] == 'Primary Tumor':\n",
    "                    data.loc[data.shape[0]] = [df_sample.loc[i]['sample'],patient,cohort.upper(),'TUMOR',age,gender,race,ethnicity,histologic,location,grade,clinical_stage,clinical_T,clinical_N,clinical_M,pathologic_stage,pathologic_T,pathologic_N,pathologic_M,smoking_history,pack_years,alcohol_days_per_week,alcohol_per_day,hpv_p16,hpv_ish,karnofsky,day_collection]\n",
    "                \n",
    "                # if normal\n",
    "                elif df_sample.loc[i]['sample_type'] in ['Blood Derived Normal','Solid Tissue Normal']:\n",
    "                    data.loc[data.shape[0]] = [df_sample.loc[i]['sample'],patient,cohort.upper(),'NORMAL',age,gender,race,ethnicity,histologic,location,grade,clinical_stage,clinical_T,clinical_N,clinical_M,pathologic_stage,pathologic_T,pathologic_N,pathologic_M,smoking_history,pack_years,alcohol_days_per_week,alcohol_per_day,hpv_p16,hpv_ish,karnofsky,day_collection]"
   ]
  },
  {
   "cell_type": "markdown",
   "metadata": {},
   "source": [
    "Incorporate estimated proliferation rates from Diener et al."
   ]
  },
  {
   "cell_type": "code",
   "execution_count": 14,
   "metadata": {},
   "outputs": [],
   "source": [
    "# add proliferation column in data\n",
    "data['PROLIFERATION [1/hr]'] = np.nan\n",
    "\n",
    "# load proliferation rate data\n",
    "df_proliferation = pd.read_csv('../../../qFlux-files/clinical/input_data/TCGA/pred_rates.csv')\n",
    "\n",
    "# iterate over samples\n",
    "for a in range(data.shape[0]):\n",
    "    \n",
    "    # if proliferation value available for patient\n",
    "    if data.loc[a]['PATIENT'] in df_proliferation['patient_barcode'].values.tolist():\n",
    "        \n",
    "        # initialize list of possible values\n",
    "        values = []\n",
    "        \n",
    "        # find sample in proliferation file\n",
    "        df_proliferation_subset = df_proliferation.loc[df_proliferation['patient_barcode'] == data.loc[a]['PATIENT']].reset_index(drop=True)\n",
    "        for i in range(df_proliferation_subset.shape[0]):\n",
    "                \n",
    "            # match tumor=tumor or normal=normal\n",
    "            if ((data.loc[a]['TYPE'] == 'TUMOR') and (df_proliferation_subset.loc[i]['tumor'] == True)) or ((data.loc[a]['TYPE'] == 'NORMAL') and (df_proliferation_subset.loc[i]['tumor'] == False)):\n",
    "                values.append(df_proliferation_subset.loc[i]['rates'])\n",
    "                    \n",
    "        # if at least one value and all are positive, add to data\n",
    "        if len(values) > 0:\n",
    "            if np.min(values) > 0:\n",
    "                data.at[a,'PROLIFERATION [1/hr]'] = np.mean(values)"
   ]
  },
  {
   "cell_type": "markdown",
   "metadata": {},
   "source": [
    "Incorporate measured radiation response"
   ]
  },
  {
   "cell_type": "code",
   "execution_count": 15,
   "metadata": {},
   "outputs": [],
   "source": [
    "# add radiation response column to data\n",
    "data['RESPONSE RADIATION'] = ''\n",
    "data['COLLECTION BEFORE OR AFTER RADIATION'] = ''\n",
    "\n",
    "# iterate over radiation files\n",
    "biotabs = glob.glob('../../../qFlux-files/clinical/input_data/TCGA/nationwidechildrens.org_clinical_radiation_*.txt')\n",
    "for fn in biotabs:\n",
    "\n",
    "    # load biotab file\n",
    "    df_biotab = pd.read_table(fn,skiprows=[0,2],header=0)\n",
    "    \n",
    "    # get all patient barcodes in file\n",
    "    barcodes = list(set(df_biotab['bcr_patient_barcode'].values.tolist()))\n",
    "    \n",
    "    # iterate over patients\n",
    "    for barcode in barcodes:\n",
    "    \n",
    "        # gather radiation data from all patient treatments on primary tumor field\n",
    "        course = []\n",
    "        start = []\n",
    "        response = []\n",
    "        \n",
    "        for i in range(df_biotab.shape[0]):\n",
    "            if (df_biotab.loc[i]['bcr_patient_barcode'] == barcode) and (df_biotab.loc[i]['anatomic_treatment_site'] == 'Primary Tumor Field'):\n",
    "                try:\n",
    "                    course.append(int(df_biotab.loc[i]['course_number']))\n",
    "                except:\n",
    "                    course.append(df_biotab.loc[i]['course_number'])\n",
    "                try:\n",
    "                    start.append(int(df_biotab.loc[i]['days_to_radiation_therapy_start']))\n",
    "                except:\n",
    "                    start.append(df_biotab.loc[i]['days_to_radiation_therapy_start'])\n",
    "                response.append(df_biotab.loc[i]['measure_of_response'])\n",
    "        \n",
    "        # if only one treatment\n",
    "        if len(response) == 1:\n",
    "            if response[0] not in ['[Not Available]','[Unknown]','[Not Applicable]']:\n",
    "                \n",
    "                # find correct samples\n",
    "                for a in range(data.shape[0]):\n",
    "                    if (data.loc[a]['PATIENT'] == barcode) and (data.loc[a]['TYPE'] == 'TUMOR'):\n",
    "                        data.at[a,'RESPONSE RADIATION'] = response[0]\n",
    "                        if type(start[0]) == int:\n",
    "                            if data.loc[a]['DAY_COLLECTION'] < start[0]:\n",
    "                                data.at[a,'COLLECTION BEFORE OR AFTER RADIATION'] = 'BEFORE'\n",
    "                            elif data.loc[a]['DAY_COLLECTION'] > start[0]:\n",
    "                                data.at[a,'COLLECTION BEFORE OR AFTER RADIATION'] = 'AFTER'\n",
    "        \n",
    "        # if multiple treatments\n",
    "        elif len(response) > 1:\n",
    "        \n",
    "            # if course number 1 is available\n",
    "            if 1 in course:\n",
    "                \n",
    "                # get all responses for course number 1\n",
    "                responses = []\n",
    "                starts = []\n",
    "                for i in range(len(response)):\n",
    "                    if (course[i] == 1) and (response[i] not in ['[Not Available]','[Unknown]','[Not Applicable]']) and (response[i] not in responses):\n",
    "                        responses.append(response[i])\n",
    "                        starts.append(start[i])\n",
    "                    \n",
    "                # if only one response, return response\n",
    "                if len(responses) == 1:\n",
    "                    \n",
    "                    # find correct samples\n",
    "                    for a in range(data.shape[0]):\n",
    "                        if (data.loc[a]['PATIENT'] == barcode) and (data.loc[a]['TYPE'] == 'TUMOR'):\n",
    "                            data.at[a,'RESPONSE RADIATION'] = responses[0]\n",
    "                            if type(starts[0]) == int:\n",
    "                                if data.loc[a]['DAY_COLLECTION'] < starts[0]:\n",
    "                                    data.at[a,'COLLECTION BEFORE OR AFTER RADIATION'] = 'BEFORE'\n",
    "                                elif data.loc[a]['DAY_COLLECTION'] > starts[0]:\n",
    "                                    data.at[a,'COLLECTION BEFORE OR AFTER RADIATION'] = 'AFTER'\n",
    "            \n",
    "            # if no course numbers available, but at least one start date is available\n",
    "            elif (min(course) in ['[Not Available]','[Unknown]','[Not Applicable]']) and (min(start) not in ['[Not Available]','[Unknown]','[Not Applicable]']):\n",
    "                \n",
    "                # get all responses for smallest start date\n",
    "                responses = []\n",
    "                starts = []\n",
    "                for i in range(len(response)):\n",
    "                    if (start[i] == min(start)) and (response[i] not in ['[Not Available]','[Unknown]','[Not Applicable]']) and (response[i] not in responses):\n",
    "                        responses.append(response[i])\n",
    "                        starts.append(start[i])\n",
    "                    \n",
    "                # if only one response, return response\n",
    "                if len(responses) == 1:\n",
    "                    \n",
    "                    # find correct samples\n",
    "                    for a in range(data.shape[0]):\n",
    "                        if (data.loc[a]['PATIENT'] == barcode) and (data.loc[a]['TYPE'] == 'TUMOR'):\n",
    "                            data.at[a,'RESPONSE RADIATION'] = responses[0]\n",
    "                            if type(starts[0]) == int:\n",
    "                                if data.loc[a]['DAY_COLLECTION'] < starts[0]:\n",
    "                                    data.at[a,'COLLECTION BEFORE OR AFTER RADIATION'] = 'BEFORE'\n",
    "                                elif data.loc[a]['DAY_COLLECTION'] > starts[0]:\n",
    "                                    data.at[a,'COLLECTION BEFORE OR AFTER RADIATION'] = 'AFTER'"
   ]
  },
  {
   "cell_type": "markdown",
   "metadata": {},
   "source": [
    "Incorporate measured drug responses"
   ]
  },
  {
   "cell_type": "code",
   "execution_count": 16,
   "metadata": {},
   "outputs": [
    {
     "name": "stdout",
     "output_type": "stream",
     "text": [
      "DLBC does not have drug measure of response\n",
      "KICH does not have drug regimen number\n"
     ]
    }
   ],
   "source": [
    "# load TCGA drug name standardization\n",
    "df_conversion = pd.read_csv('../../../qFlux-files/clinical/input_data/TCGA/DrugCorrection1.csv',header=None,index_col=0)\n",
    "\n",
    "# initialize data dictionary\n",
    "drug_data = {}\n",
    "\n",
    "# iterate over drug files\n",
    "biotabs = glob.glob('../../../qFlux-files/clinical/input_data/TCGA/nationwidechildrens.org_clinical_drug_*.txt')\n",
    "for fn in biotabs:\n",
    "    \n",
    "    # cohort\n",
    "    cohort = fn.split('_')[-1].split('.')[0]\n",
    "    \n",
    "    # load biotab file\n",
    "    df_biotab = pd.read_table(fn,skiprows=[0,2],header=0)\n",
    "    \n",
    "    # determine if \"measure_of_response\" is in biotab file\n",
    "    if 'measure_of_response' in df_biotab.columns.tolist():\n",
    "        \n",
    "        # determine if \"regimen_number\" is in biotab file\n",
    "        if 'regimen_number' not in df_biotab.columns.tolist():\n",
    "            print('%s does not have drug regimen number' % cohort.upper())\n",
    "        \n",
    "        # get all patient barcodes in file\n",
    "        barcodes = list(set(df_biotab['bcr_patient_barcode'].values.tolist()))\n",
    "        \n",
    "        # iterate over patients\n",
    "        for barcode in barcodes:\n",
    "            \n",
    "            # initialize patient dictionary\n",
    "            patient_data = {}\n",
    "            \n",
    "            # gather patient data\n",
    "            for i in range(df_biotab.shape[0]):\n",
    "                if (df_biotab.loc[i]['bcr_patient_barcode'] == barcode):\n",
    "                    \n",
    "                    # if drug not NOS\n",
    "                    if df_conversion.loc[df_biotab.loc[i]['drug_name']][1] != 'NOS':\n",
    "                    \n",
    "                        # if drug not already in patient dictionary\n",
    "                        if df_conversion.loc[df_biotab.loc[i]['drug_name']][1] not in patient_data:\n",
    "                            patient_data[df_conversion.loc[df_biotab.loc[i]['drug_name']][1]] = {'course':[],'start':[],'response':[]}\n",
    "                \n",
    "                        # add data to patient dictionary\n",
    "                        if 'regimen_number' in df_biotab.columns.tolist():\n",
    "                            try:\n",
    "                                patient_data[df_conversion.loc[df_biotab.loc[i]['drug_name']][1]]['course'].append(int(df_biotab.loc[i]['regimen_number']))\n",
    "                            except:\n",
    "                                patient_data[df_conversion.loc[df_biotab.loc[i]['drug_name']][1]]['course'].append(df_biotab.loc[i]['regimen_number'])\n",
    "                        else:\n",
    "                            patient_data[df_conversion.loc[df_biotab.loc[i]['drug_name']][1]]['course'].append('[Not Available]')         \n",
    "                        try:\n",
    "                            patient_data[df_conversion.loc[df_biotab.loc[i]['drug_name']][1]]['start'].append(int(df_biotab.loc[i]['days_to_drug_therapy_start']))\n",
    "                        except:\n",
    "                            patient_data[df_conversion.loc[df_biotab.loc[i]['drug_name']][1]]['start'].append(df_biotab.loc[i]['days_to_drug_therapy_start'])\n",
    "                        patient_data[df_conversion.loc[df_biotab.loc[i]['drug_name']][1]]['response'].append(df_biotab.loc[i]['measure_of_response'])\n",
    "            \n",
    "            # iterate over drugs in patient dictionary\n",
    "            for drug in patient_data:\n",
    "            \n",
    "                # if only one treatment\n",
    "                if len(patient_data[drug]['response']) == 1:\n",
    "                    if patient_data[drug]['response'][0] not in ['[Not Available]','[Unknown]','[Not Applicable]']:\n",
    "                        \n",
    "                        # if drug not in dictionary\n",
    "                        if drug not in drug_data:\n",
    "                            drug_data[drug] = {'barcode':[],'cohort':[],'response':[]}\n",
    "                        \n",
    "                        # add data to dictionary\n",
    "                        drug_data[drug]['barcode'].append(barcode)\n",
    "                        drug_data[drug]['cohort'].append(cohort)\n",
    "                        drug_data[drug]['response'].append(patient_data[drug]['response'][0])\n",
    "                    \n",
    "                # if multiple treatments\n",
    "                elif len(patient_data[drug]['response']) > 1:\n",
    "                \n",
    "                    # if course number 1 is available\n",
    "                    if 1 in patient_data[drug]['course']:\n",
    "                        \n",
    "                        # get all responses for course number 1\n",
    "                        responses = []\n",
    "                        for i in range(len(patient_data[drug]['response'])):\n",
    "                            if (patient_data[drug]['course'][i] == 1) and (patient_data[drug]['response'][i] not in ['[Not Available]','[Unknown]','[Not Applicable]']) and (patient_data[drug]['response'][i] not in responses):\n",
    "                                responses.append(patient_data[drug]['response'][i])\n",
    "                            \n",
    "                        # if only one response, return response\n",
    "                        if len(responses) == 1:\n",
    "                            \n",
    "                            # if drug not in dictionary\n",
    "                            if drug not in drug_data:\n",
    "                                drug_data[drug] = {'barcode':[],'cohort':[],'response':[]}\n",
    "                            \n",
    "                            # add data to dictionary\n",
    "                            drug_data[drug]['barcode'].append(barcode)\n",
    "                            drug_data[drug]['cohort'].append(cohort)\n",
    "                            drug_data[drug]['response'].append(responses[0])\n",
    "                    \n",
    "                    # if no course numbers available, but at least one start date is available\n",
    "                    elif (min(patient_data[drug]['course']) in ['[Not Available]','[Unknown]','[Not Applicable]']) and (min(patient_data[drug]['start']) not in ['[Not Available]','[Unknown]','[Not Applicable]']):\n",
    "                        \n",
    "                        # get all responses for smallest start date\n",
    "                        responses = []\n",
    "                        for i in range(len(patient_data[drug]['response'])):\n",
    "                            if (patient_data[drug]['start'][i] == min(patient_data[drug]['start'])) and (patient_data[drug]['response'][i] not in ['[Not Available]','[Unknown]','[Not Applicable]']) and (patient_data[drug]['response'][i] not in responses):\n",
    "                                responses.append(patient_data[drug]['response'][i])\n",
    "                            \n",
    "                        # if only one response, return response\n",
    "                        if len(responses) == 1:\n",
    "                            \n",
    "                            # if drug not in dictionary\n",
    "                            if drug not in drug_data:\n",
    "                                drug_data[drug] = {'barcode':[],'cohort':[],'response':[]}\n",
    "                            \n",
    "                            # add data to dictionary\n",
    "                            drug_data[drug]['barcode'].append(barcode)\n",
    "                            drug_data[drug]['cohort'].append(cohort)\n",
    "                            drug_data[drug]['response'].append(responses[0])\n",
    "    \n",
    "    # if \"measure_of_response\" not in biotab file                \n",
    "    else:\n",
    "        print('%s does not have drug measure of response' % cohort.upper())\n",
    "\n",
    "# write TCGA drug list\n",
    "with open('../../../qFlux-files/clinical/processing/TCGA/druglist.txt','w') as f:\n",
    "    for drug in drug_data:\n",
    "        f.write('%s\\n' % drug)\n",
    "        \n",
    "# iterate over drugs\n",
    "for drug in drug_data:\n",
    "    \n",
    "    # add drug response column to data\n",
    "    data['RESPONSE DRUG %s' % drug] = ''\n",
    "    \n",
    "    # iterate over samples\n",
    "    for i in range(len(drug_data[drug]['barcode'])):\n",
    "        \n",
    "        # find correct samples\n",
    "        for a in range(data.shape[0]):\n",
    "            if (data.loc[a]['PATIENT'] == drug_data[drug]['barcode'][i]) and (data.loc[a]['TYPE'] == 'TUMOR'):\n",
    "                data.at[a,'RESPONSE DRUG %s' % drug] = drug_data[drug]['response'][i]"
   ]
  },
  {
   "cell_type": "markdown",
   "metadata": {},
   "source": [
    "Save TCGA samples"
   ]
  },
  {
   "cell_type": "code",
   "execution_count": 21,
   "metadata": {},
   "outputs": [],
   "source": [
    "data = data.drop('DAY_COLLECTION',axis=1)\n",
    "\n",
    "# rename rows to sample name\n",
    "data.index = data['SAMPLE']\n",
    "data = data.drop('SAMPLE', axis=1)\n",
    "\n",
    "# iterate over samples\n",
    "for sample in data.index.tolist():\n",
    "    \n",
    "    # save data\n",
    "    data.loc[sample].to_csv('TCGA/%s.csv' % sample)"
   ]
  },
  {
   "cell_type": "markdown",
   "metadata": {},
   "source": [
    "## CCLE Cell Lines"
   ]
  },
  {
   "cell_type": "markdown",
   "metadata": {},
   "source": [
    "Load data"
   ]
  },
  {
   "cell_type": "code",
   "execution_count": 10,
   "metadata": {},
   "outputs": [
    {
     "name": "stderr",
     "output_type": "stream",
     "text": [
      "c:\\users\\joshu\\appdata\\local\\programs\\python\\python37\\lib\\site-packages\\ipykernel_launcher.py:2: FutureWarning: read_table is deprecated, use read_csv instead, passing sep='\\t'.\n",
      "  \n"
     ]
    }
   ],
   "source": [
    "# load CCLE data\n",
    "df = pd.read_table('_data_/input/CCLE/CCLE_sample_info_file_2012-10-18.txt',index_col=0)\n",
    "df = df.drop(labels=['TT_OESOPHAGUS','TT_THYROID'], axis=0)\n",
    "df.index = [x.split('_')[0] for x in df.index.tolist()]\n",
    "\n",
    "# load drug data\n",
    "#df_data = pd.read_excel('_data_/input/CCLE/v17.3_fitted_dose_response.xlsx',sheet_name='Sheet1')\n",
    "df_data_1 = pd.read_excel('_data_/input/CCLE/GDSC1_fitted_dose_response_15Oct19.xlsx',sheet_name='Sheet 1')\n",
    "df_data_2 = pd.read_excel('_data_/input/CCLE/GDSC2_fitted_dose_response_15Oct19.xlsx',sheet_name='Sheet 1')\n",
    "df_data = pd.concat([df_data_1,df_data_2]).reset_index(drop=False)\n",
    "\n",
    "# load drug list\n",
    "#df_drugs = pd.read_excel('_data_/input/CCLE/Screened_Compounds.xlsx',sheet_name='Sheet1')\n",
    "df_drugs = pd.read_csv('_data_/input/CCLE/screened_compounds_rel_8.1.csv')\n",
    "\n",
    "# load TCGA standardization\n",
    "df_conversion = pd.read_csv('_data_/input/CCLE/DrugCorrection1.csv',header=None,index_col=0)\n",
    "\n",
    "# load radiation response\n",
    "df_radiation = pd.read_excel('_data_/input/CCLE/ncomms11428-s2.xlsx', header=1, index_col=1)"
   ]
  },
  {
   "cell_type": "markdown",
   "metadata": {},
   "source": [
    "Get COSMIC ID's for each cell line"
   ]
  },
  {
   "cell_type": "code",
   "execution_count": 11,
   "metadata": {},
   "outputs": [],
   "source": [
    "cell_to_cosmic = {}\n",
    "for i in range(df_data.shape[0]):\n",
    "    if str(df_data.loc[i]['CELL_LINE_NAME']) not in cell_to_cosmic:\n",
    "        cell_to_cosmic[str(df_data.loc[i]['CELL_LINE_NAME'])] = df_data.loc[i]['COSMIC_ID']"
   ]
  },
  {
   "cell_type": "code",
   "execution_count": 12,
   "metadata": {},
   "outputs": [],
   "source": [
    "df['COSMIC'] = np.nan\n",
    "for cell in df.index.tolist():\n",
    "    \n",
    "    # subset cosmic data\n",
    "    if type(df.loc[cell]['Cell line aliases']) == str:\n",
    "        aliases = df.loc[cell]['Cell line aliases'].split(' | ')\n",
    "        possible_names = list(set([cell,df.loc[cell]['Cell line primary name']] + aliases))\n",
    "    else:\n",
    "        possible_names = list(set([cell,df.loc[cell]['Cell line primary name']]))\n",
    "        \n",
    "    cosmics = []\n",
    "    for name in possible_names:\n",
    "        if name in cell_to_cosmic:\n",
    "            cosmics.append(cell_to_cosmic[name])\n",
    "    \n",
    "    if len(cosmics) == 1:\n",
    "        df.at[cell,'COSMIC'] = int(cosmics[0])"
   ]
  },
  {
   "cell_type": "markdown",
   "metadata": {},
   "source": [
    "Edit CCLE clinical variables"
   ]
  },
  {
   "cell_type": "code",
   "execution_count": 13,
   "metadata": {},
   "outputs": [],
   "source": [
    "# gender\n",
    "gender = []\n",
    "for cell in df.index.tolist():\n",
    "    if df.loc[cell]['Gender'] == 'M':\n",
    "        gender.append('MALE')\n",
    "    elif df.loc[cell]['Gender'] == 'F':\n",
    "        gender.append('FEMALE')\n",
    "    else:\n",
    "        gender.append(np.nan)\n",
    "df['GENDER'] = gender\n",
    "\n",
    "# primary site\n",
    "primary_site = []\n",
    "for cell in df.index.tolist():\n",
    "    primary_site.append(df.loc[cell]['Site Primary'].replace('_',' ').capitalize())\n",
    "df['PRIMARY SITE'] = primary_site\n",
    "\n",
    "# histology\n",
    "histology = []\n",
    "for cell in df.index.tolist():\n",
    "    histology.append(df.loc[cell]['Histology'].replace('_',' ').capitalize())\n",
    "df['HISTOLOGY'] = histology\n",
    "\n",
    "# histologic subtype\n",
    "histologic_subtype = []\n",
    "for cell in df.index.tolist():\n",
    "    if df.loc[cell]['Hist Subtype1'] != 'NS':\n",
    "        histologic_subtype.append(df.loc[cell]['Hist Subtype1'].replace('_',' ').capitalize())\n",
    "    else:\n",
    "        histologic_subtype.append(np.nan)\n",
    "df['HISTOLOGIC SUBTYPE'] = histologic_subtype\n",
    "\n",
    "# drop unncessary features\n",
    "df = df.drop(['Cell line primary name','Cell line aliases','Gender','Site Primary','Histology','Hist Subtype1','Notes','Source','Expression arrays','SNP arrays','Oncomap','Hybrid Capture Sequencing'], axis=1)"
   ]
  },
  {
   "cell_type": "markdown",
   "metadata": {},
   "source": [
    "Radiation Response"
   ]
  },
  {
   "cell_type": "code",
   "execution_count": 14,
   "metadata": {},
   "outputs": [],
   "source": [
    "df['RADIATION AUC'] = np.nan\n",
    "for cell in df.index.tolist():\n",
    "    if cell in df_radiation.index.tolist():\n",
    "        df.at[cell,'RADIATION AUC'] = df_radiation.loc[cell]['AUC']"
   ]
  },
  {
   "cell_type": "markdown",
   "metadata": {},
   "source": [
    "Drug Response"
   ]
  },
  {
   "cell_type": "code",
   "execution_count": 314,
   "metadata": {},
   "outputs": [],
   "source": [
    "# initialize drug list\n",
    "druglist = []\n",
    "\n",
    "# iterate over cell lines\n",
    "for cellline in df.index.tolist():\n",
    "    \n",
    "    # get drug responses in cell line\n",
    "    df_data_subset = df_data.loc[df_data['COSMIC_ID'] == df.loc[cellline]['COSMIC']].reset_index(drop=True)\n",
    "    for i in range(df_data_subset.shape[0]):\n",
    "\n",
    "        # drug name\n",
    "        drug_name = df_drugs.loc[df_drugs['DRUG_ID'].values.tolist().index(int(df_data_subset.loc[i]['DRUG_ID']))]['DRUG_NAME'].strip()\n",
    "        if df_conversion.loc[drug_name][1] != 'NOS':\n",
    "        \n",
    "            if df_conversion.loc[drug_name][1] not in druglist:\n",
    "                druglist.append(df_conversion.loc[drug_name][1])\n",
    "                df['IC50 DRUG %s [uM]' % df_conversion.loc[drug_name][1]] = ''\n",
    "\n",
    "            # IC50\n",
    "            df.at[cellline,'IC50 DRUG %s [uM]' % df_conversion.loc[drug_name][1]] = np.exp(df_data_subset.loc[i]['LN_IC50'])\n",
    "\n",
    "# write drug list\n",
    "with open('_data_/processing/CCLE/druglist.txt','w') as f:\n",
    "    for drug in druglist:\n",
    "        f.write('%s\\n' % drug)"
   ]
  },
  {
   "cell_type": "markdown",
   "metadata": {},
   "source": [
    "Save CCLE samples"
   ]
  },
  {
   "cell_type": "code",
   "execution_count": 317,
   "metadata": {},
   "outputs": [
    {
     "name": "stderr",
     "output_type": "stream",
     "text": [
      "c:\\users\\joshu\\appdata\\local\\programs\\python\\python37\\lib\\site-packages\\ipykernel_launcher.py:8: FutureWarning: The signature of `Series.to_csv` was aligned to that of `DataFrame.to_csv`, and argument 'header' will change its default value from False to True: please pass an explicit value to suppress this warning.\n",
      "  \n"
     ]
    }
   ],
   "source": [
    "# remove COSMIC ID\n",
    "df = df.drop(['COSMIC'], axis=1)\n",
    "\n",
    "# iterate over celllines\n",
    "for cellline in df.index.tolist():\n",
    "    \n",
    "    # save data\n",
    "    df.loc[cellline].to_csv('CCLE/%s.csv' % cellline)"
   ]
  },
  {
   "cell_type": "markdown",
   "metadata": {},
   "source": [
    "## GTEx Tissues"
   ]
  },
  {
   "cell_type": "markdown",
   "metadata": {},
   "source": [
    "Load data"
   ]
  },
  {
   "cell_type": "code",
   "execution_count": 3,
   "metadata": {},
   "outputs": [],
   "source": [
    "# load CCLE data\n",
    "df = pd.read_table('_data_/input/GTEx/GTEx_v7_Annotations_SampleAttributesDS.txt',index_col=0)"
   ]
  },
  {
   "cell_type": "markdown",
   "metadata": {},
   "source": [
    "Save GTEx samples"
   ]
  },
  {
   "cell_type": "code",
   "execution_count": 5,
   "metadata": {},
   "outputs": [],
   "source": [
    "# iterate over samples\n",
    "for sample in df.index.tolist():\n",
    "    \n",
    "    # create file\n",
    "    with open('GTEx/%s.csv' % sample, 'w') as f:\n",
    "        f.write('TISSUE TYPE,%s\\n' % df.loc[sample]['SMTSD'])"
   ]
  },
  {
   "cell_type": "markdown",
   "metadata": {},
   "source": [
    "## Citations"
   ]
  },
  {
   "cell_type": "markdown",
   "metadata": {},
   "source": [
    "Diener C, Resendis-Antonio O. Personalized prediction of proliferation rates and metabolic liabilities in cancer biopsies. Frontiers in Physiology. 2016;7(644). doi: 10.3389/fphys.2016.00644. PubMed PMID: 28082911. PubMed Central PMCID: PMC5186797.\n",
    "\n",
    "Spainhour JCG, Lim J, Qiu P. GDISC: a web portal for integrative analyis of gene-drug interaction for survival in cancer. Bioinformatics. 2017;33(9):1426-1428. doi: 10.1093/bioinformatics/btw830. PubMed PMID: 28453687.\n",
    "\n",
    "Yang W, Soares J, Greninger P, Edelman EJ, Lightfoot H, et al. Genomics of Drug Sensitivity in Cancer (GDSC): a resource for therapeutic biomarker discovery in cancer cells. Nucleic Acids Research. 2013;41(Database issue):D955-D961. doi: 10.1093/nar/gks1111. PubMed PMID: 23180760. PubMed Central PMCID: PMC3531057."
   ]
  }
 ],
 "metadata": {
  "kernelspec": {
   "display_name": "Python 3",
   "language": "python",
   "name": "python3"
  },
  "language_info": {
   "codemirror_mode": {
    "name": "ipython",
    "version": 3
   },
   "file_extension": ".py",
   "mimetype": "text/x-python",
   "name": "python",
   "nbconvert_exporter": "python",
   "pygments_lexer": "ipython3",
   "version": "3.7.3"
  },
  "toc": {
   "nav_menu": {},
   "number_sections": true,
   "sideBar": true,
   "skip_h1_title": true,
   "title_cell": "Table of Contents",
   "title_sidebar": "Contents",
   "toc_cell": true,
   "toc_position": {},
   "toc_section_display": true,
   "toc_window_display": false
  }
 },
 "nbformat": 4,
 "nbformat_minor": 2
}
