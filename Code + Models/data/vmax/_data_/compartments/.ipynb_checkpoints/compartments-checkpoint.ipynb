{
 "cells": [
  {
   "cell_type": "code",
   "execution_count": null,
   "metadata": {},
   "outputs": [],
   "source": [
    "import numpy as np\n",
    "import pandas as pd\n",
    "import re"
   ]
  },
  {
   "cell_type": "code",
   "execution_count": null,
   "metadata": {},
   "outputs": [],
   "source": [
    "# load compartment data\n",
    "df = pd.read_csv('human_compartment_integrated_full.tsv', sep='\\t', header=None)\n",
    "\n",
    "# load recon gene list\n",
    "gene_id = pd.read_csv('../../../recon/genes.tsv', sep='\\t')['GENEID'].tolist()\n",
    "gene_symbol = pd.read_csv('../../../recon/genes.tsv', sep='\\t')['SYMBOL'].tolist()\n",
    "\n",
    "# compartments list\n",
    "compartment = ['c','e','g','l','m','n','r','x','i']\n",
    "compartment_name = ['Cytosol',['Extracellular region','Extracellular space'],'Golgi apparatus','Lysosome','Mitochondrion','Nucleus','Endoplasmic reticulum','Peroxisome','Mitochondrial intermembrane space']"
   ]
  },
  {
   "cell_type": "code",
   "execution_count": null,
   "metadata": {},
   "outputs": [],
   "source": [
    "# initialize results\n",
    "compartment_score = pd.DataFrame(index=gene_id, columns=compartment)\n",
    "\n",
    "# get compartment scores for each gene\n",
    "for i in range(len(compartment)):\n",
    "    \n",
    "    # iterate over genes\n",
    "    for j in range(len(gene_id)):\n",
    "        \n",
    "        # if gene in dataset\n",
    "        if gene_symbol[j] in list(set(df[1].values.tolist())):\n",
    "            \n",
    "            # check for value\n",
    "            if type(compartment_name[i]) == list:\n",
    "                values = []\n",
    "                for k in range(len(compartment_name[i])):\n",
    "                    df_subset = df[df[1] == gene_symbol[j]]\n",
    "                    if compartment_name[i][k] in df_subset[3].values.tolist():\n",
    "                        if len(df_subset[df_subset[3] == compartment_name[i][k]][4].values.tolist()) == 1:\n",
    "                            values.append(df_subset[df_subset[3] == compartment_name[i][k]][4].values.tolist()[0])\n",
    "                        else:\n",
    "                            raise Exception('%d values for %s in %s' % (len(df_subset[df_subset[3] == compartment_name[i][k]][4].values.tolist()), gene_symbol[j], compartment_name[i][k]))\n",
    "                if len(values) > 0:\n",
    "                    compartment_score.at[gene_id[j],compartment[i]] = np.max(values)\n",
    "                else:\n",
    "                    compartment_score.at[gene_id[j],compartment[i]] = 0\n",
    "            else:\n",
    "                df_subset = df[df[1] == gene_symbol[j]]\n",
    "                if compartment_name[i] in df_subset[3].values.tolist():\n",
    "                    if len(df_subset[df_subset[3] == compartment_name[i]][4].values.tolist()) == 1:\n",
    "                        compartment_score.at[gene_id[j],compartment[i]] = df_subset[df_subset[3] == compartment_name[i]][4].values.tolist()[0]\n",
    "                    else:\n",
    "                        raise Exception('%d values for %s in %s' % (len(df_subset[df_subset[3] == compartment_name[i]][4].values.tolist()), gene_symbol[j], compartment_name[i][k]))\n",
    "                else:\n",
    "                    compartment_score.at[gene_id[j],compartment[i]] = 0\n",
    "            \n",
    "        # if gene not in dataset, give -1\n",
    "        else:\n",
    "            compartment_score.at[gene_id[j],compartment[i]] = -1\n",
    "            \n",
    "# print to file\n",
    "compartment_score.to_csv('compartment_values.tsv', sep='\\t')"
   ]
  },
  {
   "cell_type": "code",
   "execution_count": null,
   "metadata": {},
   "outputs": [],
   "source": [
    "# load reaction-gene matrix\n",
    "rxnGeneMat = np.array(pd.read_csv('../../../recon/rxnGeneMat.csv', header=None))\n",
    "\n",
    "# load reaction data\n",
    "df_reactions = pd.read_csv('../../../recon/reactions.tsv', sep='\\t', index_col=0)\n",
    "reactions = df_reactions.index.tolist()"
   ]
  },
  {
   "cell_type": "code",
   "execution_count": null,
   "metadata": {},
   "outputs": [],
   "source": [
    "# get gene fraction for every reaction\n",
    "df_score = pd.DataFrame(columns=['REACTION','GENE ID','GENE SYMBOL','FRACTION'])\n",
    "\n",
    "# square bracket regex\n",
    "p = re.compile('\\[.*?\\]')\n",
    "\n",
    "# iterate over genes\n",
    "for i in range(rxnGeneMat.shape[1]):\n",
    "    \n",
    "    # get associated reactions and compartments\n",
    "    rxns = []\n",
    "    comparts = []\n",
    "    for j in [a for a,x in enumerate(rxnGeneMat[:,i]) if x==1]:\n",
    "        rxns.append(j)\n",
    "        \n",
    "        # get compartment\n",
    "        formula = df_reactions.at[reactions[j],'FORMULA']\n",
    "        comparts.append([x[1] for x in list(set(p.findall(formula)))])\n",
    "\n",
    "    # assign scores for each compartment\n",
    "    comparts_unique = []\n",
    "    scores_unique = []\n",
    "    for j in range(len(comparts)):\n",
    "        for k in range(len(comparts[j])):\n",
    "            if comparts[j][k] not in comparts_unique:\n",
    "                comparts_unique.append(comparts[j][k])\n",
    "    for j in range(len(comparts_unique)):\n",
    "        scores_unique.append(compartment_score.at[gene_id[i],comparts_unique[j]])\n",
    "\n",
    "    # if some values greater than 0, use those values\n",
    "    if np.max(scores_unique) > 0:\n",
    "        scores_unique = [x/np.sum(scores_unique) for x in scores_unique]\n",
    "\n",
    "    # if not, divide evenly among all compartments\n",
    "    else:\n",
    "        scores_unique = [1/len(scores_unique) for x in scores_unique]\n",
    "\n",
    "    # assign scores for each reaction\n",
    "    for j in range(len(rxns)):\n",
    "        values = []\n",
    "        for k in range(len(comparts[j])):\n",
    "            values.append(scores_unique[comparts_unique.index(comparts[j][k])])\n",
    "        df_score.loc[len(df_score)] = [reactions[rxns[j]], gene_id[i], gene_symbol[i], np.max(values)]\n",
    "        \n",
    "# print to file\n",
    "df_score.to_csv('gene_fraction.tsv', sep='\\t', index=False)"
   ]
  },
  {
   "cell_type": "code",
   "execution_count": null,
   "metadata": {},
   "outputs": [],
   "source": []
  }
 ],
 "metadata": {
  "kernelspec": {
   "display_name": "Python 3",
   "language": "python",
   "name": "python3"
  },
  "language_info": {
   "codemirror_mode": {
    "name": "ipython",
    "version": 3
   },
   "file_extension": ".py",
   "mimetype": "text/x-python",
   "name": "python",
   "nbconvert_exporter": "python",
   "pygments_lexer": "ipython3",
   "version": "3.7.3"
  }
 },
 "nbformat": 4,
 "nbformat_minor": 2
}
