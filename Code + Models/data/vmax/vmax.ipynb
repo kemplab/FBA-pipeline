{
 "cells": [
  {
   "cell_type": "markdown",
   "metadata": {},
   "source": [
    "Folder to run:"
   ]
  },
  {
   "cell_type": "code",
   "execution_count": 2,
   "metadata": {},
   "outputs": [
    {
     "name": "stdout",
     "output_type": "stream",
     "text": [
      "\n"
     ]
    }
   ],
   "source": [
    "source = 'GTEx';"
   ]
  },
  {
   "cell_type": "markdown",
   "metadata": {},
   "source": [
    "Load Recon"
   ]
  },
  {
   "cell_type": "code",
   "execution_count": 3,
   "metadata": {},
   "outputs": [
    {
     "name": "stdout",
     "output_type": "stream",
     "text": [
      "\n"
     ]
    }
   ],
   "source": [
    "load('../recon/recon3d_qflux.mat');"
   ]
  },
  {
   "cell_type": "markdown",
   "metadata": {},
   "source": [
    "Run GPRparser"
   ]
  },
  {
   "cell_type": "code",
   "execution_count": 4,
   "metadata": {},
   "outputs": [
    {
     "name": "stdout",
     "output_type": "stream",
     "text": [
      "\n"
     ]
    }
   ],
   "source": [
    "parsedGPR = GPRparser(model);"
   ]
  },
  {
   "cell_type": "markdown",
   "metadata": {},
   "source": [
    "Load list of IDH1 mutation samples"
   ]
  },
  {
   "cell_type": "code",
   "execution_count": 5,
   "metadata": {},
   "outputs": [
    {
     "name": "stdout",
     "output_type": "stream",
     "text": [
      "\n"
     ]
    }
   ],
   "source": [
    "idh1_patients_H133Q = importdata('../idh1/H133Q.txt');\n",
    "idh1_patients_A134D = importdata('../idh1/A134D.txt');\n",
    "idh1_patients_R100Q = importdata('../idh1/R100Q.txt');\n",
    "idh1_patients_R132H = importdata('../idh1/R132H.txt');\n",
    "idh1_patients_R132C = importdata('../idh1/R132C.txt');\n",
    "idh1_patients_R132G = importdata('../idh1/R132G.txt');\n",
    "idh1_patients_R132W = importdata('../idh1/R132W.txt');\n",
    "idh1_patients_R132A = importdata('../idh1/R132A.txt');\n",
    "idh1_patients_R132Q = importdata('../idh1/R132Q.txt');\n",
    "idh1_patients_R132K = importdata('../idh1/R132K.txt');\n",
    "idh1_patients_R132N = importdata('../idh1/R132N.txt');\n",
    "idh1_patients_all = [idh1_patients_H133Q;idh1_patients_A134D;idh1_patients_R100Q;idh1_patients_R132H;idh1_patients_R132C;idh1_patients_R132G;idh1_patients_R132W;idh1_patients_R132A;idh1_patients_R132Q;idh1_patients_R132K;idh1_patients_R132N];"
   ]
  },
  {
   "cell_type": "markdown",
   "metadata": {},
   "source": [
    "Load IDH1 mutation kcat's"
   ]
  },
  {
   "cell_type": "code",
   "execution_count": 6,
   "metadata": {},
   "outputs": [
    {
     "name": "stdout",
     "output_type": "stream",
     "text": [
      "\n"
     ]
    }
   ],
   "source": [
    "% forward reaction\n",
    "idh1_normal_H133Q = 45*60*60;\n",
    "idh1_normal_R132A = 10.4*60*60;\n",
    "idh1_normal_R132G = 9.3*60*60;\n",
    "idh1_normal_R132Q = 9.2*60*60;\n",
    "idh1_normal_R132K = 7.2*60*60;\n",
    "idh1_normal_R100Q = 5.6*60*60;\n",
    "idh1_normal_R132C = 4.4*60*60;\n",
    "idh1_normal_R132H = 2.4*60*60;\n",
    "idh1_normal_A134D = 2.3*60*60;\n",
    "idh1_normal_R132W = 1.21*60*60;\n",
    "idh1_normal_R132N = 0.047*60*60;\n",
    "\n",
    "% neomorphic reaction\n",
    "idh1_neomorphic_H133Q = 0*60*60;\n",
    "idh1_neomorphic_A134D = 0*60*60;\n",
    "idh1_neomorphic_R100Q = 0.34*60*60;\n",
    "idh1_neomorphic_R132A = 0.37*60*60;\n",
    "idh1_neomorphic_R132W = 0.54*60*60;\n",
    "idh1_neomorphic_R132K = 0.57*60*60;\n",
    "idh1_neomorphic_R132N = 0.79*60*60;\n",
    "idh1_neomorphic_R132G = 1.59*60*60;\n",
    "idh1_neomorphic_R132C = 1.60*60*60;\n",
    "idh1_neomorphic_R132H = 4.2*60*60;\n",
    "idh1_neomorphic_R132Q = 4.7*60*60;"
   ]
  },
  {
   "cell_type": "markdown",
   "metadata": {},
   "source": [
    "Create directories"
   ]
  },
  {
   "cell_type": "code",
   "execution_count": 7,
   "metadata": {},
   "outputs": [
    {
     "name": "stdout",
     "output_type": "stream",
     "text": [
      "\n"
     ]
    }
   ],
   "source": [
    "mkdir(sprintf('%s',source))\n",
    "mkdir(sprintf('%s/no_mutation',source))\n",
    "mkdir(sprintf('%s/yes_mutation',source))"
   ]
  },
  {
   "cell_type": "markdown",
   "metadata": {},
   "source": [
    "Calculate vmax's"
   ]
  },
  {
   "cell_type": "code",
   "execution_count": null,
   "metadata": {},
   "outputs": [],
   "source": [
    "% get all data files\n",
    "directory = dir(sprintf('../protein/output/%s/*.csv',source));\n",
    "\n",
    "% iterate over data files\n",
    "delete(gcp('nocreate'));\n",
    "parpool(6);\n",
    "parfor a = 1:length(directory)\n",
    "%for a = 1:length(directory)\n",
    "\n",
    "%%% no mutation data\n",
    "\n",
    "    % load kcat data\n",
    "    % forward\n",
    "    f = fopen('../kcat/kcat_forward.csv','r');\n",
    "    kcat_forward = textscan(f,'%s %f %s','Delimiter',',','headerLines',1);\n",
    "    fclose(f);\n",
    "\n",
    "    % reverse\n",
    "    f = fopen('../kcat/kcat_reverse.csv','r');\n",
    "    kcat_reverse = textscan(f,'%s %f %s','Delimiter',',','headerLines',1);\n",
    "    fclose(f);\n",
    "\n",
    "    % load protein data\n",
    "    f = fopen(sprintf('../protein/output/%s/%s',source,directory(a).name),'r');\n",
    "    protein = textscan(f,'%s %f','Delimiter',',');\n",
    "    protein{1} = strrep(protein{1},'\"','');\n",
    "    fclose(f);\n",
    "\n",
    "    % load compartment gene fractions\n",
    "    f = fopen('_data_/compartments/gene_fraction.tsv','r');\n",
    "    gene_fraction = textscan(f,'%s %s %s %f','Delimiter','\\t','headerLines',1);\n",
    "    fclose(f);\n",
    "\n",
    "    % convert ppm to mmol/gDW\n",
    "    m = 50; % average mass of protein, in kDa\n",
    "    fdw = 0.5; % fraction of dry weight that is protein\n",
    "    Na = 6.0221409*10^23; % Avogadro constant\n",
    "    gDa = 1.66054*10^-24; % number of grams per dalton\n",
    "\n",
    "    protein{2} = protein{2}/1000000; % protein/million --> protein/protein\n",
    "    protein{2} = protein{2} / Na; % protein/protein --> mol/protein\n",
    "    protein{2} = protein{2} * 1000; % mol/protein --> mmol/protein\n",
    "    protein{2} = protein{2} / (m*1000); % mmol/protein --> mmol/Daltons_protein\n",
    "    protein{2} = protein{2} / gDa; % mmol/Daltons --> mmol/grams_protein\n",
    "    protein{2} = protein{2} * fdw; % mmol/grams_protein --> mmol/gDW\n",
    "\n",
    "    % get protein expression for each reaction with grRule and EC number\n",
    "    protein_rxn = [];\n",
    "    for m = 1:length(model.rxns)\n",
    "        if (~isempty(model.rules{m})) && (~isempty(model.rxnECNumbers{m}))\n",
    "\n",
    "            % get genes associated with reaction\n",
    "            genes = find(model.rxnGeneMat(m,:));\n",
    "            allfound = 1;\n",
    "            for n = 1:length(genes)\n",
    "                if ~any(strcmp(protein{1},model.geneSymbols{genes(n)}));\n",
    "                    allfound = 0;\n",
    "                    break\n",
    "                end\n",
    "            end\n",
    "            if allfound == 1\n",
    "\n",
    "                % create model structure for selectGeneFromGPR\n",
    "                modelRxn = {};\n",
    "                modelRxn.rxns = {model.rxns{m}};\n",
    "                modelRxn.genes = {};\n",
    "                for n = 1:length(genes)\n",
    "                    modelRxn.genes{end+1} = model.genes{genes(n)};\n",
    "                end\n",
    "                modelRxn.genes = modelRxn.genes';\n",
    "\n",
    "                % calculate reaction expression\n",
    "                values = [];\n",
    "                for n = 1:length(genes)\n",
    "                    values(end+1) = protein{2}(strcmp(protein{1},model.geneSymbols{genes(n)})) * gene_fraction{4}(strcmp(gene_fraction{1},model.rxns{m}) & strcmp(gene_fraction{3},model.geneSymbols{genes(n)}));\n",
    "                end\n",
    "                % updated version of selectGeneFromGPR\n",
    "                protein_rxn(end+1) = selectGeneFromGPR(modelRxn,modelRxn.genes,values',{parsedGPR{m}});\n",
    "\n",
    "            else\n",
    "               protein_rxn(end+1) = NaN; \n",
    "            end\n",
    "\n",
    "        else\n",
    "            protein_rxn(end+1) = NaN;\n",
    "        end\n",
    "    end\n",
    "\n",
    "    % set vmax values\n",
    "    vmax_forward_current = nan(length(model.rxns),1);\n",
    "    vmax_reverse_current = nan(length(model.rxns),1);\n",
    "    for m = 1:length(model.rxns)\n",
    "\n",
    "        % forward vmax\n",
    "        if model.ub(m) > 0\n",
    "            if (~(isnan(protein_rxn(m)))) && (~(isnan(kcat_forward{2}(strcmp(kcat_forward{1},model.rxns{m})))))\n",
    "                vmax_forward_current(m) = protein_rxn(m) * kcat_forward{2}(strcmp(kcat_forward{1},model.rxns{m}));\n",
    "            end\n",
    "        end\n",
    "\n",
    "        % reverse vmax\n",
    "        if model.lb(m) < 0\n",
    "            if (~(isnan(protein_rxn(m)))) && (~(isnan(kcat_reverse{2}(strcmp(kcat_reverse{1},model.rxns{m})))))\n",
    "                vmax_reverse_current(m) = protein_rxn(m) * kcat_reverse{2}(strcmp(kcat_reverse{1},model.rxns{m}));\n",
    "            end\n",
    "        end\n",
    "    end\n",
    "\n",
    "    % save results\n",
    "    f = fopen(sprintf('%s/no_mutation/%s',source,directory(a).name),'w');\n",
    "    fprintf(f,'REACTION,FORWARD [mmol/gDW/hr],REVERSE [mmol/gDW/hr]\\n');\n",
    "    for m = 1:length(model.rxns)\n",
    "        fprintf(f,'%s,%.10f,%.10f\\n',model.rxns{m},vmax_forward_current(m),vmax_reverse_current(m));\n",
    "    end\n",
    "    fclose(f);\n",
    "\n",
    "%%% yes mutation data\n",
    "\n",
    "    % if mutation data exists\n",
    "    temp = strsplit(source,'_');\n",
    "    prefix = temp{1};\n",
    "    switch prefix\n",
    "        case 'TCGA'\n",
    "            lookup_name = 'TCGA';\n",
    "        case 'NCI60'\n",
    "            lookup_name = 'NCI60';\n",
    "        otherwise\n",
    "            lookup_name = source;\n",
    "    end\n",
    "    temp = strsplit(directory(a).name,'.');\n",
    "    sample_name = temp{1};\n",
    "    if (exist(sprintf('../mutation/%s/%s',lookup_name,directory(a).name),'file')) || (any(strcmp(idh1_patients_all,sample_name)))\n",
    "\n",
    "        % load protein data\n",
    "        f = fopen(sprintf('../protein/output/%s/%s',source,directory(a).name),'r');\n",
    "        protein = textscan(f,'%s %f','Delimiter',',');\n",
    "        protein{1} = strrep(protein{1},'\"','');\n",
    "        fclose(f);\n",
    "\n",
    "        % load mutation data\n",
    "        if (exist(sprintf('../mutation/%s/%s',lookup_name,directory(a).name),'file'))\n",
    "            f = fopen(sprintf('../mutation/%s/%s',lookup_name,directory(a).name),'r');\n",
    "            mutation = textscan(f,'%s %f','Delimiter',',','headerLines',1);\n",
    "            fclose(f);\n",
    "\n",
    "            % multiply protein expression data by envision scores\n",
    "            for m = 1:length(mutation{1})\n",
    "                if any(strcmp(protein{1},mutation{1}{m}))\n",
    "                    protein{2}(find(strcmp(protein{1},mutation{1}{m}))) = protein{2}(find(strcmp(protein{1},mutation{1}{m}))) * mutation{2}(m);\n",
    "                end\n",
    "            end\n",
    "        end\n",
    "\n",
    "        % convert ppm to mmol/gDW\n",
    "        m = 50; % average mass of protein, in kDa\n",
    "        fdw = 0.5; % fraction of dry weight that is protein\n",
    "        Na = 6.0221409*10^23; % Avogadro constant\n",
    "        gDa = 1.66054*10^-24; % number of grams per dalton\n",
    "\n",
    "        protein{2} = protein{2}/1000000; % protein/million --> protein/protein\n",
    "        protein{2} = protein{2} / Na; % protein/protein --> mol/protein\n",
    "        protein{2} = protein{2} * 1000; % mol/protein --> mmol/protein\n",
    "        protein{2} = protein{2} / (m*1000); % mmol/protein --> mmol/Daltons_protein\n",
    "        protein{2} = protein{2} / gDa; % mmol/Daltons --> mmol/grams_protein\n",
    "        protein{2} = protein{2} * fdw; % mmol/grams_protein --> mmol/gDW\n",
    "\n",
    "        % get protein expression for each reaction with grRule and EC number\n",
    "        protein_rxn = [];\n",
    "        for m = 1:length(model.rxns)\n",
    "            if (~isempty(model.rules{m})) && (~isempty(model.rxnECNumbers{m}))\n",
    "\n",
    "                % get genes associated with reaction\n",
    "                genes = find(model.rxnGeneMat(m,:));\n",
    "                allfound = 1;\n",
    "                for n = 1:length(genes)\n",
    "                    if ~any(strcmp(protein{1},model.geneSymbols{genes(n)}));\n",
    "                        allfound = 0;\n",
    "                        break\n",
    "                    end\n",
    "                end\n",
    "                if allfound == 1\n",
    "\n",
    "                    % create model structure for selectGeneFromGPR\n",
    "                    modelRxn = {};\n",
    "                    modelRxn.rxns = {model.rxns{m}};\n",
    "                    modelRxn.genes = {};\n",
    "                    for n = 1:length(genes)\n",
    "                        modelRxn.genes{end+1} = model.genes{genes(n)};\n",
    "                    end\n",
    "                    modelRxn.genes = modelRxn.genes';\n",
    "\n",
    "                    % calculate reaction expression\n",
    "                    values = [];\n",
    "                    for n = 1:length(genes)\n",
    "                        values(end+1) = protein{2}(strcmp(protein{1},model.geneSymbols{genes(n)})) * gene_fraction{4}(strcmp(gene_fraction{1},model.rxns{m}) & strcmp(gene_fraction{3},model.geneSymbols{genes(n)}));\n",
    "                    end\n",
    "                    % updated version of selectGeneFromGPR\n",
    "                    protein_rxn(end+1) = selectGeneFromGPR(modelRxn,modelRxn.genes,values',{parsedGPR{m}});\n",
    "\n",
    "                else\n",
    "                   protein_rxn(end+1) = NaN; \n",
    "                end\n",
    "\n",
    "            else\n",
    "                protein_rxn(end+1) = NaN;\n",
    "            end\n",
    "        end\n",
    "\n",
    "        % IDH1 mutation kcat's\n",
    "        if (any(strcmp(idh1_patients_all,sample_name)))\n",
    "            if any(strcmp(idh1_patients_H133Q,sample_name))\n",
    "                kcat_forward{2}(strcmp(kcat_forward{1},'ICDHy')) = idh1_normal_H133Q;\n",
    "                kcat_forward{2}(strcmp(kcat_forward{1},'ICDHyp')) = idh1_normal_H133Q;\n",
    "                kcat_forward{2}(strcmp(kcat_forward{1},'IDH1_R132')) = idh1_neomorphic_H133Q;\n",
    "            elseif any(strcmp(idh1_patients_A134D,sample_name))\n",
    "                kcat_forward{2}(strcmp(kcat_forward{1},'ICDHy')) = idh1_normal_A134D;\n",
    "                kcat_forward{2}(strcmp(kcat_forward{1},'ICDHyp')) = idh1_normal_A134D;\n",
    "                kcat_forward{2}(strcmp(kcat_forward{1},'IDH1_R132')) = idh1_neomorphic_A134D;\n",
    "            elseif any(strcmp(idh1_patients_R100Q,sample_name))\n",
    "                kcat_forward{2}(strcmp(kcat_forward{1},'ICDHy')) = idh1_normal_R100Q;\n",
    "                kcat_forward{2}(strcmp(kcat_forward{1},'ICDHyp')) = idh1_normal_R100Q;\n",
    "                kcat_forward{2}(strcmp(kcat_forward{1},'IDH1_R132')) = idh1_neomorphic_R100Q;\n",
    "            elseif any(strcmp(idh1_patients_R132H,sample_name))\n",
    "                kcat_forward{2}(strcmp(kcat_forward{1},'ICDHy')) = idh1_normal_R132H;\n",
    "                kcat_forward{2}(strcmp(kcat_forward{1},'ICDHyp')) = idh1_normal_R132H;\n",
    "                kcat_forward{2}(strcmp(kcat_forward{1},'IDH1_R132')) = idh1_neomorphic_R132H;\n",
    "            elseif any(strcmp(idh1_patients_R132C,sample_name))\n",
    "                kcat_forward{2}(strcmp(kcat_forward{1},'ICDHy')) = idh1_normal_R132C;\n",
    "                kcat_forward{2}(strcmp(kcat_forward{1},'ICDHyp')) = idh1_normal_R132C;\n",
    "                kcat_forward{2}(strcmp(kcat_forward{1},'IDH1_R132')) = idh1_neomorphic_R132C;\n",
    "            elseif any(strcmp(idh1_patients_R132G,sample_name))\n",
    "                kcat_forward{2}(strcmp(kcat_forward{1},'ICDHy')) = idh1_normal_R132G;\n",
    "                kcat_forward{2}(strcmp(kcat_forward{1},'ICDHyp')) = idh1_normal_R132G;\n",
    "                kcat_forward{2}(strcmp(kcat_forward{1},'IDH1_R132')) = idh1_neomorphic_R132G;\n",
    "            elseif any(strcmp(idh1_patients_R132W,sample_name))\n",
    "                kcat_forward{2}(strcmp(kcat_forward{1},'ICDHy')) = idh1_normal_R132W;\n",
    "                kcat_forward{2}(strcmp(kcat_forward{1},'ICDHyp')) = idh1_normal_R132W;\n",
    "                kcat_forward{2}(strcmp(kcat_forward{1},'IDH1_R132')) = idh1_neomorphic_R132W;\n",
    "            elseif any(strcmp(idh1_patients_R132A,sample_name))\n",
    "                kcat_forward{2}(strcmp(kcat_forward{1},'ICDHy')) = idh1_normal_R132A;\n",
    "                kcat_forward{2}(strcmp(kcat_forward{1},'ICDHyp')) = idh1_normal_R132A;\n",
    "                kcat_forward{2}(strcmp(kcat_forward{1},'IDH1_R132')) = idh1_neomorphic_R132A;\n",
    "            elseif any(strcmp(idh1_patients_R132Q,sample_name))\n",
    "                kcat_forward{2}(strcmp(kcat_forward{1},'ICDHy')) = idh1_normal_R132Q;\n",
    "                kcat_forward{2}(strcmp(kcat_forward{1},'ICDHyp')) = idh1_normal_R132Q;\n",
    "                kcat_forward{2}(strcmp(kcat_forward{1},'IDH1_R132')) = idh1_neomorphic_R132Q;\n",
    "            elseif any(strcmp(idh1_patients_R132K,sample_name))\n",
    "                kcat_forward{2}(strcmp(kcat_forward{1},'ICDHy')) = idh1_normal_R132K;\n",
    "                kcat_forward{2}(strcmp(kcat_forward{1},'ICDHyp')) = idh1_normal_R132K;\n",
    "                kcat_forward{2}(strcmp(kcat_forward{1},'IDH1_R132')) = idh1_neomorphic_R132K;\n",
    "            elseif any(strcmp(idh1_patients_R132N,sample_name))\n",
    "                kcat_forward{2}(strcmp(kcat_forward{1},'ICDHy')) = idh1_normal_R132N;\n",
    "                kcat_forward{2}(strcmp(kcat_forward{1},'ICDHyp')) = idh1_normal_R132N;\n",
    "                kcat_forward{2}(strcmp(kcat_forward{1},'IDH1_R132')) = idh1_neomorphic_R132N;\n",
    "            end\n",
    "        end\n",
    "\n",
    "        % set vmax values\n",
    "        vmax_forward_current = nan(length(model.rxns),1);\n",
    "        vmax_reverse_current = nan(length(model.rxns),1);\n",
    "        for m = 1:length(model.rxns)\n",
    "\n",
    "            % forward vmax\n",
    "            if model.ub(m) > 0\n",
    "                if (~(isnan(protein_rxn(m)))) && (~(isnan(kcat_forward{2}(strcmp(kcat_forward{1},model.rxns{m})))))\n",
    "                    vmax_forward_current(m) = protein_rxn(m) * kcat_forward{2}(strcmp(kcat_forward{1},model.rxns{m}));\n",
    "                end\n",
    "            end\n",
    "\n",
    "            % reverse vmax\n",
    "            if model.lb(m) < 0\n",
    "                if (~(isnan(protein_rxn(m)))) && (~(isnan(kcat_reverse{2}(strcmp(kcat_reverse{1},model.rxns{m})))))\n",
    "                    vmax_reverse_current(m) = protein_rxn(m) * kcat_reverse{2}(strcmp(kcat_reverse{1},model.rxns{m}));\n",
    "                end\n",
    "            end\n",
    "        end\n",
    "\n",
    "        % save results\n",
    "        f = fopen(sprintf('%s/yes_mutation/%s',source,directory(a).name),'w');\n",
    "        fprintf(f,'REACTION,FORWARD [mmol/gDW/hr],REVERSE [mmol/gDW/hr]\\n');\n",
    "        for m = 1:length(model.rxns)\n",
    "            fprintf(f,'%s,%.10f,%.10f\\n',model.rxns{m},vmax_forward_current(m),vmax_reverse_current(m));\n",
    "        end\n",
    "        fclose(f);\n",
    "    end\n",
    "end"
   ]
  }
 ],
 "metadata": {
  "kernelspec": {
   "display_name": "Matlab",
   "language": "matlab",
   "name": "matlab"
  },
  "language_info": {
   "codemirror_mode": "octave",
   "file_extension": ".m",
   "help_links": [
    {
     "text": "MetaKernel Magics",
     "url": "https://metakernel.readthedocs.io/en/latest/source/README.html"
    }
   ],
   "mimetype": "text/x-octave",
   "name": "matlab",
   "version": "0.16.7"
  }
 },
 "nbformat": 4,
 "nbformat_minor": 2
}
