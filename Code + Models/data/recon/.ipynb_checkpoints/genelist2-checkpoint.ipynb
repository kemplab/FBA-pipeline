{
 "cells": [
  {
   "cell_type": "code",
   "execution_count": 1,
   "metadata": {},
   "outputs": [],
   "source": [
    "load('recon3d_qflux.mat')"
   ]
  },
  {
   "cell_type": "code",
   "execution_count": 2,
   "metadata": {},
   "outputs": [],
   "source": [
    "% initialize gene list\n",
    "genes = {};\n",
    "\n",
    "subsystems = {'Cholesterol metabolism','Citric acid cycle','Fatty acid oxidation','Fatty acid synthesis','Folate metabolism','Glutamate metabolism','Glutathione metabolism','Glycolysis/gluconeogenesis','NAD metabolism','Nucleotide interconversion','Nucleotide metabolism','Nucleotide salvage pathway','Oxidative phosphorylation','Pentose phosphate pathway','Purine catabolism','Purine synthesis','Pyrimidine catabolism','Pyrimidine synthesis','Pyruvate metabolism','ROS detoxification','Selenoamino acid metabolism','Xenobiotics metabolism'};\n",
    "subsystem = {};\n",
    "for i = 1:length(subsystems)\n",
    "    subsystem{end+1} = [];\n",
    "end\n",
    "\n",
    "nadp_to_nadph = [];\n",
    "nad_to_nadh = [];\n",
    "nadph_to_nadp = [];\n",
    "added_on = [];\n",
    "in_recon = [];"
   ]
  },
  {
   "cell_type": "code",
   "execution_count": 3,
   "metadata": {},
   "outputs": [],
   "source": [
    "% subsystems\n",
    "for i = 1:length(model.rxns)\n",
    "    if any(strcmp(subsystems,model.subSystems{i}))\n",
    "        for geneid = find(model.rxnGeneMat(i,:))\n",
    "            if ~any(strcmp(genes,model.geneSymbols{geneid}))\n",
    "                genes{end+1} = model.geneSymbols{geneid};\n",
    "                \n",
    "                for j = 1:length(subsystems)\n",
    "                    if strcmp(subsystems{j},model.subSystems{i})\n",
    "                        subsystem{j}(end+1) = 1;\n",
    "                    else\n",
    "                        subsystem{j}(end+1) = 0;\n",
    "                    end\n",
    "                end\n",
    "\n",
    "                nadp_to_nadph(end+1) = 0;\n",
    "                nad_to_nadh(end+1) = 0;\n",
    "                nadph_to_nadp(end+1) = 0;\n",
    "                added_on(end+1) = 0;\n",
    "                in_recon(end+1) = 1;\n",
    "            end\n",
    "        end\n",
    "    end\n",
    "end"
   ]
  },
  {
   "cell_type": "code",
   "execution_count": 4,
   "metadata": {},
   "outputs": [],
   "source": [
    "% nadp+ to nadph (c or m)\n",
    "reactions = [];\n",
    "for i = 1:length(model.rxns)\n",
    "    if (full(model.S(strcmp(model.mets,'nadp[c]'),i)) < 0 && full(model.S(strcmp(model.mets,'nadph[c]'),i)) > 0 && model.ub(i) > 0) || (full(model.S(strcmp(model.mets,'nadp[c]'),i)) > 0 && full(model.S(strcmp(model.mets,'nadph[c]'),i)) < 0 && model.lb(i) < 0) || (full(model.S(strcmp(model.mets,'nadp[m]'),i)) < 0 && full(model.S(strcmp(model.mets,'nadph[m]'),i)) > 0 && model.ub(i) > 0) || (full(model.S(strcmp(model.mets,'nadp[m]'),i)) > 0 && full(model.S(strcmp(model.mets,'nadph[m]'),i)) < 0 && model.lb(i) < 0) \n",
    "        reactions(end+1) = i;\n",
    "    end\n",
    "end\n",
    "for i = reactions\n",
    "    for geneid = find(model.rxnGeneMat(i,:))\n",
    "        if ~any(strcmp(genes,model.geneSymbols{geneid}))\n",
    "            genes{end+1} = model.geneSymbols{geneid};\n",
    "            \n",
    "            for j = 1:length(subsystems)\n",
    "                if strcmp(subsystems{j},model.subSystems{i})\n",
    "                    subsystem{j}(end+1) = 1;\n",
    "                else\n",
    "                    subsystem{j}(end+1) = 0;\n",
    "                end\n",
    "            end\n",
    "            \n",
    "            nadp_to_nadph(end+1) = 1;\n",
    "            nad_to_nadh(end+1) = 0;\n",
    "            nadph_to_nadp(end+1) = 0;\n",
    "            added_on(end+1) = 0;\n",
    "            in_recon(end+1) = 1;\n",
    "        else\n",
    "            nadp_to_nadph(strcmp(genes,model.geneSymbols{geneid})) = 1;\n",
    "        end\n",
    "    end\n",
    "end"
   ]
  },
  {
   "cell_type": "code",
   "execution_count": 5,
   "metadata": {},
   "outputs": [],
   "source": [
    "% nadph to nadp+ (c or m)\n",
    "reactions = [];\n",
    "for i = 1:length(model.rxns)\n",
    "    if (full(model.S(strcmp(model.mets,'nadp[c]'),i)) > 0 && full(model.S(strcmp(model.mets,'nadph[c]'),i)) < 0 && model.ub(i) > 0) || (full(model.S(strcmp(model.mets,'nadp[c]'),i)) < 0 && full(model.S(strcmp(model.mets,'nadph[c]'),i)) > 0 && model.lb(i) < 0) || (full(model.S(strcmp(model.mets,'nadp[m]'),i)) > 0 && full(model.S(strcmp(model.mets,'nadph[m]'),i)) < 0 && model.ub(i) > 0) || (full(model.S(strcmp(model.mets,'nadp[m]'),i)) < 0 && full(model.S(strcmp(model.mets,'nadph[m]'),i)) > 0 && model.lb(i) < 0) \n",
    "        reactions(end+1) = i;\n",
    "    end\n",
    "end\n",
    "for i = reactions\n",
    "    for geneid = find(model.rxnGeneMat(i,:))\n",
    "        if ~any(strcmp(genes,model.geneSymbols{geneid}))\n",
    "            genes{end+1} = model.geneSymbols{geneid};\n",
    "            \n",
    "            for j = 1:length(subsystems)\n",
    "                if strcmp(subsystems{j},model.subSystems{i})\n",
    "                    subsystem{j}(end+1) = 1;\n",
    "                else\n",
    "                    subsystem{j}(end+1) = 0;\n",
    "                end\n",
    "            end\n",
    "            \n",
    "            nadp_to_nadph(end+1) = 0;\n",
    "            nad_to_nadh(end+1) = 0;\n",
    "            nadph_to_nadp(end+1) = 1;\n",
    "            added_on(end+1) = 0;\n",
    "            in_recon(end+1) = 1;\n",
    "        else\n",
    "            nadph_to_nadp(strcmp(genes,model.geneSymbols{geneid})) = 1;\n",
    "        end\n",
    "    end\n",
    "end"
   ]
  },
  {
   "cell_type": "code",
   "execution_count": 6,
   "metadata": {},
   "outputs": [],
   "source": [
    "% nad+ to nadh (c or m)\n",
    "reactions = [];\n",
    "for i = 1:length(model.rxns)\n",
    "    if (full(model.S(strcmp(model.mets,'nad[c]'),i)) < 0 && full(model.S(strcmp(model.mets,'nadh[c]'),i)) > 0 && model.ub(i) > 0) || (full(model.S(strcmp(model.mets,'nad[c]'),i)) > 0 && full(model.S(strcmp(model.mets,'nadh[c]'),i)) < 0 && model.lb(i) < 0) || (full(model.S(strcmp(model.mets,'nad[m]'),i)) < 0 && full(model.S(strcmp(model.mets,'nadh[m]'),i)) > 0 && model.ub(i) > 0) || (full(model.S(strcmp(model.mets,'nad[m]'),i)) > 0 && full(model.S(strcmp(model.mets,'nadh[m]'),i)) < 0 && model.lb(i) < 0) \n",
    "        reactions(end+1) = i;\n",
    "    end\n",
    "end\n",
    "for i = reactions\n",
    "    for geneid = find(model.rxnGeneMat(i,:))\n",
    "        if ~any(strcmp(genes,model.geneSymbols{geneid}))\n",
    "            genes{end+1} = model.geneSymbols{geneid};\n",
    "            \n",
    "            for j = 1:length(subsystems)\n",
    "                if strcmp(subsystems{j},model.subSystems{i})\n",
    "                    subsystem{j}(end+1) = 1;\n",
    "                else\n",
    "                    subsystem{j}(end+1) = 0;\n",
    "                end\n",
    "            end\n",
    "            \n",
    "            nadp_to_nadph(end+1) = 0;\n",
    "            nad_to_nadh(end+1) = 1;\n",
    "            nadph_to_nadp(end+1) = 0;\n",
    "            added_on(end+1) = 0;\n",
    "            in_recon(end+1) = 1;\n",
    "        else\n",
    "            nad_to_nadh(strcmp(genes,model.geneSymbols{geneid})) = 1;\n",
    "        end\n",
    "    end\n",
    "end"
   ]
  },
  {
   "cell_type": "code",
   "execution_count": 7,
   "metadata": {},
   "outputs": [],
   "source": [
    "% added on genes\n",
    "added_on_genes = {'CAT','SOD1','SOD2','SOD3','NOX1','CYBB','NOX3','NOX4','NOX5','NQO1','NFE2L1','NFE2L2','KEAP1','MTOR','SREBF1','NAMPT','GSR','HMOX1','GPX1','GPX2','GPX3','GPX4','GPX5','GPX6','GPX7','TXN','TXNRD1','TXNRD2','TXNRD3','PRDX1','PRDX2','PRDX3','PRDX4','PRDX5','PRDX6','SLC2A1','SLC2A2','SLC2A3','SLC2A4','EIF2AK3','AQP4','AQP8','SIRT1','SIRT2','SIRT3','SIRT4','SIRT5','SIRT6','SIRT7'};\n",
    "for i = 1:length(added_on_genes)\n",
    "    if ~any(strcmp(genes,added_on_genes{i}))\n",
    "        genes{end+1} = added_on_genes{i};\n",
    "        \n",
    "        for j = 1:length(subsystems)\n",
    "            subsystem{j}(end+1) = 0;\n",
    "        end\n",
    "        \n",
    "        nadp_to_nadph(end+1) = 0;\n",
    "        nad_to_nadh(end+1) = 0;\n",
    "        nadph_to_nadp(end+1) = 0;\n",
    "        added_on(end+1) = 1;\n",
    "        if any(strcmp(model.geneSymbols,added_on_genes{i}))\n",
    "            in_recon(end+1) = 1;\n",
    "        else\n",
    "            in_recon(end+1) = 0;\n",
    "        end\n",
    "    else\n",
    "        added_on(strcmp(genes,added_on_genes{i})) = 1;\n",
    "    end\n",
    "end"
   ]
  },
  {
   "cell_type": "code",
   "execution_count": 8,
   "metadata": {},
   "outputs": [],
   "source": [
    "% load hpa data\n",
    "hpa = tdfread('pathology.tsv');\n",
    "hpa.Gene_name = cellstr(hpa.Gene_name);\n",
    "hpa.Cancer = cellstr(hpa.Cancer);"
   ]
  },
  {
   "cell_type": "code",
   "execution_count": 9,
   "metadata": {},
   "outputs": [],
   "source": [
    "% hpa hnscc score\n",
    "hpa_hnscc = [];\n",
    "for i = 1:length(genes)\n",
    "    row = find(strcmp(hpa.Gene_name,genes{i}) & strcmp(hpa.Cancer,'head and neck cancer'));\n",
    "    if (length(row) == 1) && (hpa.High(row) + hpa.Medium(row) + hpa.Low(row) + hpa.Not_detected(row) > 0)\n",
    "        hpa_hnscc(end+1) = (hpa.High(row) + hpa.Medium(row) + 0.5*hpa.Low(row))/(hpa.High(row) + hpa.Medium(row) + hpa.Low(row) + hpa.Not_detected(row));\n",
    "    else\n",
    "        hpa_hnscc(end+1) = NaN;\n",
    "    end\n",
    "end"
   ]
  },
  {
   "cell_type": "code",
   "execution_count": 10,
   "metadata": {},
   "outputs": [],
   "source": [
    "% output list\n",
    "f = fopen('genelist.tsv','w');\n",
    "fprintf(f,sprintf('GENE\\t%s\\tNADP+ TO NADPH\\tNADPH TO NADP+\\tNAD+ TO NADH\\tADDED ON\\tIN RECON\\tHPA HNSCC SCORE\\n',string(join(subsystems,'\\t'))));\n",
    "for i = 1:length(genes)\n",
    "    subsystem_string = string(subsystem{1}(i));\n",
    "    for j = 2:length(subsystem)\n",
    "        subsystem_string = [subsystem_string,'\\t',string(subsystem{j}(i))];\n",
    "    end\n",
    "    fprintf(f,sprintf('%s\\t%s\\t%d\\t%d\\t%d\\t%d\\t%d\\t%f\\n',genes{i},string(join(subsystem_string)),nadp_to_nadph(i),nadph_to_nadp(i),nad_to_nadh(i),added_on(i),in_recon(i),hpa_hnscc(i)));\n",
    "end"
   ]
  },
  {
   "cell_type": "code",
   "execution_count": null,
   "metadata": {},
   "outputs": [],
   "source": []
  }
 ],
 "metadata": {
  "kernelspec": {
   "display_name": "Matlab",
   "language": "matlab",
   "name": "matlab"
  },
  "language_info": {
   "codemirror_mode": "octave",
   "file_extension": ".m",
   "help_links": [
    {
     "text": "MetaKernel Magics",
     "url": "https://github.com/calysto/metakernel/blob/master/metakernel/magics/README.md"
    }
   ],
   "mimetype": "text/x-octave",
   "name": "matlab",
   "version": "0.15.1"
  }
 },
 "nbformat": 4,
 "nbformat_minor": 2
}
