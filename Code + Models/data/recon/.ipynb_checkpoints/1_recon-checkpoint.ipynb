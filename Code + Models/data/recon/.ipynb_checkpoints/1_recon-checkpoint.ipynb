{
 "cells": [
  {
   "cell_type": "markdown",
   "metadata": {},
   "source": [
    "## Step 1: prepare the Recon3D model for use in the qFlux pipeline"
   ]
  },
  {
   "cell_type": "markdown",
   "metadata": {},
   "source": [
    "Load curated Recon3D model (Brunk, E. et al. Recon 3D: A resource enabling a three-dimensional view of gene variation in human metabolism. (submitted) 2017.)"
   ]
  },
  {
   "cell_type": "code",
   "execution_count": 8,
   "metadata": {},
   "outputs": [
    {
     "name": "stdout",
     "output_type": "stream",
     "text": [
      "\n"
     ]
    }
   ],
   "source": [
    "load('recon3d.mat');"
   ]
  },
  {
   "cell_type": "markdown",
   "metadata": {},
   "source": [
    "Set arbitrary lower/upper bounds on each metabolic reaction"
   ]
  },
  {
   "cell_type": "code",
   "execution_count": 9,
   "metadata": {},
   "outputs": [
    {
     "name": "stdout",
     "output_type": "stream",
     "text": [
      "\n"
     ]
    }
   ],
   "source": [
    "for i = 1:length(model.rxns)\n",
    "    if model.rev(i)\n",
    "        model.lb(i) = -9999999;\n",
    "    end\n",
    "    model.ub(i) = 9999999;\n",
    "end"
   ]
  },
  {
   "cell_type": "markdown",
   "metadata": {},
   "source": [
    "Clear objective values"
   ]
  },
  {
   "cell_type": "code",
   "execution_count": 10,
   "metadata": {},
   "outputs": [
    {
     "name": "stdout",
     "output_type": "stream",
     "text": [
      "\n"
     ]
    }
   ],
   "source": [
    "model.c = zeros(size(model.c));"
   ]
  },
  {
   "cell_type": "markdown",
   "metadata": {},
   "source": [
    "Clear dm/dt"
   ]
  },
  {
   "cell_type": "code",
   "execution_count": 11,
   "metadata": {},
   "outputs": [
    {
     "name": "stdout",
     "output_type": "stream",
     "text": [
      "\n"
     ]
    }
   ],
   "source": [
    "model.b = zeros(size(model.b));"
   ]
  },
  {
   "cell_type": "markdown",
   "metadata": {},
   "source": [
    "## Step 2: add/fix redox-related reaction information in Recon3D"
   ]
  },
  {
   "cell_type": "markdown",
   "metadata": {},
   "source": [
    "Split reaction FTHFDH into two separate cytosolic and mitochondrial reactions"
   ]
  },
  {
   "cell_type": "code",
   "execution_count": null,
   "metadata": {
    "collapsed": true
   },
   "outputs": [],
   "source": [
    "# edit cytoscolic reaction\n",
    "i = find(strcmp(model.rxns,'FTHFDH'));\n",
    "model.rxnGeneMat(i,strcmp(model.genes,'160428.1')) = 0;\n",
    "model.rules{i} = '(x(615))';\n",
    "model.grRules{i} = '(10840.1)';\n",
    "\n",
    "# create new mitochondrial reaction\n",
    "model.rxns{end+1} = 'FTHFDHm';\n",
    "model.S(:,end+1) = zeros(length(model.mets),1);\n",
    "model.S(strcmp(model.mets,'10fthf[m]'),end) = -1;\n",
    "model.S(strcmp(model.mets,'h2o[m]'),end) = -1;\n",
    "model.S(strcmp(model.mets,'nadp[m]'),end) = -1;\n",
    "model.S(strcmp(model.mets,'h[m]'),end) = 1;\n",
    "model.S(strcmp(model.mets,'nadph[m]'),end) = 1;\n",
    "model.S(strcmp(model.mets,'co2[m]'),end) = 1;\n",
    "model.S(strcmp(model.mets,'thf[m]'),end) = 1;\n",
    "model.lb(end+1) = model.lb(i);\n",
    "model.ub(end+1) = model.ub(i);\n",
    "model.rev(end+1) = model.rev(i);\n",
    "model.c(end+1) = model.c(i);\n",
    "model.rxnGeneMat(end+1,:) = zeros(1,length(model.genes));\n",
    "model.rxnGeneMat(end,strcmp(model.genes,'160428.1')) = 1;\n",
    "model.rules{end+1} = '(x(626))';\n",
    "model.grRules{end+1} = '(160428.1)';\n",
    "model.subSystems{end+1} = model.subSystems{i};\n",
    "model.rxnNames{end+1} = model.rxnNames{i};\n",
    "model.rxnKeggID{end+1} = model.rxnKeggID{i};\n",
    "model.rxnKeggOrthology{end+1} = model.rxnKeggOrthology{i};\n",
    "model.rxnConfidenceScores{end+1} = model.rxnConfidenceScores{i};\n",
    "model.rxnReferences{end+1} = model.rxnReferences{i};\n",
    "model.rxnECNumbers{end+1} = model.rxnECNumbers{i};\n",
    "model.rxnNotes{end+1} = model.rxnNotes{i};\n",
    "model.rxnCOG{end+1} = model.rxnCOG{i};\n",
    "model.rxnReconMap{end+1} = model.rxnReconMap{i};"
   ]
  },
  {
   "cell_type": "code",
   "execution_count": null,
   "metadata": {
    "collapsed": true
   },
   "outputs": [],
   "source": []
  }
 ],
 "metadata": {
  "kernelspec": {
   "display_name": "Matlab",
   "language": "matlab",
   "name": "matlab"
  },
  "language_info": {
   "codemirror_mode": "octave",
   "file_extension": ".m",
   "help_links": [
    {
     "text": "MetaKernel Magics",
     "url": "https://github.com/calysto/metakernel/blob/master/metakernel/magics/README.md"
    }
   ],
   "mimetype": "text/x-octave",
   "name": "matlab",
   "version": "0.15.0"
  }
 },
 "nbformat": 4,
 "nbformat_minor": 2
}
