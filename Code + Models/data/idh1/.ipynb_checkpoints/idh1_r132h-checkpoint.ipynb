{
 "cells": [
  {
   "cell_type": "markdown",
   "metadata": {},
   "source": [
    "## Python 2.7 Required Modules"
   ]
  },
  {
   "cell_type": "code",
   "execution_count": 10,
   "metadata": {},
   "outputs": [],
   "source": [
    "import glob\n",
    "import numpy as np\n",
    "import pandas as pd\n",
    "import collections"
   ]
  },
  {
   "cell_type": "markdown",
   "metadata": {},
   "source": [
    "### TCGA Samples"
   ]
  },
  {
   "cell_type": "markdown",
   "metadata": {},
   "source": [
    "Get sample list"
   ]
  },
  {
   "cell_type": "code",
   "execution_count": 9,
   "metadata": {
    "scrolled": true
   },
   "outputs": [],
   "source": [
    "# initialize list of patients with R132H mutation\n",
    "r132h = []\n",
    "\n",
    "# iterate over maf files\n",
    "for fn in glob.glob('../../../qFlux-files/mutation/input_data/TCGA/*.maf'):\n",
    "    \n",
    "    # load file\n",
    "    df_maf = pd.read_table(fn,skiprows=[0,1,2,3,4],header=0)\n",
    "    \n",
    "    # only look at IDH1 R132H mutations\n",
    "    df_maf = df_maf[df_maf['Hugo_Symbol'] == 'IDH1']\n",
    "    df_maf = df_maf[df_maf['HGVSp_Short'] == 'p.R132H']\n",
    "   \n",
    "    # get list of patients with IDH1 R132H mutation\n",
    "    samples = df_maf['Tumor_Sample_Barcode'].values.tolist()\n",
    "    for sample in samples:\n",
    "        if sample[:16] not in r132h:\n",
    "            r132h.append(sample[:16])"
   ]
  },
  {
   "cell_type": "markdown",
   "metadata": {},
   "source": [
    "Output sample list"
   ]
  },
  {
   "cell_type": "code",
   "execution_count": 12,
   "metadata": {},
   "outputs": [],
   "source": [
    "with open('TCGA.txt','w') as f:\n",
    "    for sample in r132h:\n",
    "        f.write('%s\\n' % sample)"
   ]
  },
  {
   "cell_type": "markdown",
   "metadata": {},
   "source": [
    "### NCI-60 and HNSCC Samples"
   ]
  },
  {
   "cell_type": "markdown",
   "metadata": {},
   "source": [
    "Get sample list"
   ]
  },
  {
   "cell_type": "code",
   "execution_count": 17,
   "metadata": {
    "scrolled": true
   },
   "outputs": [],
   "source": [
    "# load data\n",
    "wb = pd.ExcelFile('../../../qFlux-files/mutation/input_data/NCI60/WES_variants.xlsx')\n",
    "mutation_data = wb.parse('WES_variants')\n",
    "\n",
    "# load clinical information\n",
    "clinical = pd.read_csv('../../../qFlux-files/clinical/input_data/NCI60/NCI60.csv',index_col=0)\n",
    "\n",
    "# initialize list of patients with R132H mutation\n",
    "r132h = []\n",
    "\n",
    "# only look at IDH1 R132H mutations\n",
    "mutation_data = mutation_data[mutation_data['Gene'] == 'IDH1']\n",
    "mutation_data = mutation_data[mutation_data['AA'] == 'p.R132H']\n",
    "\n",
    "# no cell lines with this mutation..."
   ]
  }
 ],
 "metadata": {
  "kernelspec": {
   "display_name": "Python 2",
   "language": "python",
   "name": "python2"
  },
  "language_info": {
   "codemirror_mode": {
    "name": "ipython",
    "version": 2
   },
   "file_extension": ".py",
   "mimetype": "text/x-python",
   "name": "python",
   "nbconvert_exporter": "python",
   "pygments_lexer": "ipython2",
   "version": "2.7.12"
  },
  "toc": {
   "nav_menu": {},
   "number_sections": true,
   "sideBar": true,
   "skip_h1_title": true,
   "title_cell": "Table of Contents",
   "title_sidebar": "Contents",
   "toc_cell": true,
   "toc_position": {},
   "toc_section_display": true,
   "toc_window_display": false
  }
 },
 "nbformat": 4,
 "nbformat_minor": 2
}
