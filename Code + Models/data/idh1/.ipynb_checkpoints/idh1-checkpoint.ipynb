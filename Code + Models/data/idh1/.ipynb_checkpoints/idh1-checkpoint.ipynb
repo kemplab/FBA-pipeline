{
 "cells": [
  {
   "cell_type": "markdown",
   "metadata": {},
   "source": [
    "# Data Pipeline - IDH1 mutations"
   ]
  },
  {
   "cell_type": "markdown",
   "metadata": {},
   "source": [
    "## Required Python Libraries"
   ]
  },
  {
   "cell_type": "code",
   "execution_count": null,
   "metadata": {},
   "outputs": [],
   "source": [
    "import glob\n",
    "import numpy as np\n",
    "import pandas as pd"
   ]
  },
  {
   "cell_type": "markdown",
   "metadata": {},
   "source": [
    "## Code"
   ]
  },
  {
   "cell_type": "markdown",
   "metadata": {},
   "source": [
    "List of mutations"
   ]
  },
  {
   "cell_type": "code",
   "execution_count": null,
   "metadata": {},
   "outputs": [],
   "source": [
    "mutations = ['H133Q','A134D','R100Q','R132H','R132C','R132G','R132W','R132A','R132Q','R132K','R132N']\n",
    "patients = [[] for x in mutations]"
   ]
  },
  {
   "cell_type": "markdown",
   "metadata": {},
   "source": [
    "TCGA samples"
   ]
  },
  {
   "cell_type": "code",
   "execution_count": null,
   "metadata": {
    "scrolled": true
   },
   "outputs": [],
   "source": [
    "# iterate over maf files\n",
    "for fn in glob.glob('../mutation/_data_/input/TCGA/*.maf'):\n",
    "    \n",
    "    # load file\n",
    "    df_maf = pd.read_table(fn,skiprows=[0,1,2,3,4],header=0)\n",
    "    \n",
    "    # only look at IDH1 mutations\n",
    "    df_maf = df_maf[df_maf['Hugo_Symbol'] == 'IDH1']\n",
    "    \n",
    "    # iterate over mutations\n",
    "    for i,mutation in enumerate(mutations):\n",
    "        df_maf_mutation = df_maf[df_maf['HGVSp_Short'] == 'p.%s' % mutation]\n",
    "\n",
    "        # get list of patients with mutation\n",
    "        samples = df_maf_mutation['Tumor_Sample_Barcode'].values.tolist()\n",
    "        for sample in samples:\n",
    "            if sample[:16] not in patients[i]:\n",
    "                patients[i].append(sample[:16])"
   ]
  },
  {
   "cell_type": "markdown",
   "metadata": {},
   "source": [
    "CCLE samples"
   ]
  },
  {
   "cell_type": "code",
   "execution_count": null,
   "metadata": {
    "scrolled": true
   },
   "outputs": [],
   "source": [
    "# load file\n",
    "df_maf = pd.read_table('../mutation/_data_/input/CCLE/CCLE_DepMap_18q3_maf_20180718.txt')\n",
    "\n",
    "# only look at IDH1 mutations\n",
    "df_maf = df_maf[df_maf['Hugo_Symbol'] == 'IDH1']\n",
    "\n",
    "# iterate over mutations\n",
    "for i,mutation in enumerate(mutations):\n",
    "    df_maf_mutation = df_maf[df_maf['Protein_Change'] == 'p.%s' % mutation]\n",
    "\n",
    "    # get list of patients with mutation\n",
    "    samples = [x.split('_')[0] for x in df_maf_mutation['Tumor_Sample_Barcode'].values.tolist()]\n",
    "    for sample in samples:\n",
    "        if sample not in patients[i]:\n",
    "            patients[i].append(sample)"
   ]
  },
  {
   "cell_type": "markdown",
   "metadata": {},
   "source": [
    "Output sample list"
   ]
  },
  {
   "cell_type": "code",
   "execution_count": null,
   "metadata": {},
   "outputs": [],
   "source": [
    "for i,mutation in enumerate(mutations):\n",
    "    with open('%s.txt' % mutation,'w') as f:\n",
    "        for sample in patients[i]:\n",
    "            f.write('%s\\n' % sample)"
   ]
  }
 ],
 "metadata": {
  "kernelspec": {
   "display_name": "Python 3",
   "language": "python",
   "name": "python3"
  },
  "language_info": {
   "codemirror_mode": {
    "name": "ipython",
    "version": 2
   },
   "file_extension": ".py",
   "mimetype": "text/x-python",
   "name": "python",
   "nbconvert_exporter": "python",
   "pygments_lexer": "ipython2",
   "version": "2.7.12"
  },
  "toc": {
   "nav_menu": {},
   "number_sections": true,
   "sideBar": true,
   "skip_h1_title": true,
   "title_cell": "Table of Contents",
   "title_sidebar": "Contents",
   "toc_cell": true,
   "toc_position": {},
   "toc_section_display": true,
   "toc_window_display": false
  }
 },
 "nbformat": 4,
 "nbformat_minor": 2
}
