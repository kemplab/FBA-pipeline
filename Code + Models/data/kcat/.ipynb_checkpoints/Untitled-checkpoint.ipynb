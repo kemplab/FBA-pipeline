{
 "cells": [
  {
   "cell_type": "code",
   "execution_count": null,
   "metadata": {},
   "outputs": [],
   "source": [
    "import pandas as pd\n",
    "import numpy as np"
   ]
  },
  {
   "cell_type": "code",
   "execution_count": null,
   "metadata": {},
   "outputs": [],
   "source": [
    "df = pd.read_csv('kcat_forward - Copy.csv')\n",
    "df.loc[df.shape[0]] = ['SINK_fdump[c]',np.nan,np.nan]\n",
    "df.loc[df.shape[0]] = ['SINK_cis-mtDNA[m]',np.nan,np.nan]\n",
    "df.at[df['REACTION'].values.tolist().index('fdump_fdudp'),'REACTION'] = 'fdudp_fdump'\n",
    "df.at[df['REACTION'].values.tolist().index('fbal_transport_e_c'),'REACTION'] = 'fbal_transport_c_e'\n",
    "df.at[df['REACTION'].values.tolist().index('doxHQ_transport_e_c'),'REACTION'] = 'doxHQ_transport_c_e'\n",
    "df.at[df['REACTION'].values.tolist().index('doxdeoxy_transport_e_c'),'REACTION'] = 'doxdeoxy_transport_c_e'\n",
    "df.at[df['REACTION'].values.tolist().index('daun_transport_e_c'),'REACTION'] = 'daun_transport_c_e'\n",
    "df.at[df['REACTION'].values.tolist().index('cisMT_transport_e_c'),'REACTION'] = 'cisMT_transport_c_e'\n",
    "df.at[df['REACTION'].values.tolist().index('dce-cpa_transport_e_c'),'REACTION'] = 'dce-cpa_transport_c_e'\n",
    "df.at[df['REACTION'].values.tolist().index('caa_transport_e_c'),'REACTION'] = 'caa_transport_c_e'\n",
    "df.at[df['REACTION'].values.tolist().index('4k-cpa_transport_e_c'),'REACTION'] = '4k-cpa_transport_c_e'\n",
    "df.at[df['REACTION'].values.tolist().index('alcph_transport_e_c'),'REACTION'] = 'alcph_transport_c_e'\n",
    "df.at[df['REACTION'].values.tolist().index('cph_transport_e_c'),'REACTION'] = 'cph_transport_c_e'\n",
    "df.to_csv('kcat_forward.csv', index=False)"
   ]
  },
  {
   "cell_type": "code",
   "execution_count": null,
   "metadata": {},
   "outputs": [],
   "source": [
    "df = pd.read_csv('kcat_reverse - Copy.csv')\n",
    "df.loc[df.shape[0]] = ['SINK_fdump[c]',np.nan,np.nan]\n",
    "df.loc[df.shape[0]] = ['SINK_cis-mtDNA[m]',np.nan,np.nan]\n",
    "df.at[df['REACTION'].values.tolist().index('fdump_fdudp'),'REACTION'] = 'fdudp_fdump'\n",
    "df.at[df['REACTION'].values.tolist().index('fbal_transport_e_c'),'REACTION'] = 'fbal_transport_c_e'\n",
    "df.at[df['REACTION'].values.tolist().index('doxHQ_transport_e_c'),'REACTION'] = 'doxHQ_transport_c_e'\n",
    "df.at[df['REACTION'].values.tolist().index('doxdeoxy_transport_e_c'),'REACTION'] = 'doxdeoxy_transport_c_e'\n",
    "df.at[df['REACTION'].values.tolist().index('daun_transport_e_c'),'REACTION'] = 'daun_transport_c_e'\n",
    "df.at[df['REACTION'].values.tolist().index('cisMT_transport_e_c'),'REACTION'] = 'cisMT_transport_c_e'\n",
    "df.at[df['REACTION'].values.tolist().index('dce-cpa_transport_e_c'),'REACTION'] = 'dce-cpa_transport_c_e'\n",
    "df.at[df['REACTION'].values.tolist().index('caa_transport_e_c'),'REACTION'] = 'caa_transport_c_e'\n",
    "df.at[df['REACTION'].values.tolist().index('4k-cpa_transport_e_c'),'REACTION'] = '4k-cpa_transport_c_e'\n",
    "df.at[df['REACTION'].values.tolist().index('alcph_transport_e_c'),'REACTION'] = 'alcph_transport_c_e'\n",
    "df.at[df['REACTION'].values.tolist().index('cph_transport_e_c'),'REACTION'] = 'cph_transport_c_e'\n",
    "df.to_csv('kcat_reverse.csv', index=False)"
   ]
  },
  {
   "cell_type": "code",
   "execution_count": null,
   "metadata": {},
   "outputs": [],
   "source": []
  }
 ],
 "metadata": {
  "kernelspec": {
   "display_name": "Python 3",
   "language": "python",
   "name": "python3"
  },
  "language_info": {
   "codemirror_mode": {
    "name": "ipython",
    "version": 3
   },
   "file_extension": ".py",
   "mimetype": "text/x-python",
   "name": "python",
   "nbconvert_exporter": "python",
   "pygments_lexer": "ipython3",
   "version": "3.7.3"
  }
 },
 "nbformat": 4,
 "nbformat_minor": 2
}
