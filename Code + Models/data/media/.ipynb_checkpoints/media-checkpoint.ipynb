{
 "cells": [
  {
   "cell_type": "markdown",
   "metadata": {},
   "source": [
    "# Data Pipeline - Cell Culture Media"
   ]
  },
  {
   "cell_type": "markdown",
   "metadata": {
    "toc": true
   },
   "source": [
    "<h1>Table of Contents<span class=\"tocSkip\"></span></h1>\n",
    "<div class=\"toc\"><ul class=\"toc-item\"><li><span><a href=\"#Python-2.7-Required-Modules\" data-toc-modified-id=\"Python-2.7-Required-Modules-1\"><span class=\"toc-item-num\">1&nbsp;&nbsp;</span>Python 2.7 Required Modules</a></span></li><li><span><a href=\"#Input-Data\" data-toc-modified-id=\"Input-Data-2\"><span class=\"toc-item-num\">2&nbsp;&nbsp;</span>Input Data</a></span></li><li><span><a href=\"#Obtain-exchange-flux-values-from-media-formulation\" data-toc-modified-id=\"Obtain-exchange-flux-values-from-media-formulation-3\"><span class=\"toc-item-num\">3&nbsp;&nbsp;</span>Obtain exchange flux values from media formulation</a></span></li></ul></div>"
   ]
  },
  {
   "cell_type": "markdown",
   "metadata": {},
   "source": [
    "## Python 2.7 Required Modules"
   ]
  },
  {
   "cell_type": "code",
   "execution_count": 4,
   "metadata": {},
   "outputs": [],
   "source": [
    "import glob\n",
    "import numpy as np\n",
    "import pandas as pd\n",
    "import xlrd"
   ]
  },
  {
   "cell_type": "markdown",
   "metadata": {},
   "source": [
    "## Input Data"
   ]
  },
  {
   "cell_type": "markdown",
   "metadata": {},
   "source": [
    "'*MEDIANAME*.xlsx' - Media formulation files"
   ]
  },
  {
   "cell_type": "markdown",
   "metadata": {},
   "source": [
    "## Obtain exchange flux values from media formulation"
   ]
  },
  {
   "cell_type": "code",
   "execution_count": 2,
   "metadata": {},
   "outputs": [],
   "source": [
    "# iterate over formulation files\n",
    "for fn in glob.glob('../../../qFlux-files/media/input_data/*.xlsx'):\n",
    "    \n",
    "    # initialize dictionary of values\n",
    "    media = {}\n",
    "    \n",
    "    # load formulation file\n",
    "    wb = xlrd.open_workbook(fn)\n",
    "    \n",
    "    # iterate over sheets\n",
    "    for sheetname in wb.sheet_names():\n",
    "        if str(sheetname) != 'REFERENCE':\n",
    "            \n",
    "            # load sheet\n",
    "            sheet = wb.sheet_by_name(str(sheetname))\n",
    "            \n",
    "            # metabolite id: column 6, start at row 3\n",
    "            # exchange reaction names: column 7, start at row 3\n",
    "            # concentration values: column 8, start at row 3\n",
    "            for i in range(2,len(sheet.col(6))):\n",
    "                \n",
    "                # if reaction already exists, add to current value\n",
    "                if str(sheet.col(6)[i].value) in media:\n",
    "                    media[str(sheet.col(6)[i].value)]['value'] += float(sheet.col(7)[i].value)\n",
    "\n",
    "                # if reaction doesn't exist, add new entry\n",
    "                else:\n",
    "                    media[str(sheet.col(6)[i].value)] = {}\n",
    "                    media[str(sheet.col(6)[i].value)]['met'] = str(sheet.col(5)[i].value)\n",
    "                    media[str(sheet.col(6)[i].value)]['value'] = float(sheet.col(7)[i].value)\n",
    "    \n",
    "    # create media file\n",
    "    with open('%s.csv' % fn.split('/')[-1].split('.xlsx')[0], 'w') as f:\n",
    "        \n",
    "        # header\n",
    "        f.write('METABOLITE,REACTION,CONCENTRATION [M]\\n')\n",
    "        \n",
    "        # add entries\n",
    "        for reaction in sorted(media.keys()):\n",
    "            f.write('%s,%s,%g\\n' % (media[reaction]['met'],reaction,media[reaction]['value']))"
   ]
  },
  {
   "cell_type": "code",
   "execution_count": 3,
   "metadata": {},
   "outputs": [
    {
     "data": {
      "text/plain": [
       "'../../../qFlux-files/media/input_data/RPMI-1640.xlsx'"
      ]
     },
     "execution_count": 3,
     "metadata": {},
     "output_type": "execute_result"
    }
   ],
   "source": [
    "fn"
   ]
  },
  {
   "cell_type": "code",
   "execution_count": null,
   "metadata": {},
   "outputs": [],
   "source": []
  }
 ],
 "metadata": {
  "kernelspec": {
   "display_name": "Python 2",
   "language": "python",
   "name": "python2"
  },
  "language_info": {
   "codemirror_mode": {
    "name": "ipython",
    "version": 2
   },
   "file_extension": ".py",
   "mimetype": "text/x-python",
   "name": "python",
   "nbconvert_exporter": "python",
   "pygments_lexer": "ipython2",
   "version": "2.7.12"
  },
  "toc": {
   "nav_menu": {},
   "number_sections": true,
   "sideBar": true,
   "skip_h1_title": true,
   "title_cell": "Table of Contents",
   "title_sidebar": "Contents",
   "toc_cell": true,
   "toc_position": {},
   "toc_section_display": true,
   "toc_window_display": false
  }
 },
 "nbformat": 4,
 "nbformat_minor": 2
}
