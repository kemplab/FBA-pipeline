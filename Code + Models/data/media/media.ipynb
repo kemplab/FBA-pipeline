{
 "cells": [
  {
   "cell_type": "markdown",
   "metadata": {},
   "source": [
    "# Data Pipeline - Cell culture media"
   ]
  },
  {
   "cell_type": "markdown",
   "metadata": {},
   "source": [
    "## Required Python Libraries"
   ]
  },
  {
   "cell_type": "code",
   "execution_count": 4,
   "metadata": {},
   "outputs": [],
   "source": [
    "import glob\n",
    "import numpy as np\n",
    "import pandas as pd\n",
    "import xlrd"
   ]
  },
  {
   "cell_type": "markdown",
   "metadata": {},
   "source": [
    "## Input Files"
   ]
  },
  {
   "cell_type": "markdown",
   "metadata": {},
   "source": [
    "Put media formulation information in the 'input' folder"
   ]
  },
  {
   "cell_type": "markdown",
   "metadata": {},
   "source": [
    "## Code"
   ]
  },
  {
   "cell_type": "code",
   "execution_count": 2,
   "metadata": {},
   "outputs": [],
   "source": [
    "# iterate over formulation files\n",
    "for fn in glob.glob('../../../qFlux-files/media/input_data/*.xlsx'):\n",
    "    \n",
    "    # initialize dictionary of values\n",
    "    media = {}\n",
    "    \n",
    "    # load formulation file\n",
    "    wb = xlrd.open_workbook(fn)\n",
    "    \n",
    "    # iterate over sheets\n",
    "    for sheetname in wb.sheet_names():\n",
    "        if str(sheetname) != 'REFERENCE':\n",
    "            \n",
    "            # load sheet\n",
    "            sheet = wb.sheet_by_name(str(sheetname))\n",
    "            \n",
    "            # metabolite id: column 6, start at row 3\n",
    "            # exchange reaction names: column 7, start at row 3\n",
    "            # concentration values: column 8, start at row 3\n",
    "            for i in range(2,len(sheet.col(6))):\n",
    "                \n",
    "                # if reaction already exists, add to current value\n",
    "                if str(sheet.col(6)[i].value) in media:\n",
    "                    media[str(sheet.col(6)[i].value)]['value'] += float(sheet.col(7)[i].value)\n",
    "\n",
    "                # if reaction doesn't exist, add new entry\n",
    "                else:\n",
    "                    media[str(sheet.col(6)[i].value)] = {}\n",
    "                    media[str(sheet.col(6)[i].value)]['met'] = str(sheet.col(5)[i].value)\n",
    "                    media[str(sheet.col(6)[i].value)]['value'] = float(sheet.col(7)[i].value)\n",
    "    \n",
    "    # create media file\n",
    "    with open('%s.csv' % fn.split('/')[-1].split('.xlsx')[0], 'w') as f:\n",
    "        \n",
    "        # header\n",
    "        f.write('METABOLITE,REACTION,CONCENTRATION [M]\\n')\n",
    "        \n",
    "        # add entries\n",
    "        for reaction in sorted(media.keys()):\n",
    "            f.write('%s,%s,%g\\n' % (media[reaction]['met'],reaction,media[reaction]['value']))"
   ]
  },
  {
   "cell_type": "code",
   "execution_count": null,
   "metadata": {},
   "outputs": [],
   "source": []
  }
 ],
 "metadata": {
  "kernelspec": {
   "display_name": "Python 3",
   "language": "python",
   "name": "python3"
  },
  "language_info": {
   "codemirror_mode": {
    "name": "ipython",
    "version": 3
   },
   "file_extension": ".py",
   "mimetype": "text/x-python",
   "name": "python",
   "nbconvert_exporter": "python",
   "pygments_lexer": "ipython3",
   "version": "3.7.3"
  },
  "toc": {
   "nav_menu": {},
   "number_sections": true,
   "sideBar": true,
   "skip_h1_title": true,
   "title_cell": "Table of Contents",
   "title_sidebar": "Contents",
   "toc_cell": true,
   "toc_position": {},
   "toc_section_display": true,
   "toc_window_display": false
  }
 },
 "nbformat": 4,
 "nbformat_minor": 2
}
