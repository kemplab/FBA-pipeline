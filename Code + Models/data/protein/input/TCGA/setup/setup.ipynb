{
 "cells": [
  {
   "cell_type": "code",
   "execution_count": 1,
   "metadata": {},
   "outputs": [],
   "source": [
    "import pandas as pd"
   ]
  },
  {
   "cell_type": "markdown",
   "metadata": {},
   "source": [
    "Load data"
   ]
  },
  {
   "cell_type": "code",
   "execution_count": 2,
   "metadata": {},
   "outputs": [],
   "source": [
    "df1 = pd.read_table('GSM1536837_06_01_15_TCGA_24.tumor_Rsubread_TPM.txt', index_col=0)\n",
    "df2 = pd.read_table('GSM1697009_06_01_15_TCGA_24.normal_Rsubread_TPM.txt', index_col=0)\n",
    "df = pd.concat([df1, df2], axis=1, sort=False)"
   ]
  },
  {
   "cell_type": "markdown",
   "metadata": {},
   "source": [
    "Manage duplicate samples"
   ]
  },
  {
   "cell_type": "code",
   "execution_count": 3,
   "metadata": {},
   "outputs": [],
   "source": [
    "# get sample names\n",
    "samples_full = df.columns.tolist()\n",
    "samples = [x[:16] for x in df.columns.tolist()]\n",
    "\n",
    "# decide which samples to keep\n",
    "keep = []\n",
    "for i in range(len(samples)):\n",
    "    \n",
    "    # find duplicate samples\n",
    "    others = [j for j,x in enumerate(samples) if x == samples[i]]\n",
    "\n",
    "    # if duplicate samples\n",
    "    if len(others) > 1:\n",
    "        \n",
    "        # check 1: analytes: prefer H > R > T\n",
    "        # check if only 1 H\n",
    "        analytes_H = [j for j,x in enumerate([samples_full[k] for k in others]) if x[19]=='H']\n",
    "        if len(analytes_H) == 1:\n",
    "            \n",
    "            # found match\n",
    "            if analytes_H[0] not in keep:\n",
    "                keep.append(analytes_H[0])\n",
    "                \n",
    "        else:\n",
    "            \n",
    "            # check if only 1 R\n",
    "            analytes_R = [j for j,x in enumerate([samples_full[k] for k in others]) if x[19]=='R']\n",
    "            if len(analytes_R) == 1:\n",
    "                \n",
    "                # found match\n",
    "                if analytes_R[0] not in keep:\n",
    "                    keep.append(analytes_R[0])\n",
    "                    \n",
    "            else:\n",
    "                \n",
    "                # check 2: highest lexicographical sort value\n",
    "                sorted_values = sorted([samples_full[k] for k in others])\n",
    "                for j in others:\n",
    "                    if samples_full[j] == sorted_values[-1]:\n",
    "                        if j not in keep:\n",
    "                            keep.append(j)\n",
    "                            \n",
    "    # if no duplicate samples\n",
    "    else:\n",
    "        keep.append(i)"
   ]
  },
  {
   "cell_type": "code",
   "execution_count": 4,
   "metadata": {},
   "outputs": [],
   "source": [
    "# remove duplicate samples\n",
    "df = df[[samples_full[i] for i in keep]]\n",
    "    \n",
    "# edit sample names\n",
    "df.columns = [x[:16] for x in df.columns.tolist()]"
   ]
  },
  {
   "cell_type": "markdown",
   "metadata": {},
   "source": [
    "Export"
   ]
  },
  {
   "cell_type": "code",
   "execution_count": 11,
   "metadata": {},
   "outputs": [],
   "source": [
    "df.index.name = 'Gene Symbol'\n",
    "df.to_csv('../TCGA.txt', sep='\\t')"
   ]
  },
  {
   "cell_type": "code",
   "execution_count": null,
   "metadata": {},
   "outputs": [],
   "source": []
  }
 ],
 "metadata": {
  "kernelspec": {
   "display_name": "Python 2",
   "language": "python",
   "name": "python2"
  },
  "language_info": {
   "codemirror_mode": {
    "name": "ipython",
    "version": 2
   },
   "file_extension": ".py",
   "mimetype": "text/x-python",
   "name": "python",
   "nbconvert_exporter": "python",
   "pygments_lexer": "ipython2",
   "version": "2.7.12"
  }
 },
 "nbformat": 4,
 "nbformat_minor": 2
}
