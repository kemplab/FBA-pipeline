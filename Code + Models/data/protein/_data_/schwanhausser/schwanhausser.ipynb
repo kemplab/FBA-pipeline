{
 "cells": [
  {
   "cell_type": "code",
   "execution_count": 1,
   "metadata": {},
   "outputs": [],
   "source": [
    "import numpy as np\n",
    "import pandas as pd"
   ]
  },
  {
   "cell_type": "markdown",
   "metadata": {},
   "source": [
    "### Load data"
   ]
  },
  {
   "cell_type": "code",
   "execution_count": 2,
   "metadata": {},
   "outputs": [],
   "source": [
    "# schwanhausser\n",
    "df = pd.read_excel('nature10098-s5.xls')\n",
    "\n",
    "# recon gene list\n",
    "recon_genes = sorted(pd.read_table('../recon/genes.tsv')['SYMBOL'].tolist())"
   ]
  },
  {
   "cell_type": "markdown",
   "metadata": {},
   "source": [
    "### k_sp and k_dp for each gene"
   ]
  },
  {
   "cell_type": "code",
   "execution_count": 3,
   "metadata": {},
   "outputs": [],
   "source": [
    "# average parameter values for each gene\n",
    "genes = [str(x) for x in df['Gene Names']]\n",
    "ksp_average = [float(x) for x in df['translation rate constant (ksp) average [molecules/(mRNA*h)]']]\n",
    "kdp_average = [np.log(2)/float(x) for x in df['Protein half-life average [h]']]\n",
    "\n",
    "# get values for Recon genes\n",
    "ksp_values = []\n",
    "kdp_values = []\n",
    "for i in range(len(recon_genes)):\n",
    "    ksp_values.append([])\n",
    "    kdp_values.append([])\n",
    "    for j in range(len(genes)):\n",
    "        if type(genes[j]) == str:\n",
    "            \n",
    "            # if match\n",
    "            if recon_genes[i] in [x.upper() for x in genes[j].split(';')]:\n",
    "                \n",
    "                # if ksp value available\n",
    "                if not np.isnan(ksp_average[j]):\n",
    "                    ksp_values[-1].append(ksp_average[j])\n",
    "                \n",
    "                # if kdp value available\n",
    "                if not np.isnan(kdp_average[j]):\n",
    "                    kdp_values[-1].append(kdp_average[j])\n",
    "\n",
    "# export values\n",
    "with open('parameters.csv','w') as f:\n",
    "    f.write('GENE,KSP [1/hr],KDP [1/hr]\\n')\n",
    "    for i in range(len(recon_genes)):\n",
    "        if (len(ksp_values[i]) > 0) and (len(kdp_values[i]) > 0):\n",
    "            \n",
    "            # SLC29A1 doesn't work well, predictions too low\n",
    "            if recon_genes[i] != 'SLC29A1':     \n",
    "                f.write('%s,%f,%f\\n' % (recon_genes[i], np.mean(ksp_values[i]), np.mean(kdp_values[i])))"
   ]
  },
  {
   "cell_type": "markdown",
   "metadata": {},
   "source": [
    "#### Total cellular protein number"
   ]
  },
  {
   "cell_type": "code",
   "execution_count": 4,
   "metadata": {},
   "outputs": [],
   "source": [
    "# load protein number for each gene\n",
    "protein_number = df['Protein copy number average [molecules/cell]']\n",
    "\n",
    "# output total cellular protein number\n",
    "with open('protein_number.txt','w') as f:\n",
    "    f.write('%f' % np.sum(protein_number))"
   ]
  },
  {
   "cell_type": "markdown",
   "metadata": {},
   "source": [
    "#### Total cellular mRNA number"
   ]
  },
  {
   "cell_type": "code",
   "execution_count": 5,
   "metadata": {},
   "outputs": [],
   "source": [
    "# load protein number for each gene\n",
    "mrna_number = df['mRNA copy number average [molecules/cell]']\n",
    "\n",
    "# output total cellular protein number\n",
    "with open('mrna_number.txt','w') as f:\n",
    "    f.write('%f' % np.sum(mrna_number))"
   ]
  },
  {
   "cell_type": "code",
   "execution_count": null,
   "metadata": {},
   "outputs": [],
   "source": []
  }
 ],
 "metadata": {
  "kernelspec": {
   "display_name": "Python 2",
   "language": "python",
   "name": "python2"
  },
  "language_info": {
   "codemirror_mode": {
    "name": "ipython",
    "version": 2
   },
   "file_extension": ".py",
   "mimetype": "text/x-python",
   "name": "python",
   "nbconvert_exporter": "python",
   "pygments_lexer": "ipython2",
   "version": "2.7.12"
  }
 },
 "nbformat": 4,
 "nbformat_minor": 2
}
