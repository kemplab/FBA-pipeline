{
 "cells": [
  {
   "cell_type": "code",
   "execution_count": 1,
   "metadata": {},
   "outputs": [],
   "source": [
    "import numpy as np\n",
    "import pandas as pd\n",
    "import urllib2\n",
    "import json\n",
    "import pickle"
   ]
  },
  {
   "cell_type": "markdown",
   "metadata": {},
   "source": [
    "Load transcript lengths"
   ]
  },
  {
   "cell_type": "code",
   "execution_count": 2,
   "metadata": {},
   "outputs": [],
   "source": [
    "df_transcripts = pd.read_table('biomart_transcript_lengths.txt')\n",
    "ensembltranscript = df_transcripts['Transcript stable ID'].tolist()\n",
    "ensembltranscript_length = {}\n",
    "for i in range(df_transcripts.shape[0]):\n",
    "    ensembltranscript_length[df_transcripts.loc[i]['Transcript stable ID']] = df_transcripts.loc[i]['Transcript length (including UTRs and CDS)']"
   ]
  },
  {
   "cell_type": "markdown",
   "metadata": {},
   "source": [
    "Ensembl Transcript ID to Gene Symbol"
   ]
  },
  {
   "cell_type": "code",
   "execution_count": 5,
   "metadata": {},
   "outputs": [],
   "source": [
    "stepsize = 400\n",
    "convert_ensembltranscript_genesymbol = {}\n",
    "convert_genesymbol_ensembltranscript = {}\n",
    "genesymbol = []\n",
    "for i in range(len(ensembltranscript)/stepsize+1):\n",
    "    if i < len(ensembltranscript)/stepsize:\n",
    "        string = ','.join(ensembltranscript[(stepsize*i):(stepsize*(i+1))])\n",
    "    else:\n",
    "        string = ','.join(ensembltranscript[(stepsize*i):])\n",
    "    url = 'https://biodbnet-abcc.ncifcrf.gov/webServices/rest.php/biodbnetRestApi.json?method=db2db&input=ensembltranscriptid&inputValues=%s&outputs=genesymbol&taxonId=9606&format=row' % string\n",
    "    data = json.loads(urllib2.urlopen(url).read())\n",
    "    for j in range(len(data)):\n",
    "        if str(data[j]['Gene Symbol']) != '-':\n",
    "            convert_ensembltranscript_genesymbol[str(data[j]['InputValue'])] = str(data[j]['Gene Symbol']).split('//')\n",
    "            genesymbol.extend(str(data[j]['Gene Symbol']).split('//'))\n",
    "            for gene in str(data[j]['Gene Symbol']).split('//'):\n",
    "                if gene not in convert_genesymbol_ensembltranscript:\n",
    "                    convert_genesymbol_ensembltranscript[gene] = [str(data[j]['InputValue'])]\n",
    "                elif str(data[j]['InputValue']) not in convert_genesymbol_ensembltranscript[gene]:\n",
    "                    convert_genesymbol_ensembltranscript[gene].append(str(data[j]['InputValue']))\n",
    "genesymbol = list(set(genesymbol))"
   ]
  },
  {
   "cell_type": "markdown",
   "metadata": {},
   "source": [
    "Largest transcript length for every gene"
   ]
  },
  {
   "cell_type": "code",
   "execution_count": 6,
   "metadata": {},
   "outputs": [],
   "source": [
    "genesymbol_length = {}\n",
    "for symbol in genesymbol:\n",
    "    values = [ensembltranscript_length[transcript] for transcript in convert_genesymbol_ensembltranscript[symbol]]\n",
    "    genesymbol_length[symbol] = np.max(values)"
   ]
  },
  {
   "cell_type": "markdown",
   "metadata": {},
   "source": [
    "Gene ID to Gene Symbol"
   ]
  },
  {
   "cell_type": "code",
   "execution_count": 7,
   "metadata": {},
   "outputs": [],
   "source": [
    "stepsize = 500\n",
    "convert_geneid_genesymbol = {}\n",
    "for i in range(len(genesymbol)/stepsize+1):\n",
    "    if i < len(genesymbol)/stepsize:\n",
    "        string = ','.join(genesymbol[(stepsize*i):(stepsize*(i+1))])\n",
    "    else:\n",
    "        string = ','.join(genesymbol[(stepsize*i):])\n",
    "    url = 'https://biodbnet-abcc.ncifcrf.gov/webServices/rest.php/biodbnetRestApi.json?method=db2db&input=genesymbol&inputValues=%s&outputs=geneid&taxonId=9606&format=row' % string\n",
    "    data = json.loads(urllib2.urlopen(url).read())\n",
    "    for j in range(len(data)):\n",
    "        for gene in [int(x) for x in str(data[j]['Gene ID']).split('//')]:\n",
    "            convert_geneid_genesymbol[gene] = str(data[j]['InputValue'])"
   ]
  },
  {
   "cell_type": "markdown",
   "metadata": {},
   "source": [
    "Ensembl Gene ID to Gene Symbol"
   ]
  },
  {
   "cell_type": "code",
   "execution_count": 8,
   "metadata": {},
   "outputs": [],
   "source": [
    "stepsize = 500\n",
    "convert_ensemblgeneid_genesymbol = {}\n",
    "for i in range(len(genesymbol)/stepsize+1):\n",
    "    if i < len(genesymbol)/stepsize:\n",
    "        string = ','.join(genesymbol[(stepsize*i):(stepsize*(i+1))])\n",
    "    else:\n",
    "        string = ','.join(genesymbol[(stepsize*i):])\n",
    "    url = 'https://biodbnet-abcc.ncifcrf.gov/webServices/rest.php/biodbnetRestApi.json?method=db2db&input=genesymbol&inputValues=%s&outputs=ensemblgeneid&taxonId=9606&format=row' % string\n",
    "    data = json.loads(urllib2.urlopen(url).read())\n",
    "    for j in range(len(data)):\n",
    "        for gene in str(data[j]['Ensembl Gene ID']).split('//'):\n",
    "            if gene not in convert_ensemblgeneid_genesymbol:\n",
    "                convert_ensemblgeneid_genesymbol[gene] = [str(data[j]['InputValue'])]\n",
    "            elif str(data[j]['InputValue']) not in convert_ensemblgeneid_genesymbol[gene]:\n",
    "                convert_ensemblgeneid_genesymbol[gene].append(str(data[j]['InputValue']))"
   ]
  },
  {
   "cell_type": "markdown",
   "metadata": {},
   "source": [
    "RefSeq mRNA Accession to Ensembl Transcript ID"
   ]
  },
  {
   "cell_type": "code",
   "execution_count": 14,
   "metadata": {},
   "outputs": [],
   "source": [
    "stepsize = 400\n",
    "convert_refseqtranscript_ensembltranscript = {}\n",
    "for i in range(len(ensembltranscript)/stepsize+1):\n",
    "    if i < len(ensembltranscript)/stepsize:\n",
    "        string = ','.join(ensembltranscript[(stepsize*i):(stepsize*(i+1))])\n",
    "    else:\n",
    "        string = ','.join(ensembltranscript[(stepsize*i):])\n",
    "    url = 'https://biodbnet-abcc.ncifcrf.gov/webServices/rest.php/biodbnetRestApi.json?method=db2db&input=ensembltranscriptid&inputValues=%s&outputs=refseqmrnaaccession&taxonId=9606&format=row' % string\n",
    "    data = json.loads(urllib2.urlopen(url).read())\n",
    "    for j in range(len(data)):\n",
    "        if str(data[j]['RefSeq mRNA Accession']) != '-':\n",
    "            for transcript in str(data[j]['RefSeq mRNA Accession']).split('//'):\n",
    "                if transcript != '':\n",
    "                    if transcript not in convert_refseqtranscript_ensembltranscript:\n",
    "                        convert_refseqtranscript_ensembltranscript[transcript] = [str(data[j]['InputValue'])]\n",
    "                    elif str(data[j]['InputValue']) not in convert_refseqtranscript_ensembltranscript[transcript]:\n",
    "                        convert_refseqtranscript_ensembltranscript[transcript].append(str(data[j]['InputValue']))"
   ]
  },
  {
   "cell_type": "markdown",
   "metadata": {},
   "source": [
    "Save data"
   ]
  },
  {
   "cell_type": "code",
   "execution_count": 16,
   "metadata": {},
   "outputs": [],
   "source": [
    "with open('geneids.pkl','w') as f:\n",
    "    pickle.dump([ensembltranscript_length, genesymbol_length, convert_ensembltranscript_genesymbol, convert_geneid_genesymbol, convert_ensemblgeneid_genesymbol, convert_refseqtranscript_ensembltranscript], f)"
   ]
  },
  {
   "cell_type": "code",
   "execution_count": null,
   "metadata": {},
   "outputs": [],
   "source": []
  }
 ],
 "metadata": {
  "kernelspec": {
   "display_name": "Python 2",
   "language": "python",
   "name": "python2"
  },
  "language_info": {
   "codemirror_mode": {
    "name": "ipython",
    "version": 2
   },
   "file_extension": ".py",
   "mimetype": "text/x-python",
   "name": "python",
   "nbconvert_exporter": "python",
   "pygments_lexer": "ipython2",
   "version": "2.7.12"
  }
 },
 "nbformat": 4,
 "nbformat_minor": 2
}
