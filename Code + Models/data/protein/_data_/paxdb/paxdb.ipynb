{
 "cells": [
  {
   "cell_type": "code",
   "execution_count": 1,
   "metadata": {},
   "outputs": [],
   "source": [
    "import numpy as np\n",
    "import pandas as pd\n",
    "import glob\n",
    "import urllib2\n",
    "import json\n",
    "import collections\n",
    "from scipy.stats.mstats import gmean, hmean\n",
    "import pickle"
   ]
  },
  {
   "cell_type": "markdown",
   "metadata": {},
   "source": [
    "Load Recon3 genes"
   ]
  },
  {
   "cell_type": "code",
   "execution_count": 2,
   "metadata": {},
   "outputs": [],
   "source": [
    "recon_genes = sorted(pd.read_table('../recon/genes.tsv')['SYMBOL'].tolist())"
   ]
  },
  {
   "cell_type": "markdown",
   "metadata": {},
   "source": [
    "Convert PaxDB Ensembl protein ID's to gene symbols"
   ]
  },
  {
   "cell_type": "code",
   "execution_count": 3,
   "metadata": {},
   "outputs": [],
   "source": [
    "# load PaxDB ensembl protein ID's\n",
    "ensemblprotein = []\n",
    "for fn in glob.glob('data/*'):\n",
    "    df = pd.read_table(fn, skiprows=range(11))\n",
    "    ensemblprotein.extend([x.split('.')[1] for x in df['string_external_id'].tolist()])\n",
    "ensemblprotein = list(set(ensemblprotein))"
   ]
  },
  {
   "cell_type": "code",
   "execution_count": 4,
   "metadata": {},
   "outputs": [],
   "source": [
    "# convert to gene symbols\n",
    "stepsize = 400\n",
    "convert_genesymbol_ensemblprotein = {}\n",
    "for i in range(len(ensemblprotein)/stepsize+1):\n",
    "    if i < len(ensemblprotein)/stepsize:\n",
    "        string = ','.join(ensemblprotein[(stepsize*i):(stepsize*(i+1))])\n",
    "    else:\n",
    "        string = ','.join(ensemblprotein[(stepsize*i):])\n",
    "    url = 'https://biodbnet-abcc.ncifcrf.gov/webServices/rest.php/biodbnetRestApi.json?method=db2db&input=ensemblproteinid&inputValues=%s&outputs=genesymbol&taxonId=9606&format=row' % string\n",
    "    data = json.loads(urllib2.urlopen(url).read())\n",
    "    for j in range(len(data)):\n",
    "        if str(data[j]['Gene Symbol']) != '-':\n",
    "            for gene in str(data[j]['Gene Symbol']).split('//'):\n",
    "                if gene in recon_genes:\n",
    "                    if gene not in convert_genesymbol_ensemblprotein:\n",
    "                        convert_genesymbol_ensemblprotein[gene] = [str(data[j]['InputValue'])]\n",
    "                    elif str(data[j]['InputValue']) not in convert_genesymbol_ensemblprotein[gene]:\n",
    "                        convert_genesymbol_ensemblprotein[gene].append(str(data[j]['InputValue']))"
   ]
  },
  {
   "cell_type": "code",
   "execution_count": 5,
   "metadata": {},
   "outputs": [],
   "source": [
    "# subset of recon genes that are in PaxDB data\n",
    "recon_genes_paxdb = [x for x in recon_genes if x in convert_genesymbol_ensemblprotein]"
   ]
  },
  {
   "cell_type": "markdown",
   "metadata": {},
   "source": [
    "Get protein abundances for Recon3 genes"
   ]
  },
  {
   "cell_type": "code",
   "execution_count": 6,
   "metadata": {},
   "outputs": [],
   "source": [
    "# initialize values\n",
    "genes = []\n",
    "values = []\n",
    "\n",
    "# iterate over datasets\n",
    "for fn in glob.glob('data/*'):\n",
    "    \n",
    "    # load data\n",
    "    df = pd.read_table(fn, skiprows=range(11), index_col = 1)\n",
    "    df.index = [x.split('.')[1] for x in df.index.tolist()]\n",
    "    \n",
    "    # iterate over recon genes\n",
    "    for gene in recon_genes_paxdb:\n",
    "        keep = []\n",
    "        for ensembl in convert_genesymbol_ensemblprotein[gene]:\n",
    "            if ensembl in df.index:\n",
    "                if df.loc[ensembl]['abundance'] > 0:\n",
    "                    keep.append(df.loc[ensembl]['abundance'])\n",
    "        if len(keep) >= 1:\n",
    "            if gene not in genes:\n",
    "                genes.append(gene)\n",
    "                values.append([np.sum(keep)])\n",
    "            else:\n",
    "                values[genes.index(gene)].append(np.sum(keep))"
   ]
  },
  {
   "cell_type": "markdown",
   "metadata": {},
   "source": [
    "Average protein abundance for Recon3 genes"
   ]
  },
  {
   "cell_type": "code",
   "execution_count": 7,
   "metadata": {},
   "outputs": [],
   "source": [
    "recongenes_averageabundance = {}\n",
    "for i,gene in enumerate(genes):\n",
    "    recongenes_averageabundance[gene] = hmean(values[i])\n",
    "recongenes_averageabundance['_ALL_'] = hmean([item for sublist in values for item in sublist])"
   ]
  },
  {
   "cell_type": "markdown",
   "metadata": {},
   "source": [
    "Save data"
   ]
  },
  {
   "cell_type": "code",
   "execution_count": 8,
   "metadata": {},
   "outputs": [],
   "source": [
    "with open('paxdb.pkl','w') as f:\n",
    "    pickle.dump(recongenes_averageabundance, f)"
   ]
  },
  {
   "cell_type": "code",
   "execution_count": null,
   "metadata": {},
   "outputs": [],
   "source": []
  }
 ],
 "metadata": {
  "kernelspec": {
   "display_name": "Python 2",
   "language": "python",
   "name": "python2"
  },
  "language_info": {
   "codemirror_mode": {
    "name": "ipython",
    "version": 2
   },
   "file_extension": ".py",
   "mimetype": "text/x-python",
   "name": "python",
   "nbconvert_exporter": "python",
   "pygments_lexer": "ipython2",
   "version": "2.7.12"
  }
 },
 "nbformat": 4,
 "nbformat_minor": 2
}
