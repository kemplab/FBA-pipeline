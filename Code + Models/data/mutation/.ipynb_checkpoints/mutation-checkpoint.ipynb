{
 "cells": [
  {
   "cell_type": "markdown",
   "metadata": {},
   "source": [
    "# Data Pipeline - Mutation data"
   ]
  },
  {
   "cell_type": "markdown",
   "metadata": {},
   "source": [
    "## Required Python Libraries"
   ]
  },
  {
   "cell_type": "code",
   "execution_count": null,
   "metadata": {},
   "outputs": [],
   "source": [
    "import glob\n",
    "import numpy as np\n",
    "import pandas as pd\n",
    "import pickle"
   ]
  },
  {
   "cell_type": "markdown",
   "metadata": {},
   "source": [
    "## Envision data"
   ]
  },
  {
   "cell_type": "markdown",
   "metadata": {},
   "source": [
    "Download the file https://envision.gs.washington.edu/shiny/downloads/human_predicted_combined_20170925.csv.bz2. Unzip it, and run the following shell commands to split the large file into multiple smaller files for each Uniprot ID:"
   ]
  },
  {
   "cell_type": "raw",
   "metadata": {},
   "source": [
    "awk -F ',' '{print > $6\".csv\"}' human_predicted_combined_20170925.csv\n",
    "head -n 1 human_predicted_combined_20170925.csv > header.csv\n",
    "rm human_predicted_combined_20170925.csv\n",
    "rm Uniprot.csv\n",
    "sed -i \"1s/^/$(cat header.csv)\\n/\" *.csv\n",
    "rm .csv\n",
    "rm header.csv"
   ]
  },
  {
   "cell_type": "markdown",
   "metadata": {},
   "source": [
    "## TCGA Samples"
   ]
  },
  {
   "cell_type": "markdown",
   "metadata": {},
   "source": [
    "### Input Files"
   ]
  },
  {
   "cell_type": "markdown",
   "metadata": {},
   "source": [
    "Use the GDC Data Transfer Tool (https://gdc.cancer.gov/access-data/gdc-data-transfer-tool) to download TCGA files listed in one of the manifest files. "
   ]
  },
  {
   "cell_type": "raw",
   "metadata": {},
   "source": [
    "gdc-client download -m *manifest_file.txt*"
   ]
  },
  {
   "cell_type": "markdown",
   "metadata": {},
   "source": [
    "You can use data from any of the four somatic variant callers available. TCGA output in this repo are from using Mutect.<br>\n",
    "MuSE: manifest_muse.txt<br>\n",
    "Mutect: manifest_mutect.txt<br>\n",
    "Somatic Sniper: manifest_somaticsniper.txt<br>\n",
    "VarScan: manifest_varscan.txt<br>\n",
    "<br>\n",
    "Rename each .maf file to the associated cohort abbreviation in capital letters. You should have files named 'ACC.maf', 'BLCA.maf', etc."
   ]
  },
  {
   "cell_type": "markdown",
   "metadata": {},
   "source": [
    "### Code"
   ]
  },
  {
   "cell_type": "markdown",
   "metadata": {},
   "source": [
    "Load list of model genes"
   ]
  },
  {
   "cell_type": "code",
   "execution_count": null,
   "metadata": {},
   "outputs": [],
   "source": [
    "model_genes = pd.read_table('../recon/genes.tsv',sep='\\t')"
   ]
  },
  {
   "cell_type": "markdown",
   "metadata": {},
   "source": [
    "Get missense mutations in model genes for every TCGA patient"
   ]
  },
  {
   "cell_type": "code",
   "execution_count": null,
   "metadata": {
    "scrolled": true
   },
   "outputs": [],
   "source": [
    "# initialize results data frame\n",
    "mutations = pd.DataFrame(columns=['SAMPLE','GENE SYMBOL','UNIPROT','POSITION','AA1','AA2','CODON1','CODON2','ENVISION'])\n",
    "\n",
    "# list of enzymes with envision data avialable\n",
    "envision_list = [x.split('.')[0].split('\\\\')[1] for x in glob.glob('input_data/envision/*.csv')]\n",
    "\n",
    "# iterate over maf files\n",
    "for fn in glob.glob('input_data/TCGA/*.maf'):\n",
    "    \n",
    "    # load file\n",
    "    df_maf = pd.read_table(fn,skiprows=[0,1,2,3,4],header=0)\n",
    "    \n",
    "    # only keep missense mutations\n",
    "    df_maf = df_maf[df_maf['Variant_Classification'] == 'Missense_Mutation']\n",
    "    df_maf = df_maf[df_maf['Variant_Type'] == 'SNP']\n",
    "    df_maf = df_maf.reset_index(drop=True)\n",
    "    \n",
    "    # only keep genes in Recon3D\n",
    "    df_maf = df_maf.loc[[i for i,x in enumerate(df_maf['Entrez_Gene_Id']) if str(x) in [str(a) for a in model_genes['GENEID'].values.tolist()]]]\n",
    "    df_maf = df_maf.reset_index(drop=True)\n",
    "    \n",
    "    # only keep genes with associated Uniprot ID\n",
    "    df_maf = df_maf.loc[[i for i,x in enumerate(df_maf['SWISSPROT']) if type(x) == str]]\n",
    "    df_maf = df_maf.reset_index(drop=True)\n",
    "\n",
    "    # iterate over mutations\n",
    "    for i in range(df_maf.shape[0]):\n",
    "        \n",
    "        # add data to dataframe\n",
    "        mutations.loc[mutations.shape[0]] = [df_maf.loc[i]['Tumor_Sample_Barcode'],df_maf.loc[i]['Hugo_Symbol'],df_maf.loc[i]['SWISSPROT'],df_maf.loc[i]['Protein_position'].split('/')[0],df_maf.loc[i]['Amino_acids'].split('/')[0],df_maf.loc[i]['Amino_acids'].split('/')[1],df_maf.loc[i]['Codons'].split('/')[0],df_maf.loc[i]['Codons'].split('/')[1],np.nan]"
   ]
  },
  {
   "cell_type": "markdown",
   "metadata": {},
   "source": [
    "Fix mutation information for genes with multiple mutations at the same position"
   ]
  },
  {
   "cell_type": "code",
   "execution_count": null,
   "metadata": {},
   "outputs": [],
   "source": [
    "# amino acid codons\n",
    "codons = {'TTT':'F','TTC':'F','TTA':'L','TTG':'L','CTT':'L','CTC':'L','CTA':'L','CTG':'L','ATT':'I','ATC':'I','ATA':'I','ATG':'M','GTT':'V','GTC':'V','GTA':'V','GTG':'V','TCT':'S','TCC':'S','TCA':'S','TCG':'S','CCT':'P','CCC':'P','CCA':'P','CCG':'P','ACT':'T','ACC':'T','ACA':'T','ACG':'T','GCT':'A','GCC':'A','GCA':'A','GCG':'A','TAT':'Y','TAC':'Y','TAA':'stop','TAG':'stop','CAT':'H','CAC':'H','CAA':'Q','CAG':'Q','AAT':'N','AAC':'N','AAA':'K','AAG':'K','GAT':'D','GAC':'D','GAA':'E','GAG':'E','TGT':'C','TGC':'C','TGA':'stop','TGG':'W','CGT':'R','CGC':'R','CGA':'R','CGG':'R','AGT':'S','AGC':'S','AGA':'R','AGG':'R','GGT':'G','GGC':'G','GGA':'G','GGG':'G'}\n",
    "\n",
    "# initialize sample dictionary\n",
    "data = {}\n",
    "\n",
    "# iterate over mutations\n",
    "for i in range(mutations.shape[0]):\n",
    "        \n",
    "    # if sample already in dictionary\n",
    "    if mutations.loc[i]['SAMPLE'] in data:\n",
    "        \n",
    "        # if gene already in dictionary\n",
    "        if mutations.loc[i]['GENE SYMBOL'] in data[mutations.loc[i]['SAMPLE']]:\n",
    "            \n",
    "            # if position already in dictionary\n",
    "            if mutations.loc[i]['POSITION'] in data[mutations.loc[i]['SAMPLE']][mutations.loc[i]['GENE SYMBOL']]:\n",
    "                \n",
    "                # add codon to list\n",
    "                data[mutations.loc[i]['SAMPLE']][mutations.loc[i]['GENE SYMBOL']][mutations.loc[i]['POSITION']]['id'].append(i)\n",
    "                data[mutations.loc[i]['SAMPLE']][mutations.loc[i]['GENE SYMBOL']][mutations.loc[i]['POSITION']]['codon'].append(mutations.loc[i]['CODON2'])\n",
    "                \n",
    "            # if position not in dictionary\n",
    "            else:\n",
    "                \n",
    "                # create codon list\n",
    "                data[mutations.loc[i]['SAMPLE']][mutations.loc[i]['GENE SYMBOL']][mutations.loc[i]['POSITION']] = {'id':[i], 'codon':[mutations.loc[i]['CODON2']]}\n",
    "            \n",
    "            \n",
    "        # if gene not in dictionary\n",
    "        else:\n",
    "        \n",
    "            # create codon list\n",
    "            data[mutations.loc[i]['SAMPLE']][mutations.loc[i]['GENE SYMBOL']] = {}\n",
    "            data[mutations.loc[i]['SAMPLE']][mutations.loc[i]['GENE SYMBOL']][mutations.loc[i]['POSITION']] = {'id':[i], 'codon':[mutations.loc[i]['CODON2']]}\n",
    "    \n",
    "    # if sample not in dictionary\n",
    "    else:\n",
    "        \n",
    "        # create codon list\n",
    "        data[mutations.loc[i]['SAMPLE']] = {}\n",
    "        data[mutations.loc[i]['SAMPLE']][mutations.loc[i]['GENE SYMBOL']] = {}\n",
    "        data[mutations.loc[i]['SAMPLE']][mutations.loc[i]['GENE SYMBOL']][mutations.loc[i]['POSITION']] = {'id':[i], 'codon':[mutations.loc[i]['CODON2']]}\n",
    "\n",
    "# remove codon columns\n",
    "mutations = mutations.drop('CODON1', axis=1)\n",
    "mutations = mutations.drop('CODON2', axis=1)\n",
    "\n",
    "# find any positions with two mutations\n",
    "to_remove = []\n",
    "for sample in data:\n",
    "    for gene in data[sample]:\n",
    "        for position in data[sample][gene]:\n",
    "            if len(data[sample][gene][position]['codon']) > 1:\n",
    "                \n",
    "                # build true codon\n",
    "                codon = list(data[sample][gene][position]['codon'][0].upper())\n",
    "                for i in range(1,len(data[sample][gene][position]['codon'])):\n",
    "                    \n",
    "                    # 1st letter capital\n",
    "                    if list(data[sample][gene][position]['codon'][i])[0] in ['A','G','C','T']:\n",
    "                        codon[0] = list(data[sample][gene][position]['codon'][i])[0]\n",
    "                    elif list(data[sample][gene][position]['codon'][i])[1] in ['A','G','C','T']:\n",
    "                        codon[1] = list(data[sample][gene][position]['codon'][i])[1]\n",
    "                    elif list(data[sample][gene][position]['codon'][i])[2] in ['A','G','C','T']:\n",
    "                        codon[2] = list(data[sample][gene][position]['codon'][i])[2]\n",
    "                \n",
    "                codon = ''.join(codon)\n",
    "                \n",
    "                # if stop codon, just remove from data frame\n",
    "                if codons[codon] == 'stop':\n",
    "                    for index in data[sample][gene][position]['id']:\n",
    "                        to_remove.append(index)\n",
    "                \n",
    "                # if not stop codon, change in data frame\n",
    "                else:\n",
    "                    mutations.at[data[sample][gene][position]['id'][0],'AA2'] = codons[codon]\n",
    "                    for index in data[sample][gene][position]['id'][1:]:\n",
    "                        to_remove.append(index)\n",
    " \n",
    "                              \n",
    "mutations = mutations.drop(mutations.index[to_remove]).reset_index(drop=True)"
   ]
  },
  {
   "cell_type": "markdown",
   "metadata": {},
   "source": [
    "Get Envision score for each mutation"
   ]
  },
  {
   "cell_type": "code",
   "execution_count": null,
   "metadata": {},
   "outputs": [],
   "source": [
    "# iterate over mutations\n",
    "for i in range(mutations.shape[0]):\n",
    "\n",
    "    # if envision data available for that protein\n",
    "    if mutations.loc[i]['UNIPROT'] in envision_list:\n",
    "\n",
    "        # load envision data for that protein\n",
    "        df_envision = pd.read_csv('input_data/envision/%s.csv' % mutations.loc[i]['UNIPROT'])\n",
    "\n",
    "        # mutation string\n",
    "        mutation = '%s_%s%s%s' % (mutations.loc[i]['UNIPROT'],mutations.loc[i]['AA1'],mutations.loc[i]['POSITION'],mutations.loc[i]['AA2'])\n",
    "\n",
    "        # if envision score available for this mutation\n",
    "        if mutation in df_envision['id2'].values.tolist():\n",
    "            \n",
    "            # get envision score\n",
    "            mutations.at[i,'ENVISION'] = df_envision.loc[df_envision['id2'].values.tolist().index(mutation)]['Envision_predictions']"
   ]
  },
  {
   "cell_type": "markdown",
   "metadata": {},
   "source": [
    "Combine Envision scores within individual sample and gene, produce output file for each sample"
   ]
  },
  {
   "cell_type": "code",
   "execution_count": null,
   "metadata": {},
   "outputs": [],
   "source": [
    "# initialize sample dictionary\n",
    "data = {}\n",
    "\n",
    "# iterate over mutations\n",
    "for i in range(mutations.shape[0]):\n",
    "    \n",
    "    # if envision score given\n",
    "    if not np.isnan(mutations.loc[i]['ENVISION']):\n",
    "        \n",
    "        # if sample already in dictionary\n",
    "        if mutations.loc[i]['SAMPLE'] in data:\n",
    "            \n",
    "            # if gene already in dictionary\n",
    "            if mutations.loc[i]['GENE SYMBOL'] in data[mutations.loc[i]['SAMPLE']]:\n",
    "                \n",
    "                # multiple original value by current value\n",
    "                data[mutations.loc[i]['SAMPLE']][mutations.loc[i]['GENE SYMBOL']] *= mutations.loc[i]['ENVISION']\n",
    "                \n",
    "            # if gene not in dictionary\n",
    "            else:\n",
    "            \n",
    "                # set current value\n",
    "                data[mutations.loc[i]['SAMPLE']][mutations.loc[i]['GENE SYMBOL']] = mutations.loc[i]['ENVISION']\n",
    "        \n",
    "        # if sample not in dictionary\n",
    "        else:\n",
    "            \n",
    "            # set current value\n",
    "            data[mutations.loc[i]['SAMPLE']] = {}\n",
    "            data[mutations.loc[i]['SAMPLE']][mutations.loc[i]['GENE SYMBOL']] = mutations.loc[i]['ENVISION']\n",
    "\n",
    "# create file for each sample\n",
    "for sample in data:\n",
    "    \n",
    "    # initialize file\n",
    "    with open('TCGA/%s.csv' % sample[:16],'w') as f:\n",
    "        f.write('GENE,ENVISION\\n')\n",
    "        \n",
    "        # write envision scores\n",
    "        for gene in data[sample]:\n",
    "            f.write('%s,%f\\n' % (gene,data[sample][gene]))"
   ]
  },
  {
   "cell_type": "markdown",
   "metadata": {},
   "source": [
    "Save associations between gene symbols and Swissprot accessions"
   ]
  },
  {
   "cell_type": "code",
   "execution_count": null,
   "metadata": {},
   "outputs": [],
   "source": [
    "# initialize dictionary\n",
    "swissprot = {}\n",
    "\n",
    "# load maf files\n",
    "mafs = []\n",
    "for fn in glob.glob('_data_/input/TCGA/*.maf'):\n",
    "    mafs.append(pd.read_table(fn,skiprows=[0,1,2,3,4],header=0))\n",
    "df_maf = pd.concat(mafs, ignore_index=True, sort=False)\n",
    "df_maf = df_maf[['Hugo_Symbol','SWISSPROT']]"
   ]
  },
  {
   "cell_type": "code",
   "execution_count": null,
   "metadata": {},
   "outputs": [],
   "source": [
    "# swissprot\n",
    "swissprot = {}\n",
    "for gene in model_genes['SYMBOL'].tolist():\n",
    "    df_subset = df_maf[df_maf['Hugo_Symbol'] == gene]\n",
    "    founds = list(set(df_subset['SWISSPROT'].tolist()))\n",
    "    if len(founds) == 1:\n",
    "        swissprot[gene] = founds[0]\n",
    "    else:\n",
    "        swissprot[gene] = np.nan"
   ]
  },
  {
   "cell_type": "code",
   "execution_count": null,
   "metadata": {},
   "outputs": [],
   "source": [
    "with open('_data_/processing/swissprot.pickle', 'wb') as f:\n",
    "    pickle.dump(swissprot, f, protocol=pickle.HIGHEST_PROTOCOL)"
   ]
  },
  {
   "cell_type": "markdown",
   "metadata": {},
   "source": [
    "### CCLE Samples"
   ]
  },
  {
   "cell_type": "markdown",
   "metadata": {},
   "source": [
    "### Input Files"
   ]
  },
  {
   "cell_type": "markdown",
   "metadata": {},
   "source": [
    "'CCLE_DepMap_18q3_maf_20180718.txt' - Go to https://portals.broadinstitute.org/ccle/data, download 'CCLE_DepMap_18q3_maf_20180718.txt'"
   ]
  },
  {
   "cell_type": "markdown",
   "metadata": {},
   "source": [
    "### Code"
   ]
  },
  {
   "cell_type": "markdown",
   "metadata": {},
   "source": [
    "Load list of model genes"
   ]
  },
  {
   "cell_type": "code",
   "execution_count": null,
   "metadata": {},
   "outputs": [],
   "source": [
    "model_genes = pd.read_table('../recon/genes.tsv',sep='\\t')"
   ]
  },
  {
   "cell_type": "markdown",
   "metadata": {},
   "source": [
    "Load Swissprot conversion"
   ]
  },
  {
   "cell_type": "code",
   "execution_count": null,
   "metadata": {},
   "outputs": [],
   "source": [
    "with open('_data_/processing/swissprot.pickle', 'r') as f:\n",
    "    swissprot = pickle.load(f)"
   ]
  },
  {
   "cell_type": "markdown",
   "metadata": {},
   "source": [
    "Load CCLE mutation data"
   ]
  },
  {
   "cell_type": "code",
   "execution_count": null,
   "metadata": {},
   "outputs": [],
   "source": [
    "# list of enzymes with envision data avialable\n",
    "envision_list = [x.split('.')[0].split('/')[-1] for x in glob.glob('_data_/input/envision/*.csv')]"
   ]
  },
  {
   "cell_type": "code",
   "execution_count": null,
   "metadata": {
    "scrolled": true
   },
   "outputs": [],
   "source": [
    "# initialize results data frame\n",
    "mutations = pd.DataFrame(columns=['SAMPLE','GENE SYMBOL','UNIPROT','POSITION','AA1','AA2','CODON1','CODON2','ENVISION'])\n",
    "\n",
    "# load file\n",
    "df_maf = pd.read_table('_data_/input/CCLE/CCLE_DepMap_18q3_maf_20180718.txt')\n",
    "\n",
    "# only keep missense mutations\n",
    "df_maf = df_maf[df_maf['Variant_Classification'] == 'Missense_Mutation']\n",
    "df_maf = df_maf[df_maf['Variant_Type'] == 'SNP']\n",
    "df_maf = df_maf.reset_index(drop=True)\n",
    "\n",
    "# only keep genes in Recon3D\n",
    "df_maf = df_maf.loc[[i for i,x in enumerate(df_maf['Entrez_Gene_Id']) if str(x) in [str(a) for a in model_genes['GENEID'].values.tolist()]]]\n",
    "df_maf = df_maf.reset_index(drop=True)"
   ]
  },
  {
   "cell_type": "code",
   "execution_count": null,
   "metadata": {},
   "outputs": [],
   "source": [
    "# only keep genes with associated Uniprot ID\n",
    "df_maf = df_maf.loc[[i for i,x in enumerate(df_maf['Hugo_Symbol']) if x in swissprot]]\n",
    "df_maf = df_maf.reset_index(drop=True)"
   ]
  },
  {
   "cell_type": "code",
   "execution_count": null,
   "metadata": {},
   "outputs": [],
   "source": [
    "# get data\n",
    "df_maf['SAMPLE'] = [x.split('_')[0] for x in df_maf['Tumor_Sample_Barcode'].tolist()]\n",
    "df_maf['GENE SYMBOL'] = df_maf['Hugo_Symbol'].tolist()\n",
    "df_maf['UNIPROT'] = [swissprot[x] for x in df_maf['Hugo_Symbol'].tolist()]\n",
    "df_maf['POSITION'] = [x[3:-1] for x in df_maf['Protein_Change'].tolist()]\n",
    "df_maf['AA1'] = [x[2] for x in df_maf['Protein_Change'].tolist()]\n",
    "df_maf['AA2'] = [x[-1] for x in df_maf['Protein_Change'].tolist()]\n",
    "df_maf['CODON1'] = [x[-7:-4] for x in df_maf['Codon_Change'].tolist()]\n",
    "df_maf['CODON2'] = [x[-3:] for x in df_maf['Codon_Change'].tolist()]\n",
    "df_maf['ENVISION'] = np.nan\n",
    "mutations = df_maf[['SAMPLE','GENE SYMBOL','UNIPROT','POSITION','AA1','AA2','CODON1','CODON2','ENVISION']]"
   ]
  },
  {
   "cell_type": "markdown",
   "metadata": {},
   "source": [
    "Fix mutation information for genes with multiple mutations at the same position"
   ]
  },
  {
   "cell_type": "code",
   "execution_count": null,
   "metadata": {},
   "outputs": [],
   "source": [
    "# amino acid codons\n",
    "codons = {'TTT':'F','TTC':'F','TTA':'L','TTG':'L','CTT':'L','CTC':'L','CTA':'L','CTG':'L','ATT':'I','ATC':'I','ATA':'I','ATG':'M','GTT':'V','GTC':'V','GTA':'V','GTG':'V','TCT':'S','TCC':'S','TCA':'S','TCG':'S','CCT':'P','CCC':'P','CCA':'P','CCG':'P','ACT':'T','ACC':'T','ACA':'T','ACG':'T','GCT':'A','GCC':'A','GCA':'A','GCG':'A','TAT':'Y','TAC':'Y','TAA':'stop','TAG':'stop','CAT':'H','CAC':'H','CAA':'Q','CAG':'Q','AAT':'N','AAC':'N','AAA':'K','AAG':'K','GAT':'D','GAC':'D','GAA':'E','GAG':'E','TGT':'C','TGC':'C','TGA':'stop','TGG':'W','CGT':'R','CGC':'R','CGA':'R','CGG':'R','AGT':'S','AGC':'S','AGA':'R','AGG':'R','GGT':'G','GGC':'G','GGA':'G','GGG':'G'}\n",
    "\n",
    "# initialize sample dictionary\n",
    "data = {}\n",
    "\n",
    "# iterate over mutations\n",
    "for i in range(mutations.shape[0]):\n",
    "        \n",
    "    # if sample already in dictionary\n",
    "    if mutations.loc[i]['SAMPLE'] in data:\n",
    "        \n",
    "        # if gene already in dictionary\n",
    "        if mutations.loc[i]['GENE SYMBOL'] in data[mutations.loc[i]['SAMPLE']]:\n",
    "            \n",
    "            # if position already in dictionary\n",
    "            if mutations.loc[i]['POSITION'] in data[mutations.loc[i]['SAMPLE']][mutations.loc[i]['GENE SYMBOL']]:\n",
    "                \n",
    "                # add codon to list\n",
    "                data[mutations.loc[i]['SAMPLE']][mutations.loc[i]['GENE SYMBOL']][mutations.loc[i]['POSITION']]['id'].append(i)\n",
    "                data[mutations.loc[i]['SAMPLE']][mutations.loc[i]['GENE SYMBOL']][mutations.loc[i]['POSITION']]['codon'].append(mutations.loc[i]['CODON2'])\n",
    "                \n",
    "            # if position not in dictionary\n",
    "            else:\n",
    "                \n",
    "                # create codon list\n",
    "                data[mutations.loc[i]['SAMPLE']][mutations.loc[i]['GENE SYMBOL']][mutations.loc[i]['POSITION']] = {'id':[i], 'codon':[mutations.loc[i]['CODON2']]}\n",
    "            \n",
    "            \n",
    "        # if gene not in dictionary\n",
    "        else:\n",
    "        \n",
    "            # create codon list\n",
    "            data[mutations.loc[i]['SAMPLE']][mutations.loc[i]['GENE SYMBOL']] = {}\n",
    "            data[mutations.loc[i]['SAMPLE']][mutations.loc[i]['GENE SYMBOL']][mutations.loc[i]['POSITION']] = {'id':[i], 'codon':[mutations.loc[i]['CODON2']]}\n",
    "    \n",
    "    # if sample not in dictionary\n",
    "    else:\n",
    "        \n",
    "        # create codon list\n",
    "        data[mutations.loc[i]['SAMPLE']] = {}\n",
    "        data[mutations.loc[i]['SAMPLE']][mutations.loc[i]['GENE SYMBOL']] = {}\n",
    "        data[mutations.loc[i]['SAMPLE']][mutations.loc[i]['GENE SYMBOL']][mutations.loc[i]['POSITION']] = {'id':[i], 'codon':[mutations.loc[i]['CODON2']]}\n",
    "\n",
    "# remove codon columns\n",
    "mutations = mutations.drop('CODON1', axis=1)\n",
    "mutations = mutations.drop('CODON2', axis=1)\n",
    "\n",
    "# find any positions with two mutations\n",
    "to_remove = []\n",
    "for sample in data:\n",
    "    for gene in data[sample]:\n",
    "        for position in data[sample][gene]:\n",
    "            if len(data[sample][gene][position]['codon']) > 1:\n",
    "                \n",
    "                # build true codon\n",
    "                codon = list(data[sample][gene][position]['codon'][0].upper())\n",
    "                for i in range(1,len(data[sample][gene][position]['codon'])):\n",
    "                    \n",
    "                    # 1st letter capital\n",
    "                    if list(data[sample][gene][position]['codon'][i])[0] in ['A','G','C','T']:\n",
    "                        codon[0] = list(data[sample][gene][position]['codon'][i])[0]\n",
    "                    elif list(data[sample][gene][position]['codon'][i])[1] in ['A','G','C','T']:\n",
    "                        codon[1] = list(data[sample][gene][position]['codon'][i])[1]\n",
    "                    elif list(data[sample][gene][position]['codon'][i])[2] in ['A','G','C','T']:\n",
    "                        codon[2] = list(data[sample][gene][position]['codon'][i])[2]\n",
    "                \n",
    "                codon = ''.join(codon)\n",
    "                \n",
    "                # if stop codon, just remove from data frame\n",
    "                if codons[codon] == 'stop':\n",
    "                    for index in data[sample][gene][position]['id']:\n",
    "                        to_remove.append(index)\n",
    "                \n",
    "                # if not stop codon, change in data frame\n",
    "                else:\n",
    "                    mutations.at[data[sample][gene][position]['id'][0],'AA2'] = codons[codon]\n",
    "                    for index in data[sample][gene][position]['id'][1:]:\n",
    "                        to_remove.append(index)\n",
    " \n",
    "                              \n",
    "mutations = mutations.drop(mutations.index[to_remove]).reset_index(drop=True)"
   ]
  },
  {
   "cell_type": "markdown",
   "metadata": {},
   "source": [
    "Get Envision score for each mutation"
   ]
  },
  {
   "cell_type": "code",
   "execution_count": null,
   "metadata": {},
   "outputs": [],
   "source": [
    "# load envision data\n",
    "df_uniprot_list = []\n",
    "uniprot_list = []\n",
    "for uniprot in list(set(mutations['UNIPROT'].tolist())):\n",
    "    if type(uniprot) == str:\n",
    "        if uniprot in envision_list:\n",
    "            df_uniprot_list.append(pd.read_csv('_data_/input/envision/%s.csv' % uniprot))\n",
    "            uniprot_list.append(uniprot)"
   ]
  },
  {
   "cell_type": "code",
   "execution_count": null,
   "metadata": {},
   "outputs": [],
   "source": [
    "# iterate over mutations\n",
    "for i in range(mutations.shape[0]):\n",
    "    \n",
    "    # if uniprot data available\n",
    "    if mutations.loc[i]['UNIPROT'] in uniprot_list:\n",
    "    \n",
    "        # subset uniprot data\n",
    "        df_subset = df_uniprot_list[uniprot_list.index(mutations.loc[i]['UNIPROT'])]\n",
    "        df_subset = df_subset[df_subset['id2'] == '%s_%s%s%s' % (mutations.loc[i]['UNIPROT'],mutations.loc[i]['AA1'],mutations.loc[i]['POSITION'],mutations.loc[i]['AA2'])]\n",
    "\n",
    "        # if value\n",
    "        if df_subset.shape[0] == 1:\n",
    "\n",
    "            # get envision score\n",
    "            mutations.at[i,'ENVISION'] = df_subset['Envision_predictions'].tolist()[0]"
   ]
  },
  {
   "cell_type": "markdown",
   "metadata": {},
   "source": [
    "Combine Envision scores within individual sample and gene, produce output file for each sample"
   ]
  },
  {
   "cell_type": "code",
   "execution_count": null,
   "metadata": {},
   "outputs": [],
   "source": [
    "# initialize sample dictionary\n",
    "data = {}\n",
    "\n",
    "# iterate over mutations\n",
    "for i in range(mutations.shape[0]):\n",
    "    \n",
    "    # if envision score given\n",
    "    if not np.isnan(mutations.loc[i]['ENVISION']):\n",
    "        \n",
    "        # if sample already in dictionary\n",
    "        if mutations.loc[i]['SAMPLE'] in data:\n",
    "            \n",
    "            # if gene already in dictionary\n",
    "            if mutations.loc[i]['GENE SYMBOL'] in data[mutations.loc[i]['SAMPLE']]:\n",
    "                \n",
    "                # multiple original value by current value\n",
    "                data[mutations.loc[i]['SAMPLE']][mutations.loc[i]['GENE SYMBOL']] *= mutations.loc[i]['ENVISION']\n",
    "                \n",
    "            # if gene not in dictionary\n",
    "            else:\n",
    "            \n",
    "                # set current value\n",
    "                data[mutations.loc[i]['SAMPLE']][mutations.loc[i]['GENE SYMBOL']] = mutations.loc[i]['ENVISION']\n",
    "        \n",
    "        # if sample not in dictionary\n",
    "        else:\n",
    "            \n",
    "            # set current value\n",
    "            data[mutations.loc[i]['SAMPLE']] = {}\n",
    "            data[mutations.loc[i]['SAMPLE']][mutations.loc[i]['GENE SYMBOL']] = mutations.loc[i]['ENVISION']"
   ]
  },
  {
   "cell_type": "code",
   "execution_count": null,
   "metadata": {},
   "outputs": [],
   "source": [
    "# create file for each sample\n",
    "for sample in data:\n",
    "    if sample != 'TT':\n",
    "    \n",
    "        # initialize file\n",
    "        with open('CCLE/%s.csv' % sample,'w') as f:\n",
    "            f.write('GENE,ENVISION\\n')\n",
    "\n",
    "            # write envision scores\n",
    "            for gene in data[sample]:\n",
    "                f.write('%s,%f\\n' % (gene,data[sample][gene]))"
   ]
  }
 ],
 "metadata": {
  "kernelspec": {
   "display_name": "Python 3",
   "language": "python",
   "name": "python3"
  },
  "language_info": {
   "codemirror_mode": {
    "name": "ipython",
    "version": 3
   },
   "file_extension": ".py",
   "mimetype": "text/x-python",
   "name": "python",
   "nbconvert_exporter": "python",
   "pygments_lexer": "ipython3",
   "version": "3.7.3"
  },
  "toc": {
   "nav_menu": {},
   "number_sections": true,
   "sideBar": true,
   "skip_h1_title": true,
   "title_cell": "Table of Contents",
   "title_sidebar": "Contents",
   "toc_cell": true,
   "toc_position": {},
   "toc_section_display": true,
   "toc_window_display": false
  }
 },
 "nbformat": 4,
 "nbformat_minor": 2
}
