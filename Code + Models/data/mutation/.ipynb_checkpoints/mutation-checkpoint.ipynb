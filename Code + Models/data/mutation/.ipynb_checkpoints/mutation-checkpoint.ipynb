{
 "cells": [
  {
   "cell_type": "markdown",
   "metadata": {},
   "source": [
    "# Data Pipeline - Mutations"
   ]
  },
  {
   "cell_type": "markdown",
   "metadata": {},
   "source": [
    "## Python 2.7 Required Modules"
   ]
  },
  {
   "cell_type": "code",
   "execution_count": 1,
   "metadata": {},
   "outputs": [],
   "source": [
    "import glob\n",
    "import numpy as np\n",
    "import pandas as pd\n",
    "import pickle"
   ]
  },
  {
   "cell_type": "markdown",
   "metadata": {},
   "source": [
    "## Input Data"
   ]
  },
  {
   "cell_type": "markdown",
   "metadata": {},
   "source": [
    "Download 'mutation/input_data' folder from https://www.dropbox.com/sh/ix63l8zb1kpcdj4/AABpiNF10TFdjO35vy1AjkYDa?dl=0. Place 'input_data' folder in 'qFlux/data/mutation/'. Below details the individual files."
   ]
  },
  {
   "cell_type": "markdown",
   "metadata": {},
   "source": [
    "### Envision data"
   ]
  },
  {
   "cell_type": "markdown",
   "metadata": {},
   "source": [
    "Original data file: https://envision.gs.washington.edu/shiny/downloads/human_predicted_combined_20170925.csv.bz2. This file was unzipped, and the following shell commands were ran to split the large file into ultiple smaller files for each Uniprot ID:"
   ]
  },
  {
   "cell_type": "raw",
   "metadata": {},
   "source": [
    "awk -F ',' '{print > $6\".csv\"}' human_predicted_combined_20170925.csv\n",
    "head -n 1 human_predicted_combined_20170925.csv > header.csv\n",
    "rm human_predicted_combined_20170925.csv\n",
    "rm Uniprot.csv\n",
    "sed -i \"1s/^/$(cat header.csv)\\n/\" *.csv\n",
    "rm .csv\n",
    "rm header.csv"
   ]
  },
  {
   "cell_type": "markdown",
   "metadata": {},
   "source": [
    "### NCI-60 Samples"
   ]
  },
  {
   "cell_type": "markdown",
   "metadata": {},
   "source": [
    "'WES_variants.xlsx' - Go to https://www.cancerrxgene.org/downloads, choose 'Sequencing - Preprocessed - Cell lines - Cell-line sequence variants'"
   ]
  },
  {
   "cell_type": "markdown",
   "metadata": {},
   "source": [
    "### HNSCC Samples"
   ]
  },
  {
   "cell_type": "markdown",
   "metadata": {},
   "source": [
    "'WES_variants.xlsx' - Go to https://www.cancerrxgene.org/downloads, choose 'Sequencing - Preprocessed - Cell lines - Cell-line sequence variants'"
   ]
  },
  {
   "cell_type": "markdown",
   "metadata": {},
   "source": [
    "### TCGA Samples"
   ]
  },
  {
   "cell_type": "markdown",
   "metadata": {},
   "source": [
    "'*COHORT*.maf' - Use the GDC Data Transfer Tool (https://gdc.cancer.gov/access-data/gdc-data-transfer-tool) to download TCGA files listed in one of the manifest files. "
   ]
  },
  {
   "cell_type": "raw",
   "metadata": {},
   "source": [
    "gdc-client download -m *manifest_file.txt*"
   ]
  },
  {
   "cell_type": "markdown",
   "metadata": {},
   "source": [
    "You can use data from any of the four somatic variant callers available. Uploaded results are those using Mutect.<br>\n",
    "MuSE: manifest_muse.txt<br>\n",
    "Mutect: manifest_mutect.txt<br>\n",
    "Somatic Sniper: manifest_somaticsniper.txt<br>\n",
    "VarScan: manifest_varscan.txt<br>\n",
    "<br>\n",
    "Rename each .maf file to the associated cohort abbreviation in capital letters. You should have files named 'ACC.maf', 'BLCA.maf', etc."
   ]
  },
  {
   "cell_type": "markdown",
   "metadata": {},
   "source": [
    "## Extract Envision scores"
   ]
  },
  {
   "cell_type": "markdown",
   "metadata": {},
   "source": [
    "Load list of model genes"
   ]
  },
  {
   "cell_type": "code",
   "execution_count": 2,
   "metadata": {},
   "outputs": [],
   "source": [
    "model_genes = pd.read_table('../recon/genes.tsv',sep='\\t')"
   ]
  },
  {
   "cell_type": "markdown",
   "metadata": {},
   "source": [
    "### TCGA Samples"
   ]
  },
  {
   "cell_type": "markdown",
   "metadata": {},
   "source": [
    "Get missense mutations in model genes for every TCGA patient"
   ]
  },
  {
   "cell_type": "code",
   "execution_count": null,
   "metadata": {
    "scrolled": true
   },
   "outputs": [],
   "source": [
    "# initialize results data frame\n",
    "mutations = pd.DataFrame(columns=['SAMPLE','GENE SYMBOL','UNIPROT','POSITION','AA1','AA2','CODON1','CODON2','ENVISION'])\n",
    "\n",
    "# list of enzymes with envision data avialable\n",
    "envision_list = [x.split('.')[0].split('\\\\')[1] for x in glob.glob('input_data/envision/*.csv')]\n",
    "\n",
    "# iterate over maf files\n",
    "for fn in glob.glob('input_data/TCGA/*.maf'):\n",
    "    \n",
    "    # load file\n",
    "    df_maf = pd.read_table(fn,skiprows=[0,1,2,3,4],header=0)\n",
    "    \n",
    "    # only keep missense mutations\n",
    "    df_maf = df_maf[df_maf['Variant_Classification'] == 'Missense_Mutation']\n",
    "    df_maf = df_maf[df_maf['Variant_Type'] == 'SNP']\n",
    "    df_maf = df_maf.reset_index(drop=True)\n",
    "    \n",
    "    # only keep genes in Recon3D\n",
    "    df_maf = df_maf.loc[[i for i,x in enumerate(df_maf['Entrez_Gene_Id']) if str(x) in [str(a) for a in model_genes['GENEID'].values.tolist()]]]\n",
    "    df_maf = df_maf.reset_index(drop=True)\n",
    "    \n",
    "    # only keep genes with associated Uniprot ID\n",
    "    df_maf = df_maf.loc[[i for i,x in enumerate(df_maf['SWISSPROT']) if type(x) == str]]\n",
    "    df_maf = df_maf.reset_index(drop=True)\n",
    "\n",
    "    # iterate over mutations\n",
    "    for i in range(df_maf.shape[0]):\n",
    "        \n",
    "        # add data to dataframe\n",
    "        mutations.loc[mutations.shape[0]] = [df_maf.loc[i]['Tumor_Sample_Barcode'],df_maf.loc[i]['Hugo_Symbol'],df_maf.loc[i]['SWISSPROT'],df_maf.loc[i]['Protein_position'].split('/')[0],df_maf.loc[i]['Amino_acids'].split('/')[0],df_maf.loc[i]['Amino_acids'].split('/')[1],df_maf.loc[i]['Codons'].split('/')[0],df_maf.loc[i]['Codons'].split('/')[1],np.nan]"
   ]
  },
  {
   "cell_type": "markdown",
   "metadata": {},
   "source": [
    "Fix mutation information for genes with multiple mutations at the same position"
   ]
  },
  {
   "cell_type": "code",
   "execution_count": null,
   "metadata": {},
   "outputs": [],
   "source": [
    "# amino acid codons\n",
    "codons = {'TTT':'F','TTC':'F','TTA':'L','TTG':'L','CTT':'L','CTC':'L','CTA':'L','CTG':'L','ATT':'I','ATC':'I','ATA':'I','ATG':'M','GTT':'V','GTC':'V','GTA':'V','GTG':'V','TCT':'S','TCC':'S','TCA':'S','TCG':'S','CCT':'P','CCC':'P','CCA':'P','CCG':'P','ACT':'T','ACC':'T','ACA':'T','ACG':'T','GCT':'A','GCC':'A','GCA':'A','GCG':'A','TAT':'Y','TAC':'Y','TAA':'stop','TAG':'stop','CAT':'H','CAC':'H','CAA':'Q','CAG':'Q','AAT':'N','AAC':'N','AAA':'K','AAG':'K','GAT':'D','GAC':'D','GAA':'E','GAG':'E','TGT':'C','TGC':'C','TGA':'stop','TGG':'W','CGT':'R','CGC':'R','CGA':'R','CGG':'R','AGT':'S','AGC':'S','AGA':'R','AGG':'R','GGT':'G','GGC':'G','GGA':'G','GGG':'G'}\n",
    "\n",
    "# initialize sample dictionary\n",
    "data = {}\n",
    "\n",
    "# iterate over mutations\n",
    "for i in range(mutations.shape[0]):\n",
    "        \n",
    "    # if sample already in dictionary\n",
    "    if mutations.loc[i]['SAMPLE'] in data:\n",
    "        \n",
    "        # if gene already in dictionary\n",
    "        if mutations.loc[i]['GENE SYMBOL'] in data[mutations.loc[i]['SAMPLE']]:\n",
    "            \n",
    "            # if position already in dictionary\n",
    "            if mutations.loc[i]['POSITION'] in data[mutations.loc[i]['SAMPLE']][mutations.loc[i]['GENE SYMBOL']]:\n",
    "                \n",
    "                # add codon to list\n",
    "                data[mutations.loc[i]['SAMPLE']][mutations.loc[i]['GENE SYMBOL']][mutations.loc[i]['POSITION']]['id'].append(i)\n",
    "                data[mutations.loc[i]['SAMPLE']][mutations.loc[i]['GENE SYMBOL']][mutations.loc[i]['POSITION']]['codon'].append(mutations.loc[i]['CODON2'])\n",
    "                \n",
    "            # if position not in dictionary\n",
    "            else:\n",
    "                \n",
    "                # create codon list\n",
    "                data[mutations.loc[i]['SAMPLE']][mutations.loc[i]['GENE SYMBOL']][mutations.loc[i]['POSITION']] = {'id':[i], 'codon':[mutations.loc[i]['CODON2']]}\n",
    "            \n",
    "            \n",
    "        # if gene not in dictionary\n",
    "        else:\n",
    "        \n",
    "            # create codon list\n",
    "            data[mutations.loc[i]['SAMPLE']][mutations.loc[i]['GENE SYMBOL']] = {}\n",
    "            data[mutations.loc[i]['SAMPLE']][mutations.loc[i]['GENE SYMBOL']][mutations.loc[i]['POSITION']] = {'id':[i], 'codon':[mutations.loc[i]['CODON2']]}\n",
    "    \n",
    "    # if sample not in dictionary\n",
    "    else:\n",
    "        \n",
    "        # create codon list\n",
    "        data[mutations.loc[i]['SAMPLE']] = {}\n",
    "        data[mutations.loc[i]['SAMPLE']][mutations.loc[i]['GENE SYMBOL']] = {}\n",
    "        data[mutations.loc[i]['SAMPLE']][mutations.loc[i]['GENE SYMBOL']][mutations.loc[i]['POSITION']] = {'id':[i], 'codon':[mutations.loc[i]['CODON2']]}\n",
    "\n",
    "# remove codon columns\n",
    "mutations = mutations.drop('CODON1', axis=1)\n",
    "mutations = mutations.drop('CODON2', axis=1)\n",
    "\n",
    "# find any positions with two mutations\n",
    "to_remove = []\n",
    "for sample in data:\n",
    "    for gene in data[sample]:\n",
    "        for position in data[sample][gene]:\n",
    "            if len(data[sample][gene][position]['codon']) > 1:\n",
    "                \n",
    "                # build true codon\n",
    "                codon = list(data[sample][gene][position]['codon'][0].upper())\n",
    "                for i in range(1,len(data[sample][gene][position]['codon'])):\n",
    "                    \n",
    "                    # 1st letter capital\n",
    "                    if list(data[sample][gene][position]['codon'][i])[0] in ['A','G','C','T']:\n",
    "                        codon[0] = list(data[sample][gene][position]['codon'][i])[0]\n",
    "                    elif list(data[sample][gene][position]['codon'][i])[1] in ['A','G','C','T']:\n",
    "                        codon[1] = list(data[sample][gene][position]['codon'][i])[1]\n",
    "                    elif list(data[sample][gene][position]['codon'][i])[2] in ['A','G','C','T']:\n",
    "                        codon[2] = list(data[sample][gene][position]['codon'][i])[2]\n",
    "                \n",
    "                codon = ''.join(codon)\n",
    "                \n",
    "                # if stop codon, just remove from data frame\n",
    "                if codons[codon] == 'stop':\n",
    "                    for index in data[sample][gene][position]['id']:\n",
    "                        to_remove.append(index)\n",
    "                \n",
    "                # if not stop codon, change in data frame\n",
    "                else:\n",
    "                    mutations.at[data[sample][gene][position]['id'][0],'AA2'] = codons[codon]\n",
    "                    for index in data[sample][gene][position]['id'][1:]:\n",
    "                        to_remove.append(index)\n",
    " \n",
    "                              \n",
    "mutations = mutations.drop(mutations.index[to_remove]).reset_index(drop=True)"
   ]
  },
  {
   "cell_type": "markdown",
   "metadata": {},
   "source": [
    "Get Envision score for each mutation"
   ]
  },
  {
   "cell_type": "code",
   "execution_count": null,
   "metadata": {},
   "outputs": [],
   "source": [
    "# iterate over mutations\n",
    "for i in range(mutations.shape[0]):\n",
    "\n",
    "    # if envision data available for that protein\n",
    "    if mutations.loc[i]['UNIPROT'] in envision_list:\n",
    "\n",
    "        # load envision data for that protein\n",
    "        df_envision = pd.read_csv('input_data/envision/%s.csv' % mutations.loc[i]['UNIPROT'])\n",
    "\n",
    "        # mutation string\n",
    "        mutation = '%s_%s%s%s' % (mutations.loc[i]['UNIPROT'],mutations.loc[i]['AA1'],mutations.loc[i]['POSITION'],mutations.loc[i]['AA2'])\n",
    "\n",
    "        # if envision score available for this mutation\n",
    "        if mutation in df_envision['id2'].values.tolist():\n",
    "            \n",
    "            # get envision score\n",
    "            mutations.at[i,'ENVISION'] = df_envision.loc[df_envision['id2'].values.tolist().index(mutation)]['Envision_predictions']"
   ]
  },
  {
   "cell_type": "markdown",
   "metadata": {},
   "source": [
    "Combine Envision scores within individual sample and gene, produce output file for each sample"
   ]
  },
  {
   "cell_type": "code",
   "execution_count": null,
   "metadata": {},
   "outputs": [],
   "source": [
    "# initialize sample dictionary\n",
    "data = {}\n",
    "\n",
    "# iterate over mutations\n",
    "for i in range(mutations.shape[0]):\n",
    "    \n",
    "    # if envision score given\n",
    "    if not np.isnan(mutations.loc[i]['ENVISION']):\n",
    "        \n",
    "        # if sample already in dictionary\n",
    "        if mutations.loc[i]['SAMPLE'] in data:\n",
    "            \n",
    "            # if gene already in dictionary\n",
    "            if mutations.loc[i]['GENE SYMBOL'] in data[mutations.loc[i]['SAMPLE']]:\n",
    "                \n",
    "                # multiple original value by current value\n",
    "                data[mutations.loc[i]['SAMPLE']][mutations.loc[i]['GENE SYMBOL']] *= mutations.loc[i]['ENVISION']\n",
    "                \n",
    "            # if gene not in dictionary\n",
    "            else:\n",
    "            \n",
    "                # set current value\n",
    "                data[mutations.loc[i]['SAMPLE']][mutations.loc[i]['GENE SYMBOL']] = mutations.loc[i]['ENVISION']\n",
    "        \n",
    "        # if sample not in dictionary\n",
    "        else:\n",
    "            \n",
    "            # set current value\n",
    "            data[mutations.loc[i]['SAMPLE']] = {}\n",
    "            data[mutations.loc[i]['SAMPLE']][mutations.loc[i]['GENE SYMBOL']] = mutations.loc[i]['ENVISION']\n",
    "\n",
    "# create file for each sample\n",
    "for sample in data:\n",
    "    \n",
    "    # initialize file\n",
    "    with open('TCGA/%s.csv' % sample[:16],'w') as f:\n",
    "        f.write('GENE,ENVISION\\n')\n",
    "        \n",
    "        # write envision scores\n",
    "        for gene in data[sample]:\n",
    "            f.write('%s,%f\\n' % (gene,data[sample][gene]))"
   ]
  },
  {
   "cell_type": "markdown",
   "metadata": {},
   "source": [
    "Save associations between gene symbols and Swissprot accessions"
   ]
  },
  {
   "cell_type": "code",
   "execution_count": null,
   "metadata": {},
   "outputs": [],
   "source": [
    "# initialize dictionary\n",
    "swissprot = {}\n",
    "\n",
    "# load maf files\n",
    "mafs = []\n",
    "for fn in glob.glob('_data_/input/TCGA/*.maf'):\n",
    "    mafs.append(pd.read_table(fn,skiprows=[0,1,2,3,4],header=0))\n",
    "df_maf = pd.concat(mafs, ignore_index=True, sort=False)\n",
    "df_maf = df_maf[['Hugo_Symbol','SWISSPROT']]"
   ]
  },
  {
   "cell_type": "code",
   "execution_count": 21,
   "metadata": {},
   "outputs": [],
   "source": [
    "# swissprot\n",
    "swissprot = {}\n",
    "for gene in model_genes['SYMBOL'].tolist():\n",
    "    df_subset = df_maf[df_maf['Hugo_Symbol'] == gene]\n",
    "    founds = list(set(df_subset['SWISSPROT'].tolist()))\n",
    "    if len(founds) == 1:\n",
    "        swissprot[gene] = founds[0]\n",
    "    else:\n",
    "        swissprot[gene] = np.nan"
   ]
  },
  {
   "cell_type": "code",
   "execution_count": 23,
   "metadata": {},
   "outputs": [],
   "source": [
    "with open('_data_/processing/swissprot.pickle', 'wb') as f:\n",
    "    pickle.dump(swissprot, f, protocol=pickle.HIGHEST_PROTOCOL)"
   ]
  },
  {
   "cell_type": "markdown",
   "metadata": {},
   "source": [
    "### NCI-60 Samples"
   ]
  },
  {
   "cell_type": "markdown",
   "metadata": {},
   "source": [
    "Load NCI-60 mutation data"
   ]
  },
  {
   "cell_type": "code",
   "execution_count": null,
   "metadata": {},
   "outputs": [],
   "source": [
    "# load data\n",
    "wb = pd.ExcelFile('input_data/NCI60/WES_variants.xlsx')\n",
    "mutation_data = wb.parse('WES_variants')\n",
    "\n",
    "# load clinical information\n",
    "clinical = pd.read_csv('../clinical/input_data/NCI60/NCI60.csv',index_col=0)\n",
    "\n",
    "# amino acid codons\n",
    "codons = {'TTT':'F','TTC':'F','TTA':'L','TTG':'L','CTT':'L','CTC':'L','CTA':'L','CTG':'L','ATT':'I','ATC':'I','ATA':'I','ATG':'M','GTT':'V','GTC':'V','GTA':'V','GTG':'V','TCT':'S','TCC':'S','TCA':'S','TCG':'S','CCT':'P','CCC':'P','CCA':'P','CCG':'P','ACT':'T','ACC':'T','ACA':'T','ACG':'T','GCT':'A','GCC':'A','GCA':'A','GCG':'A','TAT':'Y','TAC':'Y','TAA':'stop','TAG':'stop','CAT':'H','CAC':'H','CAA':'Q','CAG':'Q','AAT':'N','AAC':'N','AAA':'K','AAG':'K','GAT':'D','GAC':'D','GAA':'E','GAG':'E','TGT':'C','TGC':'C','TGA':'stop','TGG':'W','CGT':'R','CGC':'R','CGA':'R','CGG':'R','AGT':'S','AGC':'S','AGA':'R','AGG':'R','GGT':'G','GGC':'G','GGA':'G','GGG':'G'}\n",
    "\n",
    "# extract mutation data for each cell line\n",
    "mutations = []\n",
    "celllines = []\n",
    "for cell in clinical.index.tolist():\n",
    "    \n",
    "    # if has COSMIC ID\n",
    "    if not np.isnan(clinical.loc[cell]['COSMIC']):\n",
    "        \n",
    "        # subset data\n",
    "        celllines.append(cell)\n",
    "        df_mutations_subset = mutation_data.loc[mutation_data['COSMIC_ID'] == int(clinical.loc[cell,'COSMIC'])]\n",
    "        df_mutations_subset = df_mutations_subset.reset_index(drop=True)\n",
    "        df_mutations_subset['UNIPROT'] = ''\n",
    "        df_mutations_subset['POSITION'] = ''\n",
    "        df_mutations_subset['AA1'] = ''\n",
    "        df_mutations_subset['AA2'] = ''\n",
    "        df_mutations_subset['CODON1'] = ''\n",
    "        df_mutations_subset['CODON2'] = ''\n",
    "        keep = []\n",
    "        \n",
    "        # iterate over mutations    \n",
    "        for i in range(df_mutations_subset.shape[0]):\n",
    "            \n",
    "            # if missense mutation, gene is in model, gene has known uniprot\n",
    "            if (df_mutations_subset.loc[i]['Classification'] == 'missense') and (df_mutations_subset.loc[i]['Gene'] in [x for x in model_genes['SYMBOL'].values.tolist() if x != '-']):\n",
    "                \n",
    "                # if gene has known uniprot\n",
    "                if df_mutations_subset.loc[i]['Gene'] in swissprot:\n",
    "                    if (swissprot[df_mutations_subset.loc[i]['Gene']][0] != '-'):\n",
    "\n",
    "                        # figure out codons\n",
    "                        possible_codons_1 = [x for x in codons if codons[x] == df_mutations_subset.loc[i]['AA'][2]]\n",
    "                        possible_codons_2 = [x for x in codons if codons[x] == df_mutations_subset.loc[i]['AA'][-1]]\n",
    "                        possibilities_1 = []\n",
    "                        possibilities_2 = []\n",
    "                        for a in range(len(possible_codons_1)):\n",
    "                            for b in range(len(possible_codons_2)):\n",
    "\n",
    "                                # check first letter\n",
    "                                if (possible_codons_1[a][0] != possible_codons_2[b][0]) and (possible_codons_1[a][1] == possible_codons_2[b][1]) and (possible_codons_1[a][2] == possible_codons_2[b][2]):\n",
    "                                    if (possible_codons_1[a][0] == df_mutations_subset.loc[i]['cDNA'][-3]) and (possible_codons_2[b][0] == df_mutations_subset.loc[i]['cDNA'][-1]):\n",
    "                                        possibilities_1.append(possible_codons_1[a])\n",
    "                                        possibilities_2.append(possible_codons_2[b])\n",
    "\n",
    "                                # check second letter\n",
    "                                elif (possible_codons_1[a][0] == possible_codons_2[b][0]) and (possible_codons_1[a][1] != possible_codons_2[b][1]) and (possible_codons_1[a][2] == possible_codons_2[b][2]):\n",
    "                                    if (possible_codons_1[a][1] == df_mutations_subset.loc[i]['cDNA'][-3]) and (possible_codons_2[b][1] == df_mutations_subset.loc[i]['cDNA'][-1]):\n",
    "                                        possibilities_1.append(possible_codons_1[a])\n",
    "                                        possibilities_2.append(possible_codons_2[b])\n",
    "\n",
    "                                # check third letter\n",
    "                                elif (possible_codons_1[a][0] == possible_codons_2[b][0]) and (possible_codons_1[a][1] == possible_codons_2[b][1]) and (possible_codons_1[a][2] != possible_codons_2[b][2]):\n",
    "                                    if (possible_codons_1[a][2] == df_mutations_subset.loc[i]['cDNA'][-3]) and (possible_codons_2[b][2] == df_mutations_subset.loc[i]['cDNA'][-1]):\n",
    "                                        possibilities_1.append(possible_codons_1[a])\n",
    "                                        possibilities_2.append(possible_codons_2[b])\n",
    "\n",
    "                        # build consensus codon\n",
    "                        codon1 = 'XXX'\n",
    "                        codon2 = 'XXX'\n",
    "                        if len(list(set([x[0] for x in possibilities_1]))) == 1:\n",
    "                            codon1 = list(set([x[0] for x in possibilities_1]))[0] + codon1[1:]\n",
    "                        if len(list(set([x[1] for x in possibilities_1]))) == 1:\n",
    "                            codon1 = codon1[0] + list(set([x[1] for x in possibilities_1]))[0] + codon1[2]\n",
    "                        if len(list(set([x[2] for x in possibilities_1]))) == 1:\n",
    "                            codon1 = codon1[:2] + list(set([x[2] for x in possibilities_1]))[0]\n",
    "                        if len(list(set([x[0] for x in possibilities_2]))) == 1:\n",
    "                            codon2 = list(set([x[0] for x in possibilities_2]))[0] + codon2[1:]\n",
    "                        if len(list(set([x[1] for x in possibilities_2]))) == 1:\n",
    "                            codon2 = codon2[0] + list(set([x[1] for x in possibilities_2]))[0] + codon2[2]\n",
    "                        if len(list(set([x[2] for x in possibilities_2]))) == 1:\n",
    "                            codon2 = codon2[:2] + list(set([x[2] for x in possibilities_2]))[0]\n",
    "\n",
    "                        # lowercase non-changing letters\n",
    "                        if codon1[0] == codon2[0]:\n",
    "                            codon1 = codon1[0].lower() + codon1[1:]\n",
    "                            codon2 = codon2[0].lower() + codon2[1:]\n",
    "                        if codon1[1] == codon2[1]:\n",
    "                            codon1 = codon1[0] + codon1[1].lower() + codon1[2]\n",
    "                            codon2 = codon2[0] + codon2[1].lower() + codon2[2]\n",
    "                        if codon1[2] == codon2[2]:\n",
    "                            codon1 = codon1[:2] + codon1[2].lower()\n",
    "                            codon2 = codon2[:2] + codon2[2].lower()\n",
    "\n",
    "                        # add codons to dataframe\n",
    "                        df_mutations_subset.at[i,'UNIPROT'] = swissprot[df_mutations_subset.loc[i]['Gene']][0]\n",
    "                        df_mutations_subset.at[i,'POSITION'] = df_mutations_subset.loc[i]['AA'][3:-1]\n",
    "                        df_mutations_subset.at[i,'AA1'] = df_mutations_subset.loc[i]['AA'][2]\n",
    "                        df_mutations_subset.at[i,'AA2'] = df_mutations_subset.loc[i]['AA'][-1]\n",
    "                        df_mutations_subset.at[i,'CODON1'] = codon1\n",
    "                        df_mutations_subset.at[i,'CODON2'] = codon2\n",
    "\n",
    "                        # keep data\n",
    "                        keep.append(i)\n",
    "                \n",
    "        # only keep necessary information\n",
    "        df_mutations_subset['GENE'] = df_mutations_subset['Gene']\n",
    "        df_mutations_subset = df_mutations_subset[['GENE','UNIPROT','POSITION','AA1','AA2','CODON1','CODON2']]\n",
    "        df_mutations_subset = df_mutations_subset.iloc[keep]\n",
    "        \n",
    "        # save data\n",
    "        mutations.append(df_mutations_subset.reset_index(drop=True))"
   ]
  },
  {
   "cell_type": "markdown",
   "metadata": {},
   "source": [
    "Fix mutation information for genes with multiple mutations at the same position"
   ]
  },
  {
   "cell_type": "code",
   "execution_count": null,
   "metadata": {},
   "outputs": [],
   "source": [
    "# iterate over celllines\n",
    "for a in range(len(mutations)):\n",
    "    \n",
    "    # initialize sample dictionary\n",
    "    data = {}\n",
    "\n",
    "    # iterate over mutations\n",
    "    for i in range(mutations[a].shape[0]):\n",
    "\n",
    "        # if gene already in dictionary\n",
    "        if mutations[a].loc[i]['GENE'] in data:\n",
    "\n",
    "            # if position already in dictionary\n",
    "            if mutations[a].loc[i]['POSITION'] in data[mutations[a].loc[i]['GENE']]:\n",
    "\n",
    "                # add codon to list\n",
    "                data[mutations[a].loc[i]['GENE']][mutations[a].loc[i]['POSITION']]['id'].append(i)\n",
    "                data[mutations[a].loc[i]['GENE']][mutations[a].loc[i]['POSITION']]['codon1'].append(mutations[a].loc[i]['CODON1'])\n",
    "                data[mutations[a].loc[i]['GENE']][mutations[a].loc[i]['POSITION']]['codon2'].append(mutations[a].loc[i]['CODON2'])\n",
    "\n",
    "            # if position not in dictionary\n",
    "            else:\n",
    "\n",
    "                # create codon list\n",
    "                data[mutations[a].loc[i]['GENE']][mutations[a].loc[i]['POSITION']] = {'id':[i], 'codon1':[mutations[a].loc[i]['CODON1']], 'codon2':[mutations[a].loc[i]['CODON2']]}\n",
    "\n",
    "\n",
    "        # if gene not in dictionary\n",
    "        else:\n",
    "\n",
    "            # create codon list\n",
    "            data[mutations[a].loc[i]['GENE']] = {}\n",
    "            data[mutations[a].loc[i]['GENE']][mutations[a].loc[i]['POSITION']] = {'id':[i], 'codon1':[mutations[a].loc[i]['CODON1']], 'codon2':[mutations[a].loc[i]['CODON2']]}\n",
    "\n",
    "    # remove codon columns\n",
    "    mutations[a] = mutations[a].drop('CODON1', axis=1)\n",
    "    mutations[a] = mutations[a].drop('CODON2', axis=1)\n",
    "\n",
    "    # find any positions with two mutations\n",
    "    to_remove = []\n",
    "    for gene in data:\n",
    "        for position in data[gene]:\n",
    "            if len(data[gene][position]['id']) > 1:\n",
    "\n",
    "                # build true codon\n",
    "                codon = list(data[gene][position]['codon1'][0].upper())\n",
    "                for i in range(len(data[gene][position]['id'])):\n",
    "                    if 'X' not in  data[gene][position]['codon1'][i].upper():\n",
    "                        codon = list(data[gene][position]['codon1'][i].upper())\n",
    "                        break     \n",
    "                \n",
    "                for i in range(len(data[gene][position]['id'])):\n",
    "\n",
    "                    # 1st letter capital\n",
    "                    if list(data[gene][position]['codon2'][i])[0] in ['A','G','C','T']:\n",
    "                        codon[0] = list(data[gene][position]['codon2'][i])[0]\n",
    "                    elif list(data[gene][position]['codon2'][i])[1] in ['A','G','C','T']:\n",
    "                        codon[1] = list(data[gene][position]['codon2'][i])[1]\n",
    "                    elif list(data[gene][position]['codon2'][i])[2] in ['A','G','C','T']:\n",
    "                        codon[2] = list(data[gene][position]['codon2'][i])[2]\n",
    "\n",
    "                codon = ''.join(codon)\n",
    "\n",
    "                # if stop codon, just remove from data frame\n",
    "                if codon in codons:\n",
    "                    if codons[codon] == 'stop':\n",
    "                        for index in data[gene][position]['id']:\n",
    "                            to_remove.append(index)\n",
    "                            \n",
    "                    # if not stop codon, change in data frame\n",
    "                    else:\n",
    "                        mutations[a].at[data[gene][position]['id'][0],'AA2'] = codons[codon]\n",
    "                        for index in data[gene][position]['id'][1:]:\n",
    "                            to_remove.append(index)\n",
    "                            \n",
    "                # if 'X' in codon, just remove from data frame       \n",
    "                else:\n",
    "                    for index in data[gene][position]['id']:\n",
    "                        to_remove.append(index)\n",
    "\n",
    "    mutations[a] = mutations[a].drop(mutations[a].index[to_remove]).reset_index(drop=True)"
   ]
  },
  {
   "cell_type": "markdown",
   "metadata": {},
   "source": [
    "Get Envision score for each mutation"
   ]
  },
  {
   "cell_type": "code",
   "execution_count": null,
   "metadata": {},
   "outputs": [],
   "source": [
    "# list of enzymes with envision data avialable\n",
    "envision_list = [x.split('.')[0].split('\\\\')[1] for x in glob.glob('input_data/envision/*.csv')]\n",
    "\n",
    "# iterate over celllines\n",
    "for a in range(len(mutations)):\n",
    "\n",
    "    # iterate over mutations\n",
    "    for i in range(mutations[a].shape[0]):\n",
    "\n",
    "        # if envision data available for that protein\n",
    "        if mutations[a].loc[i]['UNIPROT'] in envision_list:\n",
    "\n",
    "            # load envision data for that protein\n",
    "            df_envision = pd.read_csv('input_data/envision/%s.csv' % mutations[a].loc[i]['UNIPROT'])\n",
    "\n",
    "            # mutation string\n",
    "            mutation = '%s_%s%s%s' % (mutations[a].loc[i]['UNIPROT'],mutations[a].loc[i]['AA1'],mutations[a].loc[i]['POSITION'],mutations[a].loc[i]['AA2'])\n",
    "\n",
    "            # if envision score available for this mutation\n",
    "            if mutation in df_envision['id2'].values.tolist():\n",
    "\n",
    "                # get envision score\n",
    "                mutations[a].at[i,'ENVISION'] = df_envision.loc[df_envision['id2'].values.tolist().index(mutation)]['Envision_predictions']"
   ]
  },
  {
   "cell_type": "markdown",
   "metadata": {},
   "source": [
    "Combine Envision scores within individual sample and gene, produce output file for each sample"
   ]
  },
  {
   "cell_type": "code",
   "execution_count": null,
   "metadata": {},
   "outputs": [],
   "source": [
    "# initialize sample dictionary\n",
    "data = {}\n",
    "\n",
    "# iterate over cell lines\n",
    "for a in range(len(mutations)):\n",
    "    \n",
    "    # add sample to dictionary\n",
    "    sample = celllines[a]\n",
    "    data[sample] = {}\n",
    "    \n",
    "    # iterate over mutations\n",
    "    for i in range(mutations[a].shape[0]):\n",
    "\n",
    "        # if envision score given\n",
    "        if not np.isnan(mutations[a].loc[i]['ENVISION']):\n",
    "            \n",
    "            # if gene already in dictionary\n",
    "            if mutations[a].loc[i]['GENE'] in data[sample]:\n",
    "\n",
    "                # multiple original value by current value\n",
    "                data[sample][mutations[a].loc[i]['GENE']] *= mutations[a].loc[i]['ENVISION']\n",
    "\n",
    "            # if gene not in dictionary\n",
    "            else:\n",
    "\n",
    "                # set current value\n",
    "                data[sample][mutations[a].loc[i]['GENE']] = mutations[a].loc[i]['ENVISION']\n",
    "                               \n",
    "# create file for each sample\n",
    "for sample in data:\n",
    "    \n",
    "    # initialize file\n",
    "    with open('NCI60/%s.csv' % sample.replace('/','-'),'w') as f:\n",
    "        f.write('GENE,ENVISION\\n')\n",
    "        \n",
    "        # write envision scores\n",
    "        for gene in data[sample]:\n",
    "            f.write('%s,%f\\n' % (gene,data[sample][gene]))"
   ]
  },
  {
   "cell_type": "markdown",
   "metadata": {},
   "source": [
    "### HNSCC Samples"
   ]
  },
  {
   "cell_type": "markdown",
   "metadata": {},
   "source": [
    "Load HNSCC mutation data"
   ]
  },
  {
   "cell_type": "code",
   "execution_count": null,
   "metadata": {},
   "outputs": [],
   "source": [
    "# load data\n",
    "wb = pd.ExcelFile('input_data/HNSCC/WES_variants.xlsx')\n",
    "mutation_data = wb.parse('WES_variants')\n",
    "\n",
    "# load clinical information\n",
    "clinical = pd.read_csv('../clinical/input_data/HNSCC/HNSCC.csv',index_col=0)\n",
    "\n",
    "# amino acid codons\n",
    "codons = {'TTT':'F','TTC':'F','TTA':'L','TTG':'L','CTT':'L','CTC':'L','CTA':'L','CTG':'L','ATT':'I','ATC':'I','ATA':'I','ATG':'M','GTT':'V','GTC':'V','GTA':'V','GTG':'V','TCT':'S','TCC':'S','TCA':'S','TCG':'S','CCT':'P','CCC':'P','CCA':'P','CCG':'P','ACT':'T','ACC':'T','ACA':'T','ACG':'T','GCT':'A','GCC':'A','GCA':'A','GCG':'A','TAT':'Y','TAC':'Y','TAA':'stop','TAG':'stop','CAT':'H','CAC':'H','CAA':'Q','CAG':'Q','AAT':'N','AAC':'N','AAA':'K','AAG':'K','GAT':'D','GAC':'D','GAA':'E','GAG':'E','TGT':'C','TGC':'C','TGA':'stop','TGG':'W','CGT':'R','CGC':'R','CGA':'R','CGG':'R','AGT':'S','AGC':'S','AGA':'R','AGG':'R','GGT':'G','GGC':'G','GGA':'G','GGG':'G'}\n",
    "\n",
    "# extract mutation data for each cell line\n",
    "mutations = []\n",
    "celllines = []\n",
    "for cell in clinical.index.tolist():\n",
    "    \n",
    "    # if has COSMIC ID\n",
    "    if not np.isnan(clinical.loc[cell]['COSMIC']):\n",
    "        \n",
    "        # subset data\n",
    "        celllines.append(cell)\n",
    "        df_mutations_subset = mutation_data.loc[mutation_data['COSMIC_ID'] == int(clinical.loc[cell,'COSMIC'])]\n",
    "        df_mutations_subset = df_mutations_subset.reset_index(drop=True)\n",
    "        df_mutations_subset['UNIPROT'] = ''\n",
    "        df_mutations_subset['POSITION'] = ''\n",
    "        df_mutations_subset['AA1'] = ''\n",
    "        df_mutations_subset['AA2'] = ''\n",
    "        df_mutations_subset['CODON1'] = ''\n",
    "        df_mutations_subset['CODON2'] = ''\n",
    "        keep = []\n",
    "        \n",
    "         # iterate over mutations\n",
    "        for i in range(df_mutations_subset.shape[0]):\n",
    "            \n",
    "            # if missense mutation, gene is in model, gene has known uniprot\n",
    "            if (df_mutations_subset.loc[i]['Classification'] == 'missense') and (df_mutations_subset.loc[i]['Gene'] in [x for x in model_genes['SYMBOL'].values.tolist() if x != '-']):\n",
    "                \n",
    "                # if gene has known uniprot\n",
    "                if df_mutations_subset.loc[i]['Gene'] in swissprot:\n",
    "                    if (swissprot[df_mutations_subset.loc[i]['Gene']][0] != '-'):\n",
    "\n",
    "                        # figure out codons\n",
    "                        possible_codons_1 = [x for x in codons if codons[x] == df_mutations_subset.loc[i]['AA'][2]]\n",
    "                        possible_codons_2 = [x for x in codons if codons[x] == df_mutations_subset.loc[i]['AA'][-1]]\n",
    "                        possibilities_1 = []\n",
    "                        possibilities_2 = []\n",
    "                        for a in range(len(possible_codons_1)):\n",
    "                            for b in range(len(possible_codons_2)):\n",
    "\n",
    "                                # check first letter\n",
    "                                if (possible_codons_1[a][0] != possible_codons_2[b][0]) and (possible_codons_1[a][1] == possible_codons_2[b][1]) and (possible_codons_1[a][2] == possible_codons_2[b][2]):\n",
    "                                    if (possible_codons_1[a][0] == df_mutations_subset.loc[i]['cDNA'][-3]) and (possible_codons_2[b][0] == df_mutations_subset.loc[i]['cDNA'][-1]):\n",
    "                                        possibilities_1.append(possible_codons_1[a])\n",
    "                                        possibilities_2.append(possible_codons_2[b])\n",
    "\n",
    "                                # check second letter\n",
    "                                elif (possible_codons_1[a][0] == possible_codons_2[b][0]) and (possible_codons_1[a][1] != possible_codons_2[b][1]) and (possible_codons_1[a][2] == possible_codons_2[b][2]):\n",
    "                                    if (possible_codons_1[a][1] == df_mutations_subset.loc[i]['cDNA'][-3]) and (possible_codons_2[b][1] == df_mutations_subset.loc[i]['cDNA'][-1]):\n",
    "                                        possibilities_1.append(possible_codons_1[a])\n",
    "                                        possibilities_2.append(possible_codons_2[b])\n",
    "\n",
    "                                # check third letter\n",
    "                                elif (possible_codons_1[a][0] == possible_codons_2[b][0]) and (possible_codons_1[a][1] == possible_codons_2[b][1]) and (possible_codons_1[a][2] != possible_codons_2[b][2]):\n",
    "                                    if (possible_codons_1[a][2] == df_mutations_subset.loc[i]['cDNA'][-3]) and (possible_codons_2[b][2] == df_mutations_subset.loc[i]['cDNA'][-1]):\n",
    "                                        possibilities_1.append(possible_codons_1[a])\n",
    "                                        possibilities_2.append(possible_codons_2[b])\n",
    "\n",
    "                        # build consensus codon\n",
    "                        codon1 = 'XXX'\n",
    "                        codon2 = 'XXX'\n",
    "                        if len(list(set([x[0] for x in possibilities_1]))) == 1:\n",
    "                            codon1 = list(set([x[0] for x in possibilities_1]))[0] + codon1[1:]\n",
    "                        if len(list(set([x[1] for x in possibilities_1]))) == 1:\n",
    "                            codon1 = codon1[0] + list(set([x[1] for x in possibilities_1]))[0] + codon1[2]\n",
    "                        if len(list(set([x[2] for x in possibilities_1]))) == 1:\n",
    "                            codon1 = codon1[:2] + list(set([x[2] for x in possibilities_1]))[0]\n",
    "                        if len(list(set([x[0] for x in possibilities_2]))) == 1:\n",
    "                            codon2 = list(set([x[0] for x in possibilities_2]))[0] + codon2[1:]\n",
    "                        if len(list(set([x[1] for x in possibilities_2]))) == 1:\n",
    "                            codon2 = codon2[0] + list(set([x[1] for x in possibilities_2]))[0] + codon2[2]\n",
    "                        if len(list(set([x[2] for x in possibilities_2]))) == 1:\n",
    "                            codon2 = codon2[:2] + list(set([x[2] for x in possibilities_2]))[0]\n",
    "\n",
    "                        # lowercase non-changing letters\n",
    "                        if codon1[0] == codon2[0]:\n",
    "                            codon1 = codon1[0].lower() + codon1[1:]\n",
    "                            codon2 = codon2[0].lower() + codon2[1:]\n",
    "                        if codon1[1] == codon2[1]:\n",
    "                            codon1 = codon1[0] + codon1[1].lower() + codon1[2]\n",
    "                            codon2 = codon2[0] + codon2[1].lower() + codon2[2]\n",
    "                        if codon1[2] == codon2[2]:\n",
    "                            codon1 = codon1[:2] + codon1[2].lower()\n",
    "                            codon2 = codon2[:2] + codon2[2].lower()\n",
    "\n",
    "                        # add codons to dataframe\n",
    "                        df_mutations_subset.at[i,'UNIPROT'] = swissprot[df_mutations_subset.loc[i]['Gene']][0]\n",
    "                        df_mutations_subset.at[i,'POSITION'] = df_mutations_subset.loc[i]['AA'][3:-1]\n",
    "                        df_mutations_subset.at[i,'AA1'] = df_mutations_subset.loc[i]['AA'][2]\n",
    "                        df_mutations_subset.at[i,'AA2'] = df_mutations_subset.loc[i]['AA'][-1]\n",
    "                        df_mutations_subset.at[i,'CODON1'] = codon1\n",
    "                        df_mutations_subset.at[i,'CODON2'] = codon2\n",
    "\n",
    "                        # keep data\n",
    "                        keep.append(i)\n",
    "                \n",
    "        # only keep necessary information\n",
    "        df_mutations_subset['GENE'] = df_mutations_subset['Gene']\n",
    "        df_mutations_subset = df_mutations_subset[['GENE','UNIPROT','POSITION','AA1','AA2','CODON1','CODON2']]\n",
    "        df_mutations_subset = df_mutations_subset.iloc[keep]\n",
    "        \n",
    "        # save data\n",
    "        mutations.append(df_mutations_subset.reset_index(drop=True))"
   ]
  },
  {
   "cell_type": "markdown",
   "metadata": {},
   "source": [
    "Fix mutation information for genes with multiple mutations at the same position"
   ]
  },
  {
   "cell_type": "code",
   "execution_count": null,
   "metadata": {},
   "outputs": [],
   "source": [
    "# iterate over celllines\n",
    "for a in range(len(mutations)):\n",
    "    \n",
    "    # initialize sample dictionary\n",
    "    data = {}\n",
    "\n",
    "    # iterate over mutations\n",
    "    for i in range(mutations[a].shape[0]):\n",
    "\n",
    "        # if gene already in dictionary\n",
    "        if mutations[a].loc[i]['GENE'] in data:\n",
    "\n",
    "            # if position already in dictionary\n",
    "            if mutations[a].loc[i]['POSITION'] in data[mutations[a].loc[i]['GENE']]:\n",
    "\n",
    "                # add codon to list\n",
    "                data[mutations[a].loc[i]['GENE']][mutations[a].loc[i]['POSITION']]['id'].append(i)\n",
    "                data[mutations[a].loc[i]['GENE']][mutations[a].loc[i]['POSITION']]['codon1'].append(mutations[a].loc[i]['CODON1'])\n",
    "                data[mutations[a].loc[i]['GENE']][mutations[a].loc[i]['POSITION']]['codon2'].append(mutations[a].loc[i]['CODON2'])\n",
    "\n",
    "            # if position not in dictionary\n",
    "            else:\n",
    "\n",
    "                # create codon list\n",
    "                data[mutations[a].loc[i]['GENE']][mutations[a].loc[i]['POSITION']] = {'id':[i], 'codon1':[mutations[a].loc[i]['CODON1']], 'codon2':[mutations[a].loc[i]['CODON2']]}\n",
    "\n",
    "\n",
    "        # if gene not in dictionary\n",
    "        else:\n",
    "\n",
    "            # create codon list\n",
    "            data[mutations[a].loc[i]['GENE']] = {}\n",
    "            data[mutations[a].loc[i]['GENE']][mutations[a].loc[i]['POSITION']] = {'id':[i], 'codon1':[mutations[a].loc[i]['CODON1']], 'codon2':[mutations[a].loc[i]['CODON2']]}\n",
    "\n",
    "    # remove codon columns\n",
    "    mutations[a] = mutations[a].drop('CODON1', axis=1)\n",
    "    mutations[a] = mutations[a].drop('CODON2', axis=1)\n",
    "\n",
    "    # find any positions with two mutations\n",
    "    to_remove = []\n",
    "    for gene in data:\n",
    "        for position in data[gene]:\n",
    "            if len(data[gene][position]['id']) > 1:\n",
    "\n",
    "                # build true codon\n",
    "                codon = list(data[gene][position]['codon1'][0].upper())\n",
    "                for i in range(len(data[gene][position]['id'])):\n",
    "                    if 'X' not in  data[gene][position]['codon1'][i].upper():\n",
    "                        codon = list(data[gene][position]['codon1'][i].upper())\n",
    "                        break     \n",
    "                \n",
    "                for i in range(len(data[gene][position]['id'])):\n",
    "\n",
    "                    # 1st letter capital\n",
    "                    if list(data[gene][position]['codon2'][i])[0] in ['A','G','C','T']:\n",
    "                        codon[0] = list(data[gene][position]['codon2'][i])[0]\n",
    "                    elif list(data[gene][position]['codon2'][i])[1] in ['A','G','C','T']:\n",
    "                        codon[1] = list(data[gene][position]['codon2'][i])[1]\n",
    "                    elif list(data[gene][position]['codon2'][i])[2] in ['A','G','C','T']:\n",
    "                        codon[2] = list(data[gene][position]['codon2'][i])[2]\n",
    "\n",
    "                codon = ''.join(codon)\n",
    "\n",
    "                # if stop codon, just remove from data frame\n",
    "                if codon in codons:\n",
    "                    if codons[codon] == 'stop':\n",
    "                        for index in data[gene][position]['id']:\n",
    "                            to_remove.append(index)\n",
    "                            \n",
    "                    # if not stop codon, change in data frame\n",
    "                    else:\n",
    "                        mutations[a].at[data[gene][position]['id'][0],'AA2'] = codons[codon]\n",
    "                        for index in data[gene][position]['id'][1:]:\n",
    "                            to_remove.append(index)\n",
    "                            \n",
    "                # if 'X' in codon, just remove from data frame       \n",
    "                else:\n",
    "                    for index in data[gene][position]['id']:\n",
    "                        to_remove.append(index)\n",
    "\n",
    "    mutations[a] = mutations[a].drop(mutations[a].index[to_remove]).reset_index(drop=True)"
   ]
  },
  {
   "cell_type": "markdown",
   "metadata": {},
   "source": [
    "Get Envision score for each mutation"
   ]
  },
  {
   "cell_type": "code",
   "execution_count": null,
   "metadata": {},
   "outputs": [],
   "source": [
    "# list of enzymes with envision data avialable\n",
    "envision_list = [x.split('.')[0].split('\\\\')[1] for x in glob.glob('input_data/envision/*.csv')]\n",
    "\n",
    "# iterate over celllines\n",
    "for a in range(len(mutations)):\n",
    "\n",
    "    # iterate over mutations\n",
    "    for i in range(mutations[a].shape[0]):\n",
    "\n",
    "        # if envision data available for that protein\n",
    "        if mutations[a].loc[i]['UNIPROT'] in envision_list:\n",
    "\n",
    "            # load envision data for that protein\n",
    "            df_envision = pd.read_csv('input_data/envision/%s.csv' % mutations[a].loc[i]['UNIPROT'])\n",
    "\n",
    "            # mutation string\n",
    "            mutation = '%s_%s%s%s' % (mutations[a].loc[i]['UNIPROT'],mutations[a].loc[i]['AA1'],mutations[a].loc[i]['POSITION'],mutations[a].loc[i]['AA2'])\n",
    "\n",
    "            # if envision score available for this mutation\n",
    "            if mutation in df_envision['id2'].values.tolist():\n",
    "\n",
    "                # get envision score\n",
    "                mutations[a].at[i,'ENVISION'] = df_envision.loc[df_envision['id2'].values.tolist().index(mutation)]['Envision_predictions']"
   ]
  },
  {
   "cell_type": "markdown",
   "metadata": {},
   "source": [
    "Combine Envision scores within individual sample and gene, produce output file for each sample"
   ]
  },
  {
   "cell_type": "code",
   "execution_count": null,
   "metadata": {},
   "outputs": [],
   "source": [
    "# initialize sample dictionary\n",
    "data = {}\n",
    "\n",
    "# iterate over cell lines\n",
    "for a in range(len(mutations)):\n",
    "    \n",
    "    # add sample to dictionary\n",
    "    sample = celllines[a]\n",
    "    data[sample] = {}\n",
    "    \n",
    "    # iterate over mutations\n",
    "    for i in range(mutations[a].shape[0]):\n",
    "\n",
    "        # if envision score given\n",
    "        if not np.isnan(mutations[a].loc[i]['ENVISION']):\n",
    "            \n",
    "            # if gene already in dictionary\n",
    "            if mutations[a].loc[i]['GENE'] in data[sample]:\n",
    "\n",
    "                # multiple original value by current value\n",
    "                data[sample][mutations[a].loc[i]['GENE']] *= mutations[a].loc[i]['ENVISION']\n",
    "\n",
    "            # if gene not in dictionary\n",
    "            else:\n",
    "\n",
    "                # set current value\n",
    "                data[sample][mutations[a].loc[i]['GENE']] = mutations[a].loc[i]['ENVISION']\n",
    "                               \n",
    "# create file for each sample\n",
    "for sample in data:\n",
    "    \n",
    "    # initialize file\n",
    "    with open('HNSCC/%s.csv' % sample.replace('/','-'),'w') as f:\n",
    "        f.write('GENE,ENVISION\\n')\n",
    "        \n",
    "        # write envision scores\n",
    "        for gene in data[sample]:\n",
    "            f.write('%s,%f\\n' % (gene,data[sample][gene]))"
   ]
  },
  {
   "cell_type": "markdown",
   "metadata": {},
   "source": [
    "### CCLE Samples"
   ]
  },
  {
   "cell_type": "markdown",
   "metadata": {},
   "source": [
    "Load Swissprot conversion"
   ]
  },
  {
   "cell_type": "code",
   "execution_count": 3,
   "metadata": {},
   "outputs": [],
   "source": [
    "with open('_data_/processing/swissprot.pickle', 'r') as f:\n",
    "    swissprot = pickle.load(f)"
   ]
  },
  {
   "cell_type": "markdown",
   "metadata": {},
   "source": [
    "Load CCLE mutation data"
   ]
  },
  {
   "cell_type": "code",
   "execution_count": 6,
   "metadata": {},
   "outputs": [],
   "source": [
    "# list of enzymes with envision data avialable\n",
    "envision_list = [x.split('.')[0].split('/')[-1] for x in glob.glob('_data_/input/envision/*.csv')]"
   ]
  },
  {
   "cell_type": "code",
   "execution_count": 4,
   "metadata": {
    "scrolled": true
   },
   "outputs": [
    {
     "name": "stderr",
     "output_type": "stream",
     "text": [
      "/home/josh/.local/lib/python2.7/site-packages/IPython/core/interactiveshell.py:2714: DtypeWarning: Columns (3,25,26,27,30,31) have mixed types. Specify dtype option on import or set low_memory=False.\n",
      "  interactivity=interactivity, compiler=compiler, result=result)\n"
     ]
    }
   ],
   "source": [
    "# initialize results data frame\n",
    "mutations = pd.DataFrame(columns=['SAMPLE','GENE SYMBOL','UNIPROT','POSITION','AA1','AA2','CODON1','CODON2','ENVISION'])\n",
    "\n",
    "# load file\n",
    "df_maf = pd.read_table('_data_/input/CCLE/CCLE_DepMap_18q3_maf_20180718.txt')\n",
    "\n",
    "# only keep missense mutations\n",
    "df_maf = df_maf[df_maf['Variant_Classification'] == 'Missense_Mutation']\n",
    "df_maf = df_maf[df_maf['Variant_Type'] == 'SNP']\n",
    "df_maf = df_maf.reset_index(drop=True)\n",
    "\n",
    "# only keep genes in Recon3D\n",
    "df_maf = df_maf.loc[[i for i,x in enumerate(df_maf['Entrez_Gene_Id']) if str(x) in [str(a) for a in model_genes['GENEID'].values.tolist()]]]\n",
    "df_maf = df_maf.reset_index(drop=True)"
   ]
  },
  {
   "cell_type": "code",
   "execution_count": 5,
   "metadata": {},
   "outputs": [],
   "source": [
    "# only keep genes with associated Uniprot ID\n",
    "df_maf = df_maf.loc[[i for i,x in enumerate(df_maf['Hugo_Symbol']) if x in swissprot]]\n",
    "df_maf = df_maf.reset_index(drop=True)"
   ]
  },
  {
   "cell_type": "code",
   "execution_count": 6,
   "metadata": {},
   "outputs": [],
   "source": [
    "# get data\n",
    "df_maf['SAMPLE'] = [x.split('_')[0] for x in df_maf['Tumor_Sample_Barcode'].tolist()]\n",
    "df_maf['GENE SYMBOL'] = df_maf['Hugo_Symbol'].tolist()\n",
    "df_maf['UNIPROT'] = [swissprot[x] for x in df_maf['Hugo_Symbol'].tolist()]\n",
    "df_maf['POSITION'] = [x[3:-1] for x in df_maf['Protein_Change'].tolist()]\n",
    "df_maf['AA1'] = [x[2] for x in df_maf['Protein_Change'].tolist()]\n",
    "df_maf['AA2'] = [x[-1] for x in df_maf['Protein_Change'].tolist()]\n",
    "df_maf['CODON1'] = [x[-7:-4] for x in df_maf['Codon_Change'].tolist()]\n",
    "df_maf['CODON2'] = [x[-3:] for x in df_maf['Codon_Change'].tolist()]\n",
    "df_maf['ENVISION'] = np.nan\n",
    "mutations = df_maf[['SAMPLE','GENE SYMBOL','UNIPROT','POSITION','AA1','AA2','CODON1','CODON2','ENVISION']]"
   ]
  },
  {
   "cell_type": "markdown",
   "metadata": {},
   "source": [
    "Fix mutation information for genes with multiple mutations at the same position"
   ]
  },
  {
   "cell_type": "code",
   "execution_count": 7,
   "metadata": {},
   "outputs": [],
   "source": [
    "# amino acid codons\n",
    "codons = {'TTT':'F','TTC':'F','TTA':'L','TTG':'L','CTT':'L','CTC':'L','CTA':'L','CTG':'L','ATT':'I','ATC':'I','ATA':'I','ATG':'M','GTT':'V','GTC':'V','GTA':'V','GTG':'V','TCT':'S','TCC':'S','TCA':'S','TCG':'S','CCT':'P','CCC':'P','CCA':'P','CCG':'P','ACT':'T','ACC':'T','ACA':'T','ACG':'T','GCT':'A','GCC':'A','GCA':'A','GCG':'A','TAT':'Y','TAC':'Y','TAA':'stop','TAG':'stop','CAT':'H','CAC':'H','CAA':'Q','CAG':'Q','AAT':'N','AAC':'N','AAA':'K','AAG':'K','GAT':'D','GAC':'D','GAA':'E','GAG':'E','TGT':'C','TGC':'C','TGA':'stop','TGG':'W','CGT':'R','CGC':'R','CGA':'R','CGG':'R','AGT':'S','AGC':'S','AGA':'R','AGG':'R','GGT':'G','GGC':'G','GGA':'G','GGG':'G'}\n",
    "\n",
    "# initialize sample dictionary\n",
    "data = {}\n",
    "\n",
    "# iterate over mutations\n",
    "for i in range(mutations.shape[0]):\n",
    "        \n",
    "    # if sample already in dictionary\n",
    "    if mutations.loc[i]['SAMPLE'] in data:\n",
    "        \n",
    "        # if gene already in dictionary\n",
    "        if mutations.loc[i]['GENE SYMBOL'] in data[mutations.loc[i]['SAMPLE']]:\n",
    "            \n",
    "            # if position already in dictionary\n",
    "            if mutations.loc[i]['POSITION'] in data[mutations.loc[i]['SAMPLE']][mutations.loc[i]['GENE SYMBOL']]:\n",
    "                \n",
    "                # add codon to list\n",
    "                data[mutations.loc[i]['SAMPLE']][mutations.loc[i]['GENE SYMBOL']][mutations.loc[i]['POSITION']]['id'].append(i)\n",
    "                data[mutations.loc[i]['SAMPLE']][mutations.loc[i]['GENE SYMBOL']][mutations.loc[i]['POSITION']]['codon'].append(mutations.loc[i]['CODON2'])\n",
    "                \n",
    "            # if position not in dictionary\n",
    "            else:\n",
    "                \n",
    "                # create codon list\n",
    "                data[mutations.loc[i]['SAMPLE']][mutations.loc[i]['GENE SYMBOL']][mutations.loc[i]['POSITION']] = {'id':[i], 'codon':[mutations.loc[i]['CODON2']]}\n",
    "            \n",
    "            \n",
    "        # if gene not in dictionary\n",
    "        else:\n",
    "        \n",
    "            # create codon list\n",
    "            data[mutations.loc[i]['SAMPLE']][mutations.loc[i]['GENE SYMBOL']] = {}\n",
    "            data[mutations.loc[i]['SAMPLE']][mutations.loc[i]['GENE SYMBOL']][mutations.loc[i]['POSITION']] = {'id':[i], 'codon':[mutations.loc[i]['CODON2']]}\n",
    "    \n",
    "    # if sample not in dictionary\n",
    "    else:\n",
    "        \n",
    "        # create codon list\n",
    "        data[mutations.loc[i]['SAMPLE']] = {}\n",
    "        data[mutations.loc[i]['SAMPLE']][mutations.loc[i]['GENE SYMBOL']] = {}\n",
    "        data[mutations.loc[i]['SAMPLE']][mutations.loc[i]['GENE SYMBOL']][mutations.loc[i]['POSITION']] = {'id':[i], 'codon':[mutations.loc[i]['CODON2']]}\n",
    "\n",
    "# remove codon columns\n",
    "mutations = mutations.drop('CODON1', axis=1)\n",
    "mutations = mutations.drop('CODON2', axis=1)\n",
    "\n",
    "# find any positions with two mutations\n",
    "to_remove = []\n",
    "for sample in data:\n",
    "    for gene in data[sample]:\n",
    "        for position in data[sample][gene]:\n",
    "            if len(data[sample][gene][position]['codon']) > 1:\n",
    "                \n",
    "                # build true codon\n",
    "                codon = list(data[sample][gene][position]['codon'][0].upper())\n",
    "                for i in range(1,len(data[sample][gene][position]['codon'])):\n",
    "                    \n",
    "                    # 1st letter capital\n",
    "                    if list(data[sample][gene][position]['codon'][i])[0] in ['A','G','C','T']:\n",
    "                        codon[0] = list(data[sample][gene][position]['codon'][i])[0]\n",
    "                    elif list(data[sample][gene][position]['codon'][i])[1] in ['A','G','C','T']:\n",
    "                        codon[1] = list(data[sample][gene][position]['codon'][i])[1]\n",
    "                    elif list(data[sample][gene][position]['codon'][i])[2] in ['A','G','C','T']:\n",
    "                        codon[2] = list(data[sample][gene][position]['codon'][i])[2]\n",
    "                \n",
    "                codon = ''.join(codon)\n",
    "                \n",
    "                # if stop codon, just remove from data frame\n",
    "                if codons[codon] == 'stop':\n",
    "                    for index in data[sample][gene][position]['id']:\n",
    "                        to_remove.append(index)\n",
    "                \n",
    "                # if not stop codon, change in data frame\n",
    "                else:\n",
    "                    mutations.at[data[sample][gene][position]['id'][0],'AA2'] = codons[codon]\n",
    "                    for index in data[sample][gene][position]['id'][1:]:\n",
    "                        to_remove.append(index)\n",
    " \n",
    "                              \n",
    "mutations = mutations.drop(mutations.index[to_remove]).reset_index(drop=True)"
   ]
  },
  {
   "cell_type": "markdown",
   "metadata": {},
   "source": [
    "Get Envision score for each mutation"
   ]
  },
  {
   "cell_type": "code",
   "execution_count": 24,
   "metadata": {},
   "outputs": [],
   "source": [
    "# load envision data\n",
    "df_uniprot_list = []\n",
    "uniprot_list = []\n",
    "for uniprot in list(set(mutations['UNIPROT'].tolist())):\n",
    "    if type(uniprot) == str:\n",
    "        if uniprot in envision_list:\n",
    "            df_uniprot_list.append(pd.read_csv('_data_/input/envision/%s.csv' % uniprot))\n",
    "            uniprot_list.append(uniprot)"
   ]
  },
  {
   "cell_type": "code",
   "execution_count": 50,
   "metadata": {},
   "outputs": [],
   "source": [
    "# iterate over mutations\n",
    "for i in range(mutations.shape[0]):\n",
    "    \n",
    "    # if uniprot data available\n",
    "    if mutations.loc[i]['UNIPROT'] in uniprot_list:\n",
    "    \n",
    "        # subset uniprot data\n",
    "        df_subset = df_uniprot_list[uniprot_list.index(mutations.loc[i]['UNIPROT'])]\n",
    "        df_subset = df_subset[df_subset['id2'] == '%s_%s%s%s' % (mutations.loc[i]['UNIPROT'],mutations.loc[i]['AA1'],mutations.loc[i]['POSITION'],mutations.loc[i]['AA2'])]\n",
    "\n",
    "        # if value\n",
    "        if df_subset.shape[0] == 1:\n",
    "\n",
    "            # get envision score\n",
    "            mutations.at[i,'ENVISION'] = df_subset['Envision_predictions'].tolist()[0]"
   ]
  },
  {
   "cell_type": "markdown",
   "metadata": {},
   "source": [
    "Combine Envision scores within individual sample and gene, produce output file for each sample"
   ]
  },
  {
   "cell_type": "code",
   "execution_count": 52,
   "metadata": {},
   "outputs": [],
   "source": [
    "# initialize sample dictionary\n",
    "data = {}\n",
    "\n",
    "# iterate over mutations\n",
    "for i in range(mutations.shape[0]):\n",
    "    \n",
    "    # if envision score given\n",
    "    if not np.isnan(mutations.loc[i]['ENVISION']):\n",
    "        \n",
    "        # if sample already in dictionary\n",
    "        if mutations.loc[i]['SAMPLE'] in data:\n",
    "            \n",
    "            # if gene already in dictionary\n",
    "            if mutations.loc[i]['GENE SYMBOL'] in data[mutations.loc[i]['SAMPLE']]:\n",
    "                \n",
    "                # multiple original value by current value\n",
    "                data[mutations.loc[i]['SAMPLE']][mutations.loc[i]['GENE SYMBOL']] *= mutations.loc[i]['ENVISION']\n",
    "                \n",
    "            # if gene not in dictionary\n",
    "            else:\n",
    "            \n",
    "                # set current value\n",
    "                data[mutations.loc[i]['SAMPLE']][mutations.loc[i]['GENE SYMBOL']] = mutations.loc[i]['ENVISION']\n",
    "        \n",
    "        # if sample not in dictionary\n",
    "        else:\n",
    "            \n",
    "            # set current value\n",
    "            data[mutations.loc[i]['SAMPLE']] = {}\n",
    "            data[mutations.loc[i]['SAMPLE']][mutations.loc[i]['GENE SYMBOL']] = mutations.loc[i]['ENVISION']"
   ]
  },
  {
   "cell_type": "code",
   "execution_count": 54,
   "metadata": {},
   "outputs": [],
   "source": [
    "# create file for each sample\n",
    "for sample in data:\n",
    "    if sample != 'TT':\n",
    "    \n",
    "        # initialize file\n",
    "        with open('CCLE/%s.csv' % sample,'w') as f:\n",
    "            f.write('GENE,ENVISION\\n')\n",
    "\n",
    "            # write envision scores\n",
    "            for gene in data[sample]:\n",
    "                f.write('%s,%f\\n' % (gene,data[sample][gene]))"
   ]
  },
  {
   "cell_type": "markdown",
   "metadata": {},
   "source": [
    "Gray VE, Hause RJ, Luebeck J, Shendure J, Fowler DM. Quantitative missense variant effect prediction using large-scale mutagenesis data. Cell Systems. 2018;6(1):116-124. doi: 10.1016/j.cels.2017.11.003. PubMed PMID: 29226803. "
   ]
  }
 ],
 "metadata": {
  "kernelspec": {
   "display_name": "Python 2",
   "language": "python",
   "name": "python2"
  },
  "language_info": {
   "codemirror_mode": {
    "name": "ipython",
    "version": 2
   },
   "file_extension": ".py",
   "mimetype": "text/x-python",
   "name": "python",
   "nbconvert_exporter": "python",
   "pygments_lexer": "ipython2",
   "version": "2.7.12"
  },
  "toc": {
   "nav_menu": {},
   "number_sections": true,
   "sideBar": true,
   "skip_h1_title": true,
   "title_cell": "Table of Contents",
   "title_sidebar": "Contents",
   "toc_cell": true,
   "toc_position": {},
   "toc_section_display": true,
   "toc_window_display": false
  }
 },
 "nbformat": 4,
 "nbformat_minor": 2
}
